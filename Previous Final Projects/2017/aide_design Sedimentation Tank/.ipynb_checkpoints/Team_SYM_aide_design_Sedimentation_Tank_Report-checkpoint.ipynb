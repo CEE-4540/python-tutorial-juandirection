{
 "cells": [
  {
   "cell_type": "markdown",
   "metadata": {},
   "source": [
    "# Capstone Design: Sedimentation Tank Remainder\n",
    "\n",
    "### Team SYM\n",
    "\n",
    "### Shiyao Sun and Melanie Lim"
   ]
  },
  {
   "cell_type": "code",
   "execution_count": 1,
   "metadata": {
    "collapsed": true
   },
   "outputs": [],
   "source": [
    "from aide_design.play import*\n",
    "from aide_design import floc_model as floc\n",
    "from pytexit import py2tex\n",
    "import math\n",
    "from aide_design import expert_inputs as exp"
   ]
  },
  {
   "cell_type": "markdown",
   "metadata": {},
   "source": [
    "<div class=\"alert alert-block alert-info\">\n",
    "\n",
    "# <u>Introduction</u>\n",
    "\n",
    "The goal of this Capstone Design challenge is to design a sedimentation tank that can be used in multiple communities. According to given inputs focused on the remainder of the sedimentation tank, the tank dimensions can be calculated using flow equations and functions we have learned throughout this semester.\n"
   ]
  },
  {
   "cell_type": "markdown",
   "metadata": {},
   "source": [
    "## Specify all the assumptions"
   ]
  },
  {
   "cell_type": "code",
   "execution_count": 2,
   "metadata": {
    "collapsed": true
   },
   "outputs": [],
   "source": [
    "# The assumptions below are constraints we used to calculate dimensions of the sed tank.\n",
    "# These assumptions can be adjusted based on various sedimentation tank design parameters and inputs.\n",
    "# The sample calculations are calculated based on these assumptions, while the functions can be \n",
    "# applied to various designs.\n",
    "\n",
    "# The PVC pipe used to make the inlet manifold determines the length of the sedimentation tank\n",
    "L_sed = 6 * u.m\n",
    "\n",
    "# The diffuser pipes used in the sedimentation tank have an SDR of 26.\n",
    "# The manifold used in the sedimentation tank has an SDR of 41.\n",
    "SDR_diffuser = 26\n",
    "SDR_manifold = 41\n",
    "\n",
    "# Upflow velocity at the top of the floc blanket:\n",
    "V_sed_up = 1 * u.mm/u.s\n",
    "\n",
    "# The corrugated plastic sheets used to make the plate settlers:\n",
    "# The width of the sedimentation tank is determined by the plastic sheets\n",
    "W_sed = (42 * u.inch).to(u.m)\n",
    "thickness_sed_plate = 2 * u.mm\n",
    "\n",
    "# The plate settlers are angled 60° from the horizontal:\n",
    "angle_sed_plate = 60 * u.deg\n",
    "\n",
    "# Assume the metal plates used to mold the diffusers to have 1/16\" increments of thickness\n",
    "increments_metal = 1/16 \n",
    "\n",
    "# The plate setters are spaced 2.5cm apart (this is the perpendicular\n",
    "# distance between plates, not the horizontal distance between plates):\n",
    "s_sed_plate = 2.5 * u.cm\n",
    "\n",
    "# Plate settler capture velocity:\n",
    "V_sed_capture = 0.12 * u.mm/u.s\n",
    "\n",
    "# The minimum port flow (from the first port) divided by the maximum port \n",
    "# flow (from the last port) for flow division between sedimentation tanks \n",
    "# and for flow distribution from the inlet manifold should be at least:\n",
    "Q_ratio = 0.8\n",
    "\n",
    "# Assumed stretch of the PVC pipes as they are heated and molded:\n",
    "Pi_PVC_stretch = 1.2\n",
    "\n",
    "# Nominal diameter of the sed tank diffuser\n",
    "ND_sed_diffuser = 1 * u.inch\n",
    "\n",
    "# Assume the minor loss coefficient to be 1\n",
    "K = 1\n",
    "\n",
    "# Assume the inlet manifold of this sedimentation tank has a head loss of 1 cm\n",
    "headloss_sed_inlet_max = 1 * u.cm\n",
    "\n",
    "# Assume headloss exiting the tank is 5 cm\n",
    "headloss_exit = 5 * u.cm\n",
    "\n",
    "# Assume Vena contract (VC) is 0.63\n",
    "VC = exp.RATIO_VC_ORIFICE\n",
    "\n",
    "# Assume spacing between orifices in outlet manifold is 10cm\n",
    "spacing_orifices = 10 * u.cm\n",
    "\n",
    "g = pc.gravity"
   ]
  },
  {
   "cell_type": "markdown",
   "metadata": {},
   "source": [
    "## Inlet Diffusers"
   ]
  },
  {
   "cell_type": "markdown",
   "metadata": {},
   "source": [
    "Diffusers are created by deforming the PVC pipe. The inner width of the rectangle is created by forcing the pipe over a rectangular wedge, which is the thickness calculated as the minimum inner width. During the molding process, PVC pipe wall cross-sectional area is conserved. The pipe wall is stretched in total length approximately 20%. Another way to think about this is that the thickness of the wall is reduced by a factor of 1/1.2 because the mass of PVC is conserved and the density is unchanged. Thus, volume and cross-sectional area are conserved.  \n",
    "The PVC cross-sectional area is given using the following equation: \n",
    "$$Area_{PVC}=2\\left (B_{diffuser}+W_{diffuser} \\right )thickness_{wall}$$"
   ]
  },
  {
   "cell_type": "markdown",
   "metadata": {},
   "source": [
    "The maximum diffuser velocity is given using the following equation: \n",
    "$$Vel_{Diffuser,Max}=\\left(\\frac{2\\,Headloss_{SedInlet,Max}\\,g}{K_{Minor}}\\right)^{\\frac{1}{2}}$$"
   ]
  },
  {
   "cell_type": "code",
   "execution_count": 3,
   "metadata": {
    "collapsed": false
   },
   "outputs": [
    {
     "name": "stdout",
     "output_type": "stream",
     "text": [
      "The width of the diffuser is 0.3175 cm.\n"
     ]
    }
   ],
   "source": [
    "# Find the pipe's outer diameter according to its nominal diameter\n",
    "OD_sed_diffuser = pipe.OD(ND_sed_diffuser)\n",
    "\n",
    "# Find the pipe's inner diameter\n",
    "ID_sed_diffuser = pipe.ID_SDR(ND_sed_diffuser,SDR_diffuser)\n",
    "\n",
    "# Find the area of the PVC\n",
    "Area_pvc = np.pi * (OD_sed_diffuser/2)**2 - np.pi * (ID_sed_diffuser/2)**2\n",
    "\n",
    "# Find the thickness of the diffuser\n",
    "thickness_wall = 1 / Pi_PVC_stretch * (OD_sed_diffuser - ID_sed_diffuser) /2 \n",
    "\n",
    "def Width_diffuser (W_sed, V_sed_up, max_headloss, minorloss_coefficient,increments_metal):\n",
    "    MaxV_diffuser = np.sqrt (2 * g * max_headloss / minorloss_coefficient)\n",
    "    MinInnerW_diffuser = (V_sed_up * W_sed / MaxV_diffuser).to(u.inch)\n",
    "    Available_thickness = np.arange(increments_metal, MinInnerW_diffuser.magnitude + increments_metal,increments_metal)\n",
    "    Width_diffuser = (ut.ceil_nearest(MinInnerW_diffuser.magnitude,Available_thickness))*u.inch\n",
    "    return (Width_diffuser)\n",
    "\n",
    "Width_diffuser = Width_diffuser (W_sed, V_sed_up, headloss_sed_inlet_max,K,increments_metal)\n",
    "print('The width of the diffuser is ' + ut.sig(Width_diffuser.to(u.cm),4) +'.')\n",
    "\n",
    "# Find the outer length of the rectangular diffuser slot\n",
    "B_diffuser = Area_pvc / thickness_wall / 2 - Width_diffuser\n",
    "\n",
    "# Find the inner length of the rectangular diffuser slot\n",
    "S_diffuser = B_diffuser - 2 * thickness_wall\n",
    "Q_diffuser = V_sed_up * W_sed * B_diffuser\n",
    "V_diffuser = Q_diffuser / Width_diffuser / S_diffuser"
   ]
  },
  {
   "cell_type": "markdown",
   "metadata": {},
   "source": [
    "## Inlet Manifold"
   ]
  },
  {
   "cell_type": "markdown",
   "metadata": {},
   "source": [
    "We want to distribute flow uniformly among the diffusers of the inlet manifold.\n",
    "* The first equation is:\n",
    "$$\\left(\\frac{1 - {\\Pi_{DiffuserFlow}}^{2}}{{\\Pi_{DiffuserFlow}}^{2} + 1} \\right) {hl}_{ParallelPath} = \\frac{{{Velocity}_{Manifold}}^{2}}{4g}$$\n",
    "Where pi_diffuserFlow represents the ratio of minimum (first diffuser port) to maximum (last diffuser port) flow.\n",
    "* The second equation calculates the diameter of the inlet manifold pipe:\n",
    "$$ Inner Diameter of Manifold =\\sqrt{ \\frac{\\left( {{Q_{sed}}} \\right) *4}{{Velocity}_{Manifold} {\\pi}} }$$"
   ]
  },
  {
   "cell_type": "code",
   "execution_count": 4,
   "metadata": {
    "collapsed": false
   },
   "outputs": [
    {
     "name": "stdout",
     "output_type": "stream",
     "text": [
      "The nominal diameter of the inlet manifold is 20.32 cm.\n"
     ]
    }
   ],
   "source": [
    "def ND_inlet_manifold(L_sed, W_sed, V_Upflow, V_diffuser, SDR_manifold, Q_ratio):\n",
    "    hl = V_diffuser **2 / 2 / pc.gravity\n",
    "    max_velocity =  ((1-Q_ratio **2)/(Q_ratio**2+1) * hl * 4 * pc.gravity) ** (1/2) \n",
    "    Q_sed = L_sed * W_sed * V_Upflow\n",
    "    Min_ID_manifold =((Q_sed / max_velocity) / math.pi * 4) ** (1/2)\n",
    "    return (pipe.ND_SDR_available(Min_ID_manifold, SDR_manifold))\n",
    "\n",
    "ND_inlet_manifold = ND_inlet_manifold(L_sed, W_sed, V_sed_up, V_diffuser, SDR_manifold, Q_ratio)\n",
    "print('The nominal diameter of the inlet manifold is ' + ut.sig(ND_inlet_manifold.to(u.cm),4) +'.')"
   ]
  },
  {
   "cell_type": "markdown",
   "metadata": {},
   "source": [
    "## Plate Settlers"
   ]
  },
  {
   "cell_type": "markdown",
   "metadata": {},
   "source": [
    "![Screen%20Shot%202017-12-11%20at%204.16.06%20PM.png](attachment:Screen%20Shot%202017-12-11%20at%204.16.06%20PM.png)"
   ]
  },
  {
   "cell_type": "markdown",
   "metadata": {},
   "source": [
    "* S: Distance between plate settlers\n",
    "* B: Center to center distance\n",
    "* T: Plate settler thickness\n",
    "* V_Active: Vertical velocity component beneath the plate settlers\n",
    "* V_plate: Vertical velocity component between the plate settlers\n",
    "* The equation used to calculate the length of the plate settlers:\n",
    "$$L = \\frac{{S\\left( {\\frac{{{V_{Plate \\uparrow }}}}{{{V_c}}} - 1} \\right)+ T \\frac{V_{Plate \\uparrow }}{V_C} }} {{\\sin \\alpha \\cos \\alpha }}$$\n",
    "\n",
    "Net vertical velocity is equal to the difference between the vertical velocity component between plate settlers and the capture velocity. The equation is established by equating the time a particle needs to travel distance h and h_c. \n",
    "* We used this middle-step to reach the final equation:\n",
    "$$\\frac{h_c}{V_c} = \\frac{h} {{V_{Plate \\uparrow}}-{V_c}}$$\n",
    "\n",
    "$$\\frac{S}{V_c cos(\\alpha)} = \\frac{L sin(\\alpha)} {{V_{Plate \\uparrow }}-{V_c}}$$\n",
    "\n",
    "* The equation used to calculate the vertical height of the plate settlers:\n",
    "$$ Vertical Height = length \\times sin (\\alpha)$$"
   ]
  },
  {
   "cell_type": "code",
   "execution_count": 5,
   "metadata": {
    "collapsed": false
   },
   "outputs": [
    {
     "name": "stdout",
     "output_type": "stream",
     "text": [
      "The required length of the plate settlers is 46.19 cm.\n",
      "The vertical height of the plate settlers is 40.00 cm.\n"
     ]
    }
   ],
   "source": [
    "def Len_sed_plate(V_Upflow, V_Capture, Spacing_Settlers, Angle_sed_plate, Thickness_sed_plate):\n",
    "    # Return the length of the plate settlers\n",
    "    Top = Spacing_Settlers * (V_Upflow / V_Capture -1) + Thickness_sed_plate * (V_Upflow / V_Capture)\n",
    "    Bottom = math.cos(Angle_sed_plate) * math.sin(Angle_sed_plate)\n",
    "    Len_sed_plate = Top / Bottom\n",
    "    return Len_sed_plate.to(u.cm)\n",
    "\n",
    "def Vertical_Height_plate(V_Upflow, V_Capture, Spacing_Settlers, Angle_sed_plate, Thickness_sed_plate):\n",
    "    # Return the vertical length of the plate settlers\n",
    "    len_sed_plate = Len_sed_plate(V_Upflow, V_Capture, Spacing_Settlers, Angle_sed_plate, Thickness_sed_plate)\n",
    "    return len_sed_plate * math.sin(Angle_sed_plate)\n",
    "\n",
    "sed_plate_length = Len_sed_plate(V_sed_up, V_sed_capture, s_sed_plate, angle_sed_plate, thickness_sed_plate)\n",
    "sed_plate_vertical_height = Vertical_Height_plate(V_sed_up, V_sed_capture, s_sed_plate, angle_sed_plate, thickness_sed_plate)\n",
    "\n",
    "print('The required length of the plate settlers is ' + ut.sig(sed_plate_length.to(u.cm),4) +'.')\n",
    "print('The vertical height of the plate settlers is ' + ut.sig(sed_plate_vertical_height.to(u.cm),4) + '.')"
   ]
  },
  {
   "cell_type": "markdown",
   "metadata": {},
   "source": [
    "## Outlet Manifold (Effluent Launder) (Leave for Future Work)"
   ]
  },
  {
   "cell_type": "code",
   "execution_count": 6,
   "metadata": {
    "collapsed": false
   },
   "outputs": [
    {
     "name": "stdout",
     "output_type": "stream",
     "text": [
      "The nominal diameter of the outlet manifold is 15.24 cm.\n"
     ]
    }
   ],
   "source": [
    "# Attempts to apply inlet manifold equations to outlet manifold, but probably incorrect\n",
    "\n",
    "def ND_outlet_manifold(L_sed, W_sed, V_Upflow, SDR_manifold, Q_ratio, headloss_exit):\n",
    "    max_velocity =  ((1-Q_ratio **2)/(Q_ratio**2+1) * headloss_exit * 4 * pc.gravity) ** (1/2) \n",
    "    Q_sed = L_sed * W_sed * V_Upflow\n",
    "    Min_ID_manifold =((Q_sed / max_velocity) / math.pi * 4) ** (1/2)\n",
    "    return (pipe.ND_SDR_available(Min_ID_manifold, SDR_manifold))\n",
    "\n",
    "ND_outlet_manifold = ND_outlet_manifold(L_sed, W_sed, V_sed_up, SDR_manifold, Q_ratio,headloss_exit)\n",
    "print('The nominal diameter of the outlet manifold is ' + ut.sig(ND_outlet_manifold.to(u.cm),4) +'.')\n",
    "    "
   ]
  },
  {
   "cell_type": "markdown",
   "metadata": {},
   "source": [
    "## Orifices "
   ]
  },
  {
   "cell_type": "markdown",
   "metadata": {},
   "source": [
    "We applied the function head_orifice from aide_design/physchem to solve for the diameter of each orifice. We then used the total length of the pipe and the spacing of the orifices to calculate the number of orifices required. The head loss from the orifice equals the difference between the total head loss and the inlet head loss. We divided the total flow rate of the plant and the total head loss of all the orifices combined by the number of orifices to determine the head loss per orifice and flow rate through a single orifice respectively. \n",
    "* The equation is:\n",
    "$$ {hl}_{Orifice} = \\left(\\frac{{{Flow Rate}}}{{Ratio}_{VC Orifice}\\times {Area}_{Orifice}}\\right)^{2}\\frac{1} {2g}$$\n"
   ]
  },
  {
   "cell_type": "code",
   "execution_count": 7,
   "metadata": {
    "collapsed": false
   },
   "outputs": [
    {
     "name": "stdout",
     "output_type": "stream",
     "text": [
      "The diameter of the orifice is 4.342 cm.\n"
     ]
    }
   ],
   "source": [
    "def Diam_Orifices (L_sed, W_sed, V_Upflow, spacing_orifices, headloss_exit, headloss_sed_inlet_max, RatioVCorifice):\n",
    "    headloss_orifice = headloss_exit - headloss_sed_inlet_max\n",
    "    num_orifices = L_sed / spacing_orifices\n",
    "    headloss_perorifice = headloss_orifice / num_orifices\n",
    "    Q_sed = L_sed * W_sed * V_Upflow\n",
    "    Q_orifice = Q_sed / num_orifices\n",
    "    Area_orifice = Q_orifice / (RatioVCorifice * (headloss_perorifice* 2* g)**(1/2))\n",
    "    return (4 / math.pi * Area_orifice) **(1/2)\n",
    "\n",
    "Diam_Orifices = Diam_Orifices (L_sed, W_sed, V_sed_up,spacing_orifices, headloss_exit, headloss_sed_inlet_max, VC)\n",
    "print('The diameter of the orifice is '+ut.sig(Diam_Orifices.to(u.cm),4)+'.')\n",
    "    "
   ]
  }
 ],
 "metadata": {
  "kernelspec": {
   "display_name": "Python 3",
   "language": "python",
   "name": "python3"
  },
  "language_info": {
   "codemirror_mode": {
    "name": "ipython",
    "version": 3
   },
   "file_extension": ".py",
   "mimetype": "text/x-python",
   "name": "python",
   "nbconvert_exporter": "python",
   "pygments_lexer": "ipython3",
   "version": "3.6.0"
  }
 },
 "nbformat": 4,
 "nbformat_minor": 2
}
