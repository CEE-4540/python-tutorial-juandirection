{
 "cells": [
  {
   "cell_type": "markdown",
   "metadata": {},
   "source": [
    "# Team Applesauce: Detailed Plan for Capstone Design Project #\n",
    "\n",
    "## Development of a Water Treatment Solution for Gadhyampurva ##"
   ]
  },
  {
   "cell_type": "markdown",
   "metadata": {},
   "source": [
    "### Table of Contents ###\n",
    "\n",
    "**Introduction and Purpose of Project**\n",
    "\n",
    "**Background of Area**\n",
    "\n",
    "**Water Source and Quality**\n",
    "\n",
    "**Community Needs**\n",
    "\n",
    "**Comparison of Available Technology**\n",
    "\n",
    "**Design Parameters**\n",
    "\n",
    "**Coagulent Dosing**\n",
    "\n",
    "**Filtration**\n",
    "\n",
    "**Disinfection Dosage**\n",
    "\n",
    "**Structure**\n",
    "\n",
    "**Storage**\n",
    "\n",
    "**Comparison to Other Projects in India**\n",
    "\n",
    "**Bibliography**\n"
   ]
  },
  {
   "cell_type": "markdown",
   "metadata": {},
   "source": [
    "### Introduction and Purpose of Project ####\n",
    "\n",
    "The UNICEF report 2015 brings out that India has been successful in meeting the Millennium Development Goal (MDG) on access to drinking water by making it available from improved sources to 94 percent of its total population. It is interesting to note that of the total percentage only 28% (54% urban and 16% rural) is through piped water on premise and the remaining 66% is through other improved sources like public taps, tube wells, protected dug wells, protected springs etc. It is pertinent to mention that the same report highlights the open defecation statistics in India which stands at 10% in the urban and 61% in the rural area. Therefore, the phrase ‘improved source’ is a misnomer and need not necessarily imply access to safe drinking water. Various flagship programs of the government of India in the past have focused on providing access to drinking water but have failed due to several reasons. Firstly, because the technologies are not designed taking into consideration the context due to a top down approach generally adopted by most project designs. Secondly, the long-term sustainability plan which includes an operation and maintenance plan for plants are not detailed during the conceptualization stage. Lastly, consumers treat water as a right and a free resource making interventions financially unsustainable. According to the report brought out by the World Resources Institute in the year 2015, 54% of the country faces high to extremely high levels of water stress, most of which can be attributed to pollution and overexploitation of groundwater. Thus, access to clean and safe water for domestic requirements continues to be a challenge in developing countries like India.\n",
    "\n",
    "The conventional centralized water treatment plants are highly complex and require large scale distribution networks leading to high capital investment and maintenance costs. AguaClara, a multi-disciplinary program at Cornell University, has been working on designing low-cost gravity-powered sustainable water treatment systems for underserved communities around the world. They have partnered with Agua Para el Pueblo to build 14 plants in Honduras, serving 65,000 people to date. In India, AguaClara Reach has partnered with a local NGO to set up a Filtration-Disinfection system in the state of Jharkhand and are working on piloting the Hydrodoser for the first time in the state of Odisha. The Hydrodoser is expected to serve the community of Lahanda village, having a population of 270 people. \n",
    "\n",
    "The purpose of this project is to design a customized water treatment plant for a small size village in the Northern part of India. The community has 70 households. The community is the village of Gadhyampurva in the Kanpur Nagar district in the state of Uttar Pradesh in India. Water for consumption in the village is currently extracted through hand pumps (shown in blue on the drawn map pictured below) and borewells. The hand pumps are provided by the government and do not provide drinking quality water. There is a high prevalence of water borne illnesses in the village. Some families have their own private wells that are deeper and they use those for drinking water as the quality of water is higher. The treatment plant for this village would provide safe drinking water to all the households, the school, and the temple and would make up for their current water sources that do not meet water quality standards.\n",
    "\n",
    "![37902320426_705cc37c3f.jpg](attachment:37902320426_705cc37c3f.jpg)"
   ]
  },
  {
   "cell_type": "markdown",
   "metadata": {},
   "source": [
    "### Background of Area ###\n",
    "\n",
    "![Screen%20Shot%202017-12-07%20at%2012.39.11%20PM.png](attachment:Screen%20Shot%202017-12-07%20at%2012.39.11%20PM.png)\n",
    "\n",
    "[Google Map](https://earth.google.com/web/@26.36258123,80.45709775,125.21423334a,468.45015562d,35y,0.00000001h,35.00000525t,-0r/data=CjkaNxIxCgAZxIcjWdFcOkAhzWTuEDUdVEAqGzI2wrAyMSc0NS4zIk4gODDCsDI3JzIyLjkiRRgCIAE)\n",
    "\n",
    "The village of Gadhyampurva is situated in Aima Panchayat in the Kanpur Nagar District of Uttar Pradesh (UP) in India. Kanpur Nagar is one of the highly urbanized and industrialized areas of the Ganga river basin. It has an elevation of 126 m above the sea level. The district is one of the megacities in UP. It is located at the center of two major rivers of the northern India i.e. Ganges in the North and Yamuna at the South. The average annual rainfall of the district is about 821.9 mm out of which 90% takes place during June to September months. Being the part of the Ganga basin, the major soil type found in the area is loamy (Srivastava, 2009). The district is actively involved in the agricultural activity constituting around 62% area as net cultivable area and having rice and wheat as main Kharif and Rabi crops (C-DAP, 2008). Kanpur is also famous for its leather industries, having approximately 400 tanneries. Besides tanneries, cotton and woolen industries are also present in Kanpur city. The wastewater of Kanpur city is drained by a total of 26 drains, of which 21 drains flow into the river Ganga and five drains flow into the river Pandu (CPCB, 2016). Wheat and rice constitutes the major crops during the Rabi and Kharif season respectively. Other crops which are also grown in this area are jowar, potatos, pulses, oilseeds, sugarcane and vegetables. Kanpur also has a large wastewater treatment plant.\n",
    "\n",
    "The village Gadhyampurva lies on latitude 26°21’45.25” N and longitude of 80°27’22.91” E. It is situated approximately 7 km downstream of the Common Effluent Treatment Plant (CETP) in Kanpur. The village has the CETP canal passing through both sides but there is hardly any water in the canal when it reaches the village. The village has a population of approximately 400 people living in 70 houses with an average of 6 members per household. The village Gadhyampurva depends primarily on groundwater for both irrigation and household consumption, including water use for cattle and livestock. The main crop in this villages was Wheat and Mustard (Rabi crops) and crops like rice potato, bajra, jowar, maize, gram and vegetables were mainly grown for self-consumption. The soil type is loamy in this village. Gadhyampurva (Aima GP) got connected to the grid two years ago, but none of the households have received any electricity bills which implies that the electricity to the village has been free. \n",
    "\n",
    "Looking specifically at the village, there is one main road that runs through the village, the village has a primary school and a temple. The livelihoods of most of the villagers depend on agriculture and livestock. The main diseases prevalent in the village are Diarrhea, Cholera, and vector borne diseases like Malaria."
   ]
  },
  {
   "cell_type": "markdown",
   "metadata": {},
   "source": [
    "### Water Source and Quality\n",
    "\n",
    "The current water sources in the village include hand pumps, bore wells, dug wells, and natural ponds. These water sources are for household needs, common service needs (school and temple), irrigation, and livestock. The following is a description of the water sources:\n",
    "\n",
    "*Hand pumps*: The hand pumps were provided by the government and extend to a depth of about 36m. Each hand pump is shared between four to five households. Apart from domestic consumption, cooking and washing, this water is used for bathing and providing drinking water and food to cattle.\n",
    "\n",
    "*Bore-well*: A few bore-wells have been privately installed in a small number of households. These are at a depth of about 55m. These are mainly used for drinking water. \n",
    "\n",
    "*Dug wells*: There are three dug wells in the village, out of which 2 are dried up and abandoned. The third well collects water during rains which is then pumped out for irrigation.\n",
    "\n",
    "*Natural ponds*: Out of the two ponds in the village, one has dried up. Household sewage is collected in the larger pond which is about 25m in length and 12 m deep. It is in this pond that the domestic sewage from households is discharged through temporary drains dug by the villagers from their houses to the pond. It was observed that the pond was eutrophicated due to sewage flow. It overflows during monsoon. \n",
    " \n",
    "\n",
    "**Gadhyampruva Groundwater**\n",
    "   \n",
    "| Sources      | Number| Depth                   |\n",
    "|--------------|-------|-------------------------|\n",
    "|  Handpump    | 20-25 | 36 m                    | \n",
    "|  Bore Well   | 6-7   | 55 m                    | \n",
    "|  Well        | 3     | 46 m - 91 m             | \n",
    "|  Pond        | 2     | 4.5 m - 6 m, 9 m - 12 m | \n"
   ]
  },
  {
   "cell_type": "markdown",
   "metadata": {},
   "source": [
    "### Water Source and Quality\n",
    "\n",
    "The current water sources do not meet the village's water needs. The various groundwater wells deliver small quantities of untreated water that it vulnerable to pollutants, pathogens, and solids. The groundwater at a depth of ** 36 m ** was tested for pH, E.Coli, Acidity, Alkalinity, Nitrate, Chloride, Sulphate, Flouride, Total Dissolved Solids, and Total Solids. The results are in the table below. The high levels of E. Coli, Total Dissolved Solids, Alkalinity, and Flouride that exceed standards are troubling as they can have negative health affects on the user.\n",
    "\n",
    "\n",
    "![24104606558_718dcd6e8d_c.jpg](attachment:24104606558_718dcd6e8d_c.jpg)\n",
    "\n",
    "For the purpose of the capstone design project, we are focusing on using groundwater from a depth of at least 55m. We are assuming that the value of TDS at a depth of 55m would be lower than that at 36m depth. The potential site for sinking the well can be the common land within the village which can be finalized in discussion with the Village Head. Acquiring this land may require cutting down trees and leveling the land. A solar pump should be used to draw the water from the well. "
   ]
  },
  {
   "cell_type": "markdown",
   "metadata": {},
   "source": [
    "### Community Needs ###\n",
    "\n",
    "In Gadhyampurva, there are approximately 70 houses with an average of 6 members per household. The average water consumption per capita per day in urban settlements is estimated as 135 liters. Considering that rural India does not have flush toilets, the  requirement for household purpose would be lower, around 80 liters per capita per day. According to AguaClara Reach, 90-100 liters of water per capita per day would comfortably meet the needs of the community members."
   ]
  },
  {
   "cell_type": "code",
   "execution_count": 2,
   "metadata": {
    "collapsed": true
   },
   "outputs": [],
   "source": [
    "from aide_design.play import*\n",
    "\n",
    "#Third-party imports\n",
    "#import numpy as np\n",
    "#import pandas as pd\n",
    "#import matplotlib.pyplot as plt\n",
    "#import matplotlib\n",
    "#import plotly.plotly as py\n",
    "#import plotly.graph_objs as g\n",
    "\n",
    "#AIDE imports\n",
    "#from aide_design.play import*\n",
    "#import aide_design.pipedatabase as pipe\n",
    "#from aide_design.units import unit_registry as u\n",
    "#from aide_design import physchem as pc\n",
    "from aide_design import floc_model as floc\n",
    "#import aide_design.expert_inputs as exp\n",
    "#import aide_design.materials_database as mat\n",
    "#import aide_design.utility as ut\n",
    "from aide_design import cdc_functions as cdc"
   ]
  },
  {
   "cell_type": "code",
   "execution_count": 40,
   "metadata": {
    "collapsed": false
   },
   "outputs": [
    {
     "name": "stdout",
     "output_type": "stream",
     "text": [
      "The total daily water requirement for Gadhyampurva is  4.3e+04 liter / day .\n"
     ]
    }
   ],
   "source": [
    "# Determine the daily water requirement for population\n",
    "\n",
    "# Number of households\n",
    "num_households = 70 \n",
    "\n",
    "# Approximate number of people per household\n",
    "num_members_per_household = 6 \n",
    "\n",
    "# Total water required for the population of Gahyapurva\n",
    "member_water_requirement = 100*u.L/u.day \n",
    "\n",
    "# Water needed for the school and temple\n",
    "common_water_requirement = 1000*u.L/u.day \n",
    "\n",
    "# Total daily requirement\n",
    "daily_total_water_requirement = num_households*num_members_per_household*member_water_requirement+common_water_requirement\n",
    "\n",
    "print('The total daily water requirement for Gadhyampurva is ',daily_total_water_requirement,'.')\n"
   ]
  },
  {
   "cell_type": "markdown",
   "metadata": {},
   "source": [
    "### Comparison of Available Technologies ###\n",
    "\n",
    "There are several different technologies for treating groundwater. Most technologies are variations of sand filtration. Sand filtration is the use of sand, a porous media, to trap particles in the sand pores. Slow sand filtration is an early version where untreated water penetrates a layer of sand from above the sand bed where the particles get trapped and then cleaner effluent water leaves. The rapid sand filter does a similar process at a faster rate and includes a backwash component, where a higher flow rate is used to fluidize and clean the bed. The third treatment option is StaRS filtration."
   ]
  },
  {
   "cell_type": "code",
   "execution_count": 38,
   "metadata": {
    "collapsed": true
   },
   "outputs": [],
   "source": [
    "# Calculate parameters for each of the three methods considered.\n",
    "\n",
    "# Following data from Monroe's Filtration Powerpoint\n",
    "\n",
    "# Multi = Multistage Filtration\n",
    "# Rapid_Sand = Rapid Sand Filtration\n",
    "# StaRS = Stacked Rapid Sand Filtration\n",
    "\n",
    "# Velocity\n",
    "Multi_v = 0.03**3*(u.mm/u.s) \n",
    "Rapid_Sand_v = 2.8*(u.mm/u.s) \n",
    "StaRS_v = (1.8*6)*(u.mm/u.s) \n",
    "\n",
    "# Plan area per 1 L/s\n",
    "Multi_A = 33.4*(u.m**3/(u.L/u.s))\n",
    "Rapid_Sand_A = 0.55*(u.m**3/(u.L/u.s))\n",
    "StaRS_A = 0.093*(u.m**3/(u.L/u.s))\n",
    "\n",
    "# Plan area for Daily Need\n",
    "Mutli_A_Need = Multi_A*daily_member_and_common_water_requirement\n",
    "Rapid_Sand_A_Need = Rapid_Sand_A*daily_member_and_common_water_requirement\n",
    "StaRS_A_Need = StaRS_A*daily_member_and_common_water_requirement\n",
    "\n",
    "# Cleaning Methods\n",
    "Multi_Clean = 5.5*(u.mm/u.s)\n",
    "Rapid_Sand_Clean = 11*(u.mm/u.s)\n",
    "StaRS_Clean = 11*(u.mm/u.s)\n",
    "\n",
    "# Particle Removal Rates\n",
    "Multi_pC = 1.3\n",
    "Rapid_Sand_pC = 1\n",
    "StaRS_pC = 1**6\n",
    "\n",
    "# Max NTU\n",
    "Multi_NTU = 100**4\n",
    "Rapid_Sand_NTU = 5**5\n",
    "StaRS_NTU = 3**6\n"
   ]
  },
  {
   "cell_type": "markdown",
   "metadata": {},
   "source": [
    "![FilterComparisonTable.jpg](attachment:FilterComparisonTable.jpg)\n",
    "The StaRS filter is the best option for this community because the plan area is the smallest, the removal efficiency is the highest, and it is the fastest process. The water quality in this village is assumed to be between zero and eight NTU, so any of the technologies could handle the maximum turbidity in the water. The plant area size is very important because the technology need to be elevated for distribution throughout the community. The smaller the plan area, the easier it is to elevate the technology. "
   ]
  },
  {
   "cell_type": "markdown",
   "metadata": {},
   "source": [
    "### Design Parameters ###"
   ]
  },
  {
   "cell_type": "code",
   "execution_count": 41,
   "metadata": {
    "collapsed": false
   },
   "outputs": [
    {
     "name": "stdout",
     "output_type": "stream",
     "text": [
      "The run time for one filter to meet the daily water requirement is 11.9 hr per day.\n",
      "The run time for the plant, consisting of  2  filters, to meet the daily water requirement is  5.972 hour  per day.\n"
     ]
    }
   ],
   "source": [
    "# Acceleration due to gravity\n",
    "g = pc.gravity\n",
    "\n",
    "# Design Temperature - average temperature used in design phase\n",
    "T_design = 25*u.degC\n",
    "\n",
    "# Number of Filters\n",
    "Num_filter = 2\n",
    "\n",
    "# Total Water Demand per day\n",
    "daily_water_requirement = daily_total_water_requirement\n",
    "\n",
    "# Assume use of traditional EStaRS filters, each filter has a flow of 1L/s\n",
    "Q_filter = 1*u.L/u.s\n",
    "Q_plant = Q_filter*Num_filter\n",
    "\n",
    "# Amount of run time for one filter to meet the need\n",
    "time_one_filter = daily_water_requirement*(1*u.day)/Q_filter\n",
    "print('The run time for one filter to meet the daily water requirement is '+ut.sig(time_one_filter.to(u.hr),3)+' per day.')\n",
    "\n",
    "# Amount of run time for two filters to meet the need\n",
    "time_two_filter = daily_water_requirement*(1*u.day)/(Q_plant)\n",
    "print('The run time for the plant, consisting of ',Num_filter,' filters, to meet the daily water requirement is ',time_two_filter.to(u.hr),' per day.')\n"
   ]
  },
  {
   "cell_type": "markdown",
   "metadata": {},
   "source": [
    "### Pump Design\n",
    "\n",
    "A solar pump will be used to pump the grounwater from the well to the top of the tower. The power required for the pump depends on the height of tower, the depth of the water table, and the design plant flow."
   ]
  },
  {
   "cell_type": "code",
   "execution_count": 44,
   "metadata": {
    "collapsed": false
   },
   "outputs": [
    {
     "name": "stdout",
     "output_type": "stream",
     "text": [
      "A 6 horsepower solar pump would be required to get the water up to the tower at a maximum flow rate of 2 liter / second .\n"
     ]
    }
   ],
   "source": [
    "# Power can be determined from the following equation:\n",
    "# head = power/(g*mass_flow_plant)\n",
    "    \n",
    "# Total Head \n",
    "\n",
    "# Depth of well\n",
    "well_depth = 55*u.m\n",
    "\n",
    "# Depth of Water Table\n",
    "watertable_depth = 25*u.m \n",
    "\n",
    "# Maximum change in elevation in the village is the maximum head between the tower and the tallest building.\n",
    "max_elevation_change = 45*u.m \n",
    "\n",
    "# Estimate for now for tower height construction.\n",
    "filter_height_estimate = 2*u.m \n",
    "\n",
    "# Adding an additional 10m to ensure appropriate water pressure at the highest building.\n",
    "pressure_addition = 10*u.m\n",
    "\n",
    "# Total head to overcome\n",
    "tower_height_total = max_elevation_change + filter_height_estimate + pressure_addition\n",
    "\n",
    "# Flow required for the solar pump depends on the amount of daylight hours and the daily water requirement.\n",
    "\n",
    "# Minimum number of daylight hours (assumed)\n",
    "daylight = 8*u.hr \n",
    "\n",
    "# Average flow required by the pump over the 8 hour period\n",
    "Q_pump_avg = ((daily_water_requirement*u.day)/daylight).to(u.L/u.s)\n",
    "\n",
    "# Maximum flow through the pump would be the maximum flow through the filters\n",
    "Q_pump_max = Q_plant \n",
    "\n",
    "\n",
    "# Determining the pipe diameter that will carry water up to the tower\n",
    "\n",
    "# Length of the pipe would need to be from the depth of the well to the height of the tower.\n",
    "L_pipe = well_depth + tower_height_total\n",
    "\n",
    "# Minor loss coefficient for PVC pipe (assumed)\n",
    "Kminor = 2 \n",
    "\n",
    "# Pipe roughness for PVC pipe determined from The Engineering ToolBox \n",
    "\n",
    "PipeRough = 0.007*(10**-3)*u.m \n",
    "\n",
    "# Kinematic viscosity of water at the design temperature\n",
    "nu = pc.viscosity_kinematic(T_design)\n",
    "\n",
    "# Diameter of pipe based on an allowable headloss of 20cm, using the physchem function\n",
    "head_allowed = 20*u.cm\n",
    "D_pipe = pc.diam_pipe(Q_pump_max, head_allowed, L_pipe, nu, PipeRough, Kminor)\n",
    "\n",
    "# Actual headloss through the pipe\n",
    "headloss_tubing = pc.headloss(Q_pump_max, D_pipe, L_pipe, nu, PipeRough, Kminor)\n",
    "\n",
    "# Power Required\n",
    "\n",
    "# Density of water at the design temperature\n",
    "rho_water = pc.density_water(T_design)\n",
    "\n",
    "# Assumed solar pump efficiency\n",
    "pump_efficiency = 0.4\n",
    "\n",
    "# Actual power required considering efficiency \n",
    "power_req = (((Q_pump_max*rho_water*g*head_total))/pump_efficiency).to(u.hp)\n",
    "\n",
    "# Motor Selection - depends on the available solar motors/pumps, but this determines the capacity of the pump\n",
    "pump_req = np.ceil(power_req)\n",
    "# We also want to make sure we have an electrical pump or electrical power source as a back up for the rainy season.\n",
    "\n",
    "print('A',pump_req,'solar pump would be required to get the water up to the tower at a maximum flow rate of',Q_pump_max,'.')"
   ]
  },
  {
   "cell_type": "markdown",
   "metadata": {},
   "source": [
    "### Coagulent Dosing\n",
    "\n",
    "PACl, which can be found in granular form, will be used as the coagulant. This would then need to be mixed with water to form a stock solution. The concentration can be decided based on the situation. The design stock solution for this report was set at 100 mg/L based on the effect the stock solution had on the number of dosing tubes. If the stock solution had a lower concentration, it would require too many dosing tubes to be feasible. \n",
    "\n",
    "The process used below stems from Monroe's slides relating to flow control and dosage. "
   ]
  },
  {
   "cell_type": "code",
   "execution_count": 47,
   "metadata": {
    "collapsed": false
   },
   "outputs": [
    {
     "name": "stdout",
     "output_type": "stream",
     "text": [
      "The required flow rate of the stock PACl solution is  0.07465 liter / second  to achieve a dosing of  5 milligram / liter aluminum per liter of water.\n",
      "The actual length of the dosing tubes is  4.28 meter .\n",
      "The actual diameter of the tube is  0.25 inch .\n",
      "The actual number of dosing tubes is  4.0 .\n",
      "The actual flow rate in the dosing tube is  0.004666 liter / second .\n"
     ]
    }
   ],
   "source": [
    "# Parameters needed for determining coagulant dosage\n",
    "\n",
    "# Following data from Monroe's Flow Control and Dosing Powerpoint\n",
    "\n",
    "# Maximum headloss allowed through the dosing tubes\n",
    "HeadlossDosingTubeMaxPACl = 20*u.cm\n",
    "\n",
    "# Importing information and characteristics of PACl from the flocculation package from aide_design \n",
    "PACl_info = floc.PACl \n",
    "# The cdc functions file has specific data and information for each type of chemical. The following calls that data.\n",
    "# 0 is Alum, 1 is PACl, 2 is water/chlorine\n",
    "EnChemPACl = 1\n",
    "\n",
    "# Setting the concentration of the stock PACl solution\n",
    "StockPACl = 100*u.mg/u.L \n",
    "\n",
    "# Determining the average dose of PACl\n",
    "DosePACl = 5*u.mg/u.L \n",
    "# This value was obtained by looking at the records of various low turbidity plants in Honduras. Plants that had a\n",
    "# turbidity less than 10 NTU used a coagulent dosing of between 3 to 8 mg/L. (AguaClara GitHub, POST)\n",
    "\n",
    "# The maximum error ratio is 0.1, meaning that errors due to minor losses cannot exceed 10% \n",
    "RatioErrorPACl = 0.1\n",
    "\n",
    "# Minor Loss coefficient for PACl\n",
    "KMinorPACl = 1\n",
    "\n",
    "# Maximum length of dosing tubes, based on convenience and size of tower\n",
    "LengthTubeMaxPACl = 5*u.m\n",
    "\n",
    "# Possible dosing tube sizes\n",
    "TubingSizesPACl = np.linspace(1/16, 5/16, 5)*u.inch\n",
    "\n",
    "\n",
    "# Mass Balance to determine the flow of the stock PACl solution\n",
    "FlowPACl = Q_pump_avg*DosePACl/(StockPACl).to(u.mg/u.L)\n",
    "\n",
    "print('The required flow rate of the stock PACl solution is ',FlowPACl,' to achieve a dosing of ',DosePACl, \n",
    "      'aluminum per liter of water.')\n",
    "\n",
    "# The following calcuations are done using cdc functions. \n",
    "\n",
    "# Length of Dosing Tubes\n",
    "TubeLPACl = cdc.len_cdc_tube(Q_pump_avg, DosePACl, StockPACl, TubingSizesPACl, HeadlossDosingTubeMaxPACl, LengthTubeMaxPACl, T_design, EnChemPACl, KMinorPACl)\n",
    "print('The actual length of the dosing tubes is ',TubeLPACl,'.')\n",
    "    \n",
    "# Diameter of Dosing Tubes\n",
    "TubeDPACl = cdc.diam_cdc_tube(Q_pump_avg, DosePACl, StockPACl, TubingSizesPACl, HeadlossDosingTubeMaxPACl, LengthTubeMaxPACl, T_design, EnChemPACl, KMinorPACl)\n",
    "print('The actual diameter of the tube is ',TubeDPACl.to(u.inch),'.')\n",
    "\n",
    "# Number of Dosing Tubes\n",
    "TubeNPACl = cdc.n_cdc_tube(Q_pump_avg, DosePACl, StockPACl, TubingSizesPACl, HeadlossDosingTubeMaxPACl, LengthTubeMaxPACl, T_design, EnChemPACl, KMinorPACl)\n",
    "print('The actual number of dosing tubes is ',TubeNPACl,'.')\n",
    "\n",
    "# Flow Rate of Dosing Tube\n",
    "FlowTPACl = cdc._flow_cdc_tube(Q_pump_avg, DosePACl, StockPACl, TubingSizesPACl, HeadlossDosingTubeMaxPACl, RatioErrorPACl, KMinorPACl)\n",
    "print('The actual flow rate in the dosing tube is ',FlowTPACl[1].to(u.L/u.s),'.')\n"
   ]
  },
  {
   "cell_type": "markdown",
   "metadata": {},
   "source": [
    "### Filtration ### "
   ]
  },
  {
   "cell_type": "code",
   "execution_count": 50,
   "metadata": {
    "collapsed": false
   },
   "outputs": [
    {
     "name": "stdout",
     "output_type": "stream",
     "text": [
      "The depth of the expanded filter bed during backwash is 1.560 m.\n",
      "The total required height of the filter column is 1.716 m.\n",
      "The filter bed plan view area is  0.09091 meter ** 2\n",
      "The filtration velocity is 1.833 millimeter / second\n",
      "The headloss through the clean filter sand is 13.52 cm\n",
      "The minimum fluidization velocity for this filter bed is 6.904 millimeter / second\n",
      "The residence time in the fluidized bed during backwash is 76.36 second\n",
      "The time to backwash the filter is 4.818 minute\n",
      "The total depth of water that is wasted is 3.18 meter\n"
     ]
    }
   ],
   "source": [
    "# Parameters needed to determine filter properties\n",
    "\n",
    "# Diameter of the filter column\n",
    "D_column = 1*u.ft\n",
    "\n",
    "# Number of layers in the filter - equivalent to the number of filtration beds\n",
    "num_layers = 6\n",
    "\n",
    "# Depth of each layer in the filter\n",
    "depth_layer = 20*u.cm\n",
    "\n",
    "# Expansion ration\n",
    "Pi_expansion_ratio = 1.3\n",
    "\n",
    "# Safety factor for the filter during backwash\n",
    "safety_factor = 1.1\n",
    "\n",
    "# Karmen Kozeny constant - assumed from the value used in the Filtration DC\n",
    "k_Kozeny = 5 \n",
    "\n",
    "# Density of the filter sand - assumed from the value used in the Filtration DC\n",
    "density_sand = 2650 * u.kg / u.m**3 \n",
    "\n",
    "# Diameter of the outlet pipe\n",
    "D_Outlet = 1*u.inch\n",
    "\n",
    "# Diameter of the inlet pipes\n",
    "D_Inlets = 1*u.inch\n",
    "\n",
    "# Diameter of the bottom of the inlet pipes\n",
    "D_Inlet_Bottom = 2*u.inch\n",
    "\n",
    "# Height of Filter Columns\n",
    "\n",
    "# Height of layers\n",
    "depth_total_layers = depth_layer*num_layers\n",
    "\n",
    "# Height needed for backwash expansion\n",
    "depth_backwash_expansion = depth_total_layers*Pi_expansion_ratio\n",
    "\n",
    "# Total height including the safety factor\n",
    "height_filter_column = safety_factor*depth_backwash_expansion\n",
    "\n",
    "print('The depth of the expanded filter bed during backwash is '+ut.sig(depth_backwash_expansion.to(u.m),4)+'.')\n",
    "print('The total required height of the filter column is '+ut.sig(height_filter_column.to(u.m),4)+'.')\n",
    "\n",
    "\n",
    "#The following code has been adapted from the CEE 4540 Filtration Design Challenges meant for OStaRS Filters\n",
    "\n",
    "# Diameter of filter sand based on the effective size of the particles (D10)\n",
    "# Where the effective size is the size of seive (screen opening) that allows 10% of the sand to pass through\n",
    "D_filter_sand_ES = 0.5*u.mm \n",
    "\n",
    "# Uniformity Coefficient of the sand\n",
    "# Where the Uniformity Coefficient is the size of sieve (screen opening) that allows 60% of the sand to pass through (D60)\n",
    "# divided by the effective size of the sand (D10)\n",
    "UC_filter_sand = 1.6 \n",
    "\n",
    "# Determine D60 value for sand to find backwash residence time later\n",
    "D60_filter_sand = D_filter_sand_ES*UC_filter_sand\n",
    "\n",
    "# Porosity of the filter sand - assumed from the value used in the Filtration DC\n",
    "porosity_filter_sand = 0.4 \n",
    "\n",
    "# Velocity during backwash - assumed from the value used in the Filtration DC\n",
    "V_filter_backwash = 11*u.mm/u.s \n",
    "\n",
    "\n",
    "# Plan area of EStaRS Filter\n",
    "A_filter_total = (Q_filter/V_filter_backwash).to(u.m**2)\n",
    "\n",
    "print('The filter bed plan view area is ',A_filter_total)\n",
    "\n",
    "# Velocity during filtration\n",
    "V_filter = V_filter_backwash/num_layers\n",
    "\n",
    "print('The filtration velocity is',V_filter)\n",
    "\n",
    "# Function to determine headloss through the clean filter\n",
    "def headloss_kozeny(PorosityFilterSand, D60_filter_sand, VelocityFilter, DepthFilter):  \n",
    "    return (36*k_Kozeny*((1-PorosityFilterSand)**2/PorosityFilterSand**3)*(pc.viscosity_kinematic(T_design)*VelocityFilter)/(g*D_filter_sand_ES**2)*DepthFilter).to(u.cm)\n",
    "\n",
    "# Headloss through clean filter\n",
    "hl_filter_clean = headloss_kozeny(porosity_filter_sand,D60_filter_sand,V_filter,depth_layer)\n",
    "\n",
    "print('The headloss through the clean filter sand is', ut.sig(hl_filter_clean, 4))\n",
    "\n",
    "#Function to determine minimum fluidization velocity\n",
    "def velocity_backwash_min(porosity_sand,D60_filter_sand,T):\n",
    "    return ((porosity_sand**3*g*D60_filter_sand**2)/(36*k_Kozeny*pc.viscosity_kinematic(T)*(1-porosity_sand))*(density_sand/pc.density_water(T)-1)).to(u.mm/u.s)\n",
    "\n",
    "# Minimum fluidization velocity\n",
    "vel_fluidization = velocity_backwash_min(porosity_filter_sand, D60_filter_sand,T_design)\n",
    "\n",
    "print('The minimum fluidization velocity for this filter bed is', vel_fluidization,)\n",
    "\n",
    "# Residence time in the fluidizied bed during backwash\n",
    "t_res_filter_backwash = ((porosity_filter_sand*depth_total_layers+(Pi_expansion_ratio-1)*depth_total_layers)/V_filter_backwash).to(u.s)\n",
    "\n",
    "print('The residence time in the fluidized bed during backwash is', t_res_filter_backwash)\n",
    "\n",
    "# Length of time to Backwash the filter\n",
    "\n",
    "# Time to drain the filter for backwash - assumed from the value used in the Filtration DC\n",
    "t_filter_backwash_drain = 1*u.min \n",
    "\n",
    "# Time to backwash the filter\n",
    "t_filter_backwash = (t_res_filter_backwash*3+t_filter_backwash_drain).to(u.min)\n",
    "\n",
    "print('The time to backwash the filter is', t_filter_backwash)\n",
    "\n",
    "# Total depth of water wasted during backwash\n",
    "H_filter_backwash_water = (V_filter_backwash*t_filter_backwash).to(u.m)\n",
    "\n",
    "print('The total depth of water that is wasted is', H_filter_backwash_water)"
   ]
  },
  {
   "cell_type": "markdown",
   "metadata": {},
   "source": [
    "The EStaRS Filter has a set design that has been fabricated several times. The design flow rate is approximately 0.8 L/s. For instructions and detailed designs, refer to the EStaRS Research Reports, 1 L/s Research Reports, and the AguaClara design tool located on the AguaClara wiki page. Four filters have been constructed in India, with several being produced in a workshop in Tegucigalpa, Honduras.\n",
    "\n",
    "Further design and calculations are already completed through the AguaClara design tool and are not attempted in this report."
   ]
  },
  {
   "cell_type": "markdown",
   "metadata": {},
   "source": [
    "### Disinfectant Dosage \n",
    "\n",
    "The process used below stems from Monroe's slides relating to flow control and dosage."
   ]
  },
  {
   "cell_type": "code",
   "execution_count": 49,
   "metadata": {
    "collapsed": false
   },
   "outputs": [
    {
     "name": "stdout",
     "output_type": "stream",
     "text": [
      "0.07782 milliliter / second  is the required flow rate of the stock bleach solution to achieve a dosing of 2mg chlorine per liter of water.\n",
      "The required flow rate of the stock Chlorine solution is  7.782e-05 liter / second  to achieve a dosing of  2 milligram / liter aluminum per liter of water.\n",
      "The actual length of the dosing tubes is  4.396 meter .\n",
      "The actual diameter of the tube is  0.0625 inch .\n",
      "The actual number of dosing tubes is  1.0 .\n",
      "The actual flow rate in the dosing tube is  0.07782 milliliter / second .\n"
     ]
    }
   ],
   "source": [
    "# Parameters needed to determine disinfectant dosage\n",
    "\n",
    "# The cdc functions file has specific data and information for each type of chemical. The following calls that data.\n",
    "# 0 is Alum, 1 is PACl, 2 is water/chlorine\n",
    "EnChemPACl = 2\n",
    "\n",
    "# Kinematic viscosity of bleach has the same relationship with temperature as the kinematic viscosity of water.\n",
    "NuBleach = pc.viscosity_kinematic(T_design)\n",
    "\n",
    "# Maximum headloss allowed through the dosing tubes \n",
    "HL_DosingTubeMax = 20*(u.cm)\n",
    "\n",
    "# Stock concentration of chlorine. The source will most likely be chlorine bleach.\n",
    "StockCl2 = 51.4*(u.gram/u.L)\n",
    "\n",
    "# The required dosage for chlorine\n",
    "DoseCl2 = 2*(u.mg/u.L)\n",
    "\n",
    "# The maximum error ratio is 0.1, meaning that errors due to minor losses cannot exceed 10% \n",
    "RatioError = 0.1\n",
    "\n",
    "# Minor Loss coefficient for Cl2\n",
    "KMinor = 2\n",
    "\n",
    "# Maximum length of dosing tubes, based on convenience and size of tower\n",
    "LengthTubeMax = 5*u.m\n",
    "\n",
    "# Possible dosing tube sizes\n",
    "TubingSizes = np.linspace(1/16, 5/16, 5)*u.inch\n",
    "\n",
    "# Mass Balance to determine the flow of the stock bleach solution\n",
    "FlowBleach = Q_plant*DoseCl2/(StockCl2).to(u.mg/u.L)\n",
    "print(FlowBleach.to(u.mL/u.s),' is the required flow rate of the stock bleach solution to achieve a dosing of 2mg ' \n",
    "      'chlorine per liter of water.')\n",
    "print('The required flow rate of the stock Chlorine solution is ',FlowBleach,' to achieve a dosing of ',DoseCl2, \n",
    "      'aluminum per liter of water.')\n",
    "\n",
    "# Length of Dosing Tubes\n",
    "TubeLength = cdc.len_cdc_tube(Q_plant, DoseCl2, StockCl2, TubingSizes, HL_DosingTubeMax, LengthTubeMax, T_design, EnChem, KMinor)\n",
    "print('The actual length of the dosing tubes is ',TubeLength,'.')\n",
    "    \n",
    "# Diameter of Dosing Tubes\n",
    "TubeDiam = cdc.diam_cdc_tube(Q_plant, DoseCl2, StockCl2, TubingSizes, HL_DosingTubeMax, LengthTubeMax, T_design, EnChem, KMinor)\n",
    "print('The actual diameter of the tube is ',TubeDiam.to(u.inch),'.')\n",
    "\n",
    "# Number of Dosing Tubes\n",
    "TubeNum = cdc.n_cdc_tube(Q_plant, DoseCl2, StockCl2, TubingSizes, HL_DosingTubeMax, LengthTubeMax, T_design, EnChem, KMinor)\n",
    "print('The actual number of dosing tubes is ',TubeNum,'.')\n",
    "\n",
    "# Flow Rate of Dosing Tube\n",
    "FlowTube = cdc._flow_cdc_tube(Q_plant, DoseCl2, StockCl2, TubingSizes, HL_DosingTubeMax, RatioError, KMinor)\n",
    "print('The actual flow rate in the dosing tube is ',FlowTube[1].to(u.mL/u.s),'.')\n"
   ]
  },
  {
   "cell_type": "markdown",
   "metadata": {},
   "source": [
    "### Structural Design "
   ]
  },
  {
   "cell_type": "markdown",
   "metadata": {},
   "source": [
    "Below are two photos of existing water towers in India. The height of the tower depends on the difference in elevation of the location that the water tower is built and the elevation of the highest building in the town. Based on observations from Google Maps, the highest elevation difference in the village is about 45m. In order for these houses to get appropriate water pressure, 10m should be added on to this height. The height of the filters (about 2m) should also be included in this design, so the total height of the tower would be 57m.\n",
    "\n",
    "![23215396_1562481957151920_7733306566205054888_o.jpg](attachment:23215396_1562481957151920_7733306566205054888_o.jpg)\n",
    "\n",
    "![26523801799_236bc2a9ac_z.jpg](attachment:26523801799_236bc2a9ac_z.jpg)"
   ]
  },
  {
   "cell_type": "markdown",
   "metadata": {},
   "source": [
    "## Storage"
   ]
  },
  {
   "cell_type": "markdown",
   "metadata": {},
   "source": [
    "The provision for centralized water storage tank will be considered if there is no possibility of\n",
    "setting up storage tanks at household levels. This would require a willingness survey to be conducted in\n",
    "the village to assess their readiness to pay for the tank and the associated infrastructure at the\n",
    "household level. Moreover, a discussion with the local government would be required to check if they\n",
    "are in a position to put up water distribution lines in the village to supply water at household levels.\n",
    "Assuming that the distribution lines cannot be put up, 4-5 public stand posts could be established at different locations in the village."
   ]
  },
  {
   "cell_type": "markdown",
   "metadata": {},
   "source": [
    "## Comparison to Other Projects in India"
   ]
  },
  {
   "cell_type": "markdown",
   "metadata": {},
   "source": [
    "### World Bank Funded Projects\n",
    "(World Bank 2016)\n",
    "\n",
    "World Bank-supported projects have shown that communities are capable of managing their water supply services, if some facilitation is done by local governments. They have demonstrated that community management of water supply systems reduces the capital costs for infrastructure, and that even poor rural residents are willing to pay for assured and safe water supply.\n",
    "\n",
    "##### Examples:\n",
    "**Uttarakhand:** By December 2015, over 8,000 habitations had built their own water supply systems, benefitting some 1.5 million rural residents. Strong community involvement reduced the cost of systems, curbed the leakage of funds, and led to huge savings for the state exchequer. Given the mainly hilly terrain, rural homes received 24/7 water supply through gravity-based piped systems that used no electricity whatsoever.  Catchment areas have been protected to recharge springs and maintain water quality.  The Project has decentralized the responsibilities of service delivery across Uttarakhand.\n",
    "\n",
    "**Kerala:** Jalanidhi 1 (2000-2008) provided a dependable supply of piped water to 192,000 rural homes in 13 districts, at a price that even low-income families could afford. Water meters were installed in many areas to curb consumption. Ten percent of capital costs were met by village governments, while the beneficiaries contributed 15 percent and paid regular O&M expenses. Jalanidhi 2 is now working with village governments to project future water needs, build storage capacity, and devise back-up plans for contingencies (The World Bank n.d.).\n",
    "\n",
    "**Maharashtra:** The mostly barren and rocky terrain makes it difficult to identify water sources and ensure their sustainability, two projects decentralized water supply services to local communities even in remote hillside villages and on drought-prone plains. Between 2003 and 2009, Jalswarajya 1 brought clean drinking water into 1.2 million homes, more than half of whom were below the poverty line.  Introducing the culture of paying for services has created the basis for future sustainability. Jalswarajya 2 (2014-2020) is demonstrating new models, pioneering the adoption of the PforR instrument in the country. It is also helping the state to address systemic challenges across the sector, including the challenges of providing services to peri-urban areas, improving water quality, and bringing services to water-scarce areas (The World Bank 2010).\n",
    "\n",
    "**Jal Nirmal project:** The dry rain-fed region of Northern Karnataka is home to some 15.5 million people, or about 40 percent of the state's rural population. Most people are poor and socially disadvantaged and have long faced severe difficulties in accessing drinking water.  By decentralizing services to rural communities, the Karnataka Jal Nirmal project (2002-2013) improved water supply for about 7 million rural inhabitants in 11 districts of Northern Karnataka (Jal Nirmal n.d.).\n",
    "\n",
    "### Charity Water\n",
    "Installing Hand Pumps with local partners (Charity Water n.d.)\n",
    "Billions in Change\n",
    "Filtration of Brackish water and Grey Water (Billions in Change n.d.)\n",
    "\n",
    "### Piramal Srvajal \n",
    "(Water ATMs)\n",
    "Water ATMs are automated water dispensing units, which provide communities with 24/7 safe water access. They are solar powered and cloud connected, thus enabling remote tracking of the water quality and of each pay per use transaction (Piramal Foundation n.d.)."
   ]
  },
  {
   "cell_type": "markdown",
   "metadata": {},
   "source": [
    "## Bibliography"
   ]
  },
  {
   "cell_type": "markdown",
   "metadata": {},
   "source": [
    "Agnihotri, N. et al., 2014. Hydrochemical Assessment and Factor Analysis of Groundwater with Special Reference to Fluoride in. IOSR Journal of Applied Chemistry Ver. I, 7(3), pp.52–56. Available at: www.iosrjournals.org [Accessed November 28, 2017].\n",
    "\n",
    "Agrawal, N., Singh, R. & Chaubey, P.M., 2007. Assessment of Ground Water Toxicity Due to Tannery Industry at Jajmau, Kanpur (UP). International Journal of Innovative Research in Science, Engineering and Technology (An ISO Certified Organization), 3297(3). Available at: https://www.ijirset.com/upload/2016/march/196_45_Assessment.pdf [Accessed November 27, 2017].\n",
    "\n",
    "AguClara GitHub, 2017. POST, Datos Sobre la Planta de Matias. Available at: http://aguaclara.github.io/index.html [Accessed December 1, 2017].\n",
    "\n",
    "Ahmad, S. & Mishra, A., 2014. A Study on Physico-Chemical Properties of Ground Water Quality of Various Locations of Kanpur City. International Journal of Science and Research, 3(3). Available at: https://www.ijsr.net/archive/v3i3/MDIwMTMxMDU3.pdf [Accessed November 27, 2017].\n",
    "\n",
    "Bureau of Indian Standards, 2012. Indian Standard -Drinking Water Specification, Available at: http://cgwb.gov.in/Documents/WQ-standards.pdf.\n",
    "\n",
    "Bank, T.W., 2010. India - Maharashtra Rural Water Supply and Sanitation. , pp.1–77. Available at: http://documents.worldbank.org/curated/en/692411468284123478/India-Maharashtra-Rural-Water-Supply-and-Sanitation-Jalswarajya-Project [Accessed November 30, 2017].\n",
    "\n",
    "Billions in Change, Water - Billions in Change. Available at: https://billionsinchange.com/solutions/water/ [Accessed November 30, 2017].\n",
    "\n",
    "Central Pollution Control Board, 2016. A Report on GANGA MATTERS (Uttarakhand and Uttar Pradesh), Available at: http://cpcb.nic.in/Report_on_Ganga_Matter_of_Uttarakhand_and_Uttar Pradesh.pdf [Accessed November 30, 2017].\n",
    "\n",
    "Charity Water, Clean Water Projects in India | charity: water. Available at: https://www.charitywater.org/our-projects/asia/india [Accessed November 30, 2017].\n",
    "\n",
    "Jal Nirmal, Jal Nirmal Project boon to Gulbarga, Yadgir districts - KARNATAKA - The Hindu. Available at: http://www.thehindu.com/todays-paper/tp-national/tp-karnataka/jal-nirmal-project-boon-to-gulbarga-yadgir-districts/article3538444.ece [Accessed November 30, 2017].\n",
    "\n",
    "Piramal Foundation, Piramal Sarvajal. Available at: http://www.sarvajal.com/water-atm.php [Accessed November 30, 2017].\n",
    "\n",
    "Planning Commission, 2006. :::Comprehensive District Agriculture Plan(C-DAP)::: Available at: http://www.rkvy.nic.in/static/c-dap-annexure-iframe.html [Accessed November 30, 2017].\n",
    "\n",
    "The Engineering ToolBox, 2017. Ventilation Ducts - Roughness and Surface Coefficients. Available at: https://www.engineeringtoolbox.com/surface-roughness-ventilation-ducts-d_209.html [Accessed November 26].\n",
    "\n",
    "The World Bank, Projects : IN 2nd Kerala Rural Water Supply and Sanitation Project (Jalanidhi II) | The World Bank. Available at: http://projects.worldbank.org/P121774/second-kerala-rural-water-supply-sanitation-project-jalanidhi-ii?lang=en&tab=overview [Accessed November 30, 2017].\n",
    "\n",
    "Tripathi, P.K., 2008. District Brochure of Kanpur Nagar District, U P, Available at: http://www.cgwb.gov.in/District_Profile/UP/Kanpur Nagar.pdf [Accessed November 30, 2017].\n",
    "\n",
    "World Bank, 2016. India: Bringing Clean Drinking Water to India’s Villages. Available at: http://www.worldbank.org/en/results/2016/05/24/bringing-clean-water-india-villages [Accessed November 30, 2017].\n"
   ]
  }
 ],
 "metadata": {
  "kernelspec": {
   "display_name": "Python 3",
   "language": "python",
   "name": "python3"
  },
  "language_info": {
   "codemirror_mode": {
    "name": "ipython",
    "version": 3
   },
   "file_extension": ".py",
   "mimetype": "text/x-python",
   "name": "python",
   "nbconvert_exporter": "python",
   "pygments_lexer": "ipython3",
   "version": "3.6.0"
  }
 },
 "nbformat": 4,
 "nbformat_minor": 2
}
