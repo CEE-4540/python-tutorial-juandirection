{
 "cells": [
  {
   "cell_type": "markdown",
   "metadata": {},
   "source": [
    "### KAJ Capstone Project\n",
    "\n",
    "Alyssa Kirsch, Ken Rivero-Rivera, Jillian Whiting\n",
    "\n",
    "# Optimizing Flocculation Systems\n",
    "\n",
    "Introduction: Our challenge is to create python functions (to incorporate into aide_design) which optimize design parameters to make a hydraulic flocculation system highly efficient with respect to energy. These parameters include headloss, residence time, baffle spacing, and number of baffles. We will be referencing the MathCAD code created by the AguaClara Design team. We improved the code by incorporating the H/S ratio and new method of determining energy dissipation and make the code more user-friendly by improving flow and variable naming.\n",
    "\n",
    "<img src=\"Honduras_Vertical_Flocculator.PNG\">\n",
    "\n"
   ]
  },
  {
   "cell_type": "markdown",
   "metadata": {},
   "source": [
    "### Import Python Packages"
   ]
  },
  {
   "cell_type": "code",
   "execution_count": 1,
   "metadata": {
    "collapsed": true
   },
   "outputs": [],
   "source": [
    "#Here we import all of the packages that we will be using for this design challenge\n",
    "\n",
    "#import math\n",
    "\n",
    "import math\n",
    "\n",
    "#from scipy import constants, interpolate\n",
    "\n",
    "import numpy as np\n",
    "\n",
    "import aide_design.utility as ut\n",
    "\n",
    "from aide_design import physchem as pc\n",
    "\n",
    "from aide_design import expert_inputs as exp\n",
    "\n",
    "from aide_design.units import unit_registry as u\n",
    "\n",
    "from pytexit import py2tex"
   ]
  },
  {
   "cell_type": "markdown",
   "metadata": {
    "collapsed": true
   },
   "source": [
    "## Flocculator Code"
   ]
  },
  {
   "cell_type": "markdown",
   "metadata": {},
   "source": [
    "### User Inputs"
   ]
  },
  {
   "cell_type": "markdown",
   "metadata": {},
   "source": [
    "Change these inputs to reflect the parameters which define your system."
   ]
  },
  {
   "cell_type": "code",
   "execution_count": 2,
   "metadata": {
    "collapsed": true
   },
   "outputs": [],
   "source": [
    "#Flow_Plant can be between 10-100L/s.\n",
    "FLOW_PLANT = 50 * u.L/u.s\n",
    "\n",
    "#These values are typical for a AguaClara plant.\n",
    "HEADLOSS = 40 * u.cm\n",
    "HEIGHT_WATER_END = 2 * u.m\n",
    "LENGTH_FLOC = 6 * u.m\n",
    "LENGTH_ENTRANCE_TANK = 1 * u.m\n",
    "THICKNESS_FLOC_DIVIDING_WALL = 15 * u.cm\n",
    "WIDTH_SED_INLET_CHANNEL_PRE_WEIR = 30 * u.cm\n",
    "COLL_POT_FLOC_BOD = 37000 * u.dimensionless"
   ]
  },
  {
   "cell_type": "markdown",
   "metadata": {},
   "source": [
    "### Flocculator Efficiency"
   ]
  },
  {
   "cell_type": "markdown",
   "metadata": {},
   "source": [
    "These H/S constraints allow one to construct an efficient flocculator which does not waste space between expansions."
   ]
  },
  {
   "cell_type": "markdown",
   "metadata": {},
   "source": [
    "$$\\Pi_{VCBaffle}=\\frac{1}{\\sqrt{K_{Minor,FlocBaffle}}+1}$$"
   ]
  },
  {
   "cell_type": "code",
   "execution_count": 3,
   "metadata": {
    "collapsed": true
   },
   "outputs": [],
   "source": [
    "RATIO_VC_BAFFLE = 1/(np.sqrt(exp.K_MINOR_FLOC_BAFFLE)+1)\n",
    "\n",
    "RATIO_HS_MIN = 3\n",
    "RATIO_HS_MAX = 6"
   ]
  },
  {
   "cell_type": "markdown",
   "metadata": {},
   "source": [
    "### Volume Constraint -  Energy Dissipation with max headloss"
   ]
  },
  {
   "cell_type": "markdown",
   "metadata": {},
   "source": [
    "Calculate the size the flocculator can be while meeting requirements for energy dissipation rate."
   ]
  },
  {
   "cell_type": "markdown",
   "metadata": {},
   "source": [
    "$$E_{DissAvg}=G_{Bar}^{2}\\,\\nu$$\n",
    "\n",
    "$$V_{FlocBod}=Q_{Plant}\\,t_{FlocBod}$$"
   ]
  },
  {
   "cell_type": "code",
   "execution_count": 4,
   "metadata": {
    "collapsed": true
   },
   "outputs": [],
   "source": [
    "#Energy dissipation was calculated according to the method described in CEE 4540, Fall 2017.\n",
    "G_BAR = (pc.gravity * HEADLOSS) / (COLL_POT_FLOC_BOD * exp.NU_WATER)\n",
    "ENERGY_DIS_AVERAGE = G_BAR**2 * exp.NU_WATER\n",
    "TIME_FLOC_BOD = COLL_POT_FLOC_BOD / G_BAR\n",
    "VOLUME_FLOC_BOD = FLOW_PLANT * TIME_FLOC_BOD"
   ]
  },
  {
   "cell_type": "markdown",
   "metadata": {},
   "source": [
    "### Channel Width and Number of Channels\n",
    "\n",
    "<img src=\"Flocculator_Top_View.PNG\">"
   ]
  },
  {
   "cell_type": "markdown",
   "metadata": {},
   "source": [
    "Use volume and efficiency to calculate channel width and number of channels."
   ]
  },
  {
   "cell_type": "markdown",
   "metadata": {},
   "source": [
    "$$W_{Floc,MinEff}=\\Pi_{HS,Min}\\,\\left(\\frac{K_{Minor,FlocBaffle}}{2\\,H_{WaterEnd}\\,E_{DissAvg}}\\right)^{\\frac{1}{3}}\\,\\frac{Q}{H_{WaterEnd}}$$\n",
    "\n",
    "$$W_{FlocChanHL}=\\frac{V_{FlocBod}}{H_{WaterEnd}\\,\\left(N_{FlocChan}\\,L_{Floc}-L_{EntTank}-T_{FlocDivWall}-2\\,W_{SedInChan,PreWeir}\\right)}$$\n",
    "\n",
    "$$N_{FlocChannels}=\\frac{\\frac{V_{FlocBod}}{W_{MaxSheet}\\,H_{WaterEnd}}+L_{EntTank}+T_{FlocDivWall}+2\\,W_{SedInChannel,PreWeir}}{L_{Floc}}$$"
   ]
  },
  {
   "cell_type": "code",
   "execution_count": 5,
   "metadata": {},
   "outputs": [
    {
     "data": {
      "text/html": [
       "2.0 dimensionless"
      ],
      "text/latex": [
       "$2.0\\ dimensionless$"
      ],
      "text/plain": [
       "<Quantity(2.0, 'dimensionless')>"
      ]
     },
     "execution_count": 5,
     "metadata": {},
     "output_type": "execute_result"
    }
   ],
   "source": [
    "## Max channel width is the the width of one baffle sheet\n",
    "WIDTH_MAX_SHEET = 1 * u.m\n",
    "\n",
    "## Min width is based on the half the width of the baffle sheets\n",
    "WIDTH_MIN_SHEET = WIDTH_MAX_SHEET / 2\n",
    "\n",
    "WIDTH_FLOC_MINIMUM_EFFICIENT = RATIO_HS_MIN * (exp.K_MINOR_FLOC_BAFFLE / (2 * HEIGHT_WATER_END * ENERGY_DIS_AVERAGE)) \\\n",
    "    ** (1/3) * (FLOW_PLANT / HEIGHT_WATER_END)\n",
    "WIDTH_FLOC_MIN = max(WIDTH_MIN_SHEET,WIDTH_FLOC_MINIMUM_EFFICIENT.to(u.m))\n",
    "\n",
    "NUMBER_FLOC_CHANNELS = np.ceil((((VOLUME_FLOC_BOD)/(WIDTH_MAX_SHEET * HEIGHT_WATER_END) + \\\n",
    "    LENGTH_ENTRANCE_TANK + THICKNESS_FLOC_DIVIDING_WALL + 2 * WIDTH_SED_INLET_CHANNEL_PRE_WEIR) / LENGTH_FLOC)\\\n",
    "    .to(u.dimensionless))\n",
    "WIDTH_FLOC_CHANNEL_HL = VOLUME_FLOC_BOD / (HEIGHT_WATER_END * (NUMBER_FLOC_CHANNELS * LENGTH_FLOC - LENGTH_ENTRANCE_TANK \\\n",
    "   - THICKNESS_FLOC_DIVIDING_WALL - 2 * WIDTH_SED_INLET_CHANNEL_PRE_WEIR))\n",
    "WIDTH_FLOC_CHANNEL = max(WIDTH_FLOC_CHANNEL_HL,WIDTH_FLOC_MIN)\n",
    "NUMBER_FLOC_CHANNELS"
   ]
  },
  {
   "cell_type": "markdown",
   "metadata": {},
   "source": [
    "### Obstacles"
   ]
  },
  {
   "cell_type": "markdown",
   "metadata": {},
   "source": [
    "Determine whether obstacles are needed and what spacing makes the flocculator efficient. The obstacles will be made to have the same VC as the 180 degree turn around the baffle to make calculations easy."
   ]
  },
  {
   "cell_type": "markdown",
   "metadata": {},
   "source": [
    "$$N_{FlocSpaceObst}=N_{FlocSpaceExpan}-1$$\n",
    "\n",
    "$$H_{Floc,Obst}=\\frac{H_{WaterEnd}}{N_{FlocSpaceExpan}}$$"
   ]
  },
  {
   "cell_type": "code",
   "execution_count": 6,
   "metadata": {
    "collapsed": true
   },
   "outputs": [],
   "source": [
    "HEIGHT_FLOC_OBSTACLE_MAX = (exp.K_MINOR_FLOC_BAFFLE / (2 * ENERGY_DIS_AVERAGE))**(1/4) * (RATIO_HS_MAX * FLOW_PLANT / \\\n",
    "    WIDTH_FLOC_CHANNEL)**(3/4)\n",
    "NUMBER_FLOC_SPACE_EXPANSIONS = np.ceil((HEIGHT_WATER_END / HEIGHT_FLOC_OBSTACLE_MAX).to(u.dimensionless))\n",
    "NUMBER_FLOC_SPACE_OBSTACLES = NUMBER_FLOC_SPACE_EXPANSIONS - 1\n",
    "HEIGHT_FLOC_OBSTACLES = HEIGHT_WATER_END / NUMBER_FLOC_SPACE_EXPANSIONS"
   ]
  },
  {
   "cell_type": "markdown",
   "metadata": {},
   "source": [
    "### Baffle Spacing\n",
    "\n",
    "<img src=\"Flocculator_CAD.PNG\">"
   ]
  },
  {
   "cell_type": "markdown",
   "metadata": {},
   "source": [
    "Use geometry of channels to determine baffle spacing in order to keep the flocculator efficient."
   ]
  },
  {
   "cell_type": "markdown",
   "metadata": {},
   "source": [
    "$$S_{FlocBaffle}=\\frac{L_{Floc}-N_{FlocChanBaffles}\\,T_{FlocBaffle}}{N_{FlocChanSpaces}}$$"
   ]
  },
  {
   "cell_type": "code",
   "execution_count": 7,
   "metadata": {
    "collapsed": true
   },
   "outputs": [],
   "source": [
    "SPACING_FLOC_BAFFLE_MIN = (exp.K_MINOR_FLOC_BAFFLE / (2 * HEIGHT_FLOC_OBSTACLES * ENERGY_DIS_AVERAGE))**(1/3) * \\\n",
    "    (FLOW_PLANT / WIDTH_FLOC_CHANNEL)\n",
    "NUMBER_FLOC_CHANNEL_SPACES = np.ceil((LENGTH_FLOC + exp.THICKNESS_FLOC_BAFFLE)/((SPACING_FLOC_BAFFLE_MIN + \\\n",
    "    exp.THICKNESS_FLOC_BAFFLE).to(u.m))).to(u.dimensionless)\n",
    "NUMBER_FLOC_CHANNEL_BAFFLES = NUMBER_FLOC_CHANNEL_SPACES - 1\n",
    "SPACING_FLOC_BAFFLE = (LENGTH_FLOC - NUMBER_FLOC_CHANNEL_BAFFLES * exp.THICKNESS_FLOC_BAFFLE) / \\\n",
    "    NUMBER_FLOC_CHANNEL_SPACES"
   ]
  },
  {
   "cell_type": "markdown",
   "metadata": {},
   "source": [
    "### Number of baffles and expansions "
   ]
  },
  {
   "cell_type": "markdown",
   "metadata": {},
   "source": [
    "Based on spacing and geometry, one can calculate the number of baffles in a central channel. The first and last channels have different numbers of baffles due to the entrance tank and entrance into the sedimentation tank, respectively. After the total number of baffles is calculated, the total number of expansions can be determined."
   ]
  },
  {
   "cell_type": "markdown",
   "metadata": {},
   "source": [
    "$$N_{FlocBaffles}=N_{Floc,FirstChanBaffles}+N_{Floc,LastChanBaffles}+N_{FlocChanBaffles}\\,\\left(N_{FlocChan}-2\\right)$$\n",
    "\n",
    "$$N_{FlocExpan}=N_{FlocSpaces}\\,N_{FlocSpaceExpan}$$"
   ]
  },
  {
   "cell_type": "code",
   "execution_count": 8,
   "metadata": {
    "collapsed": true
   },
   "outputs": [],
   "source": [
    "## First channel must account for entrance tank being in the channel\n",
    "NUMBER_FLOC_FIRST_CHANNEL_SPACES = np.floor((LENGTH_FLOC - LENGTH_ENTRANCE_TANK - THICKNESS_FLOC_DIVIDING_WALL + \\\n",
    "    exp.THICKNESS_FLOC_BAFFLE) / (SPACING_FLOC_BAFFLE + exp.THICKNESS_FLOC_BAFFLE))\n",
    "NUMBER_FLOC_FIRST_CHANNEL_BAFFLES = NUMBER_FLOC_FIRST_CHANNEL_SPACES\n",
    "\n",
    "## Last channel must accout for sed tank inlet\n",
    "NUMBER_FLOC_LAST_CHANNEL_SPACES = np.floor((LENGTH_FLOC - WIDTH_SED_INLET_CHANNEL_PRE_WEIR + exp.THICKNESS_FLOC_BAFFLE) / \\\n",
    "    (SPACING_FLOC_BAFFLE + exp.THICKNESS_FLOC_BAFFLE))\n",
    "NUMBER_FLOC_LAST_CHANNEL_BAFFLES = NUMBER_FLOC_LAST_CHANNEL_SPACES\n",
    "\n",
    "## Total\n",
    "NUMBER_FLOC_SPACES = NUMBER_FLOC_FIRST_CHANNEL_SPACES + NUMBER_FLOC_LAST_CHANNEL_SPACES + NUMBER_FLOC_CHANNEL_SPACES * \\\n",
    "    (NUMBER_FLOC_CHANNELS - 2)\n",
    "NUMBER_FLOC_EXPANSIONS = NUMBER_FLOC_SPACES * NUMBER_FLOC_SPACE_EXPANSIONS\n",
    "NUMBER_FLOC_BAFFLES = NUMBER_FLOC_FIRST_CHANNEL_BAFFLES + NUMBER_FLOC_LAST_CHANNEL_BAFFLES + NUMBER_FLOC_CHANNEL_BAFFLES \\\n",
    "    * (NUMBER_FLOC_CHANNELS - 2)"
   ]
  },
  {
   "cell_type": "markdown",
   "metadata": {},
   "source": [
    "## Final Parameters\n",
    "\n",
    "The actual plant parameters are determined below based on constraints for integer numbers of baffles, channels, etc.\n",
    "\n",
    "### Collision Potential"
   ]
  },
  {
   "cell_type": "markdown",
   "metadata": {},
   "source": [
    "$$G\\,\\theta_{Floc}=G\\,\\theta_{FlocExpan}\\,N_{FlocExpan}$$"
   ]
  },
  {
   "cell_type": "code",
   "execution_count": 9,
   "metadata": {
    "collapsed": true
   },
   "outputs": [],
   "source": [
    "CP_FLOC_EXPANSION = np.sqrt(HEIGHT_FLOC_OBSTACLES * exp.K_MINOR_FLOC_BAFFLE * FLOW_PLANT / (2 * exp.NU_WATER * \n",
    "      WIDTH_FLOC_CHANNEL * SPACING_FLOC_BAFFLE))\n",
    "CP_FLOC = CP_FLOC_EXPANSION * NUMBER_FLOC_EXPANSIONS"
   ]
  },
  {
   "cell_type": "markdown",
   "metadata": {},
   "source": [
    "### Fluid Velocity"
   ]
  },
  {
   "cell_type": "markdown",
   "metadata": {},
   "source": [
    "$$V_{Floc}=\\frac{Q_{Plant}}{S_{FlocBaffle}\\,W_{FlocChan}}$$"
   ]
  },
  {
   "cell_type": "code",
   "execution_count": 10,
   "metadata": {
    "collapsed": true
   },
   "outputs": [],
   "source": [
    "VELOCITY_FLOC = FLOW_PLANT / (SPACING_FLOC_BAFFLE * WIDTH_FLOC_CHANNEL)"
   ]
  },
  {
   "cell_type": "markdown",
   "metadata": {},
   "source": [
    "### Headloss"
   ]
  },
  {
   "cell_type": "markdown",
   "metadata": {},
   "source": [
    "$$Headloss_{Floc}=\\frac{K_{Minor,FlocBaffle}\\,v_{Floc}^{2}}{2\\,g}\\,N_{FlocExpan}$$"
   ]
  },
  {
   "cell_type": "code",
   "execution_count": 11,
   "metadata": {
    "collapsed": true
   },
   "outputs": [],
   "source": [
    "HEADLOSS_FLOC = exp.K_MINOR_FLOC_BAFFLE * VELOCITY_FLOC **2 / (2 * pc.gravity) * NUMBER_FLOC_EXPANSIONS"
   ]
  },
  {
   "cell_type": "markdown",
   "metadata": {},
   "source": [
    "### H/S Ratio"
   ]
  },
  {
   "cell_type": "markdown",
   "metadata": {},
   "source": [
    "$$\\Pi_{FlocHS,Min}=\\frac{H_{FlocObst}}{S_{FlocBaffle}}$$\n",
    "\n",
    "$$\\Pi_{FlocHS,Max}=\\frac{H_{FlocObst}+Headloss_{Floc}}{S_{FlocBaffle}}$$"
   ]
  },
  {
   "cell_type": "code",
   "execution_count": 12,
   "metadata": {
    "collapsed": true
   },
   "outputs": [],
   "source": [
    "RATIO_FLOC_HS_MIN = HEIGHT_FLOC_OBSTACLES / SPACING_FLOC_BAFFLE\n",
    "RATIO_FLOC_HS_MAX = (HEIGHT_FLOC_OBSTACLES + HEADLOSS_FLOC) / SPACING_FLOC_BAFFLE"
   ]
  },
  {
   "cell_type": "markdown",
   "metadata": {},
   "source": [
    "### Energy Dissipation Rate"
   ]
  },
  {
   "cell_type": "markdown",
   "metadata": {},
   "source": [
    "$$E_{DissFloc,Avg}=\\frac{K_{Minor,FlocBaffle}}{2\\,H_{FlocObst}}\\,\\left(\\frac{Q_{Plant}}{W_{FlocChan}\\,S_{FlocBaffle}}\\right)^{3}$$\n",
    "\n",
    "$$E_{DissFloc,Max}=\\alpha_{\\epsilon,Floc}\\,E_{DissFloc,Avg}$$"
   ]
  },
  {
   "cell_type": "code",
   "execution_count": 13,
   "metadata": {
    "collapsed": true
   },
   "outputs": [],
   "source": [
    "ENERGY_DIS_FLOC_AVERAGE = (exp.K_MINOR_FLOC_BAFFLE / (2 * HEIGHT_FLOC_OBSTACLES)) * (FLOW_PLANT/(WIDTH_FLOC_CHANNEL * \n",
    "    SPACING_FLOC_BAFFLE))**3\n",
    "ENERGY_DIS_FLOC_MAX =2 * ENERGY_DIS_FLOC_AVERAGE"
   ]
  },
  {
   "cell_type": "markdown",
   "metadata": {},
   "source": [
    "### Average Velocity Gradient"
   ]
  },
  {
   "cell_type": "markdown",
   "metadata": {},
   "source": [
    "$$G_{Floc,Avg}=\\sqrt{\\frac{E_{DissFloc,Avg}}{\\nu}}$$"
   ]
  },
  {
   "cell_type": "code",
   "execution_count": 14,
   "metadata": {
    "collapsed": true
   },
   "outputs": [],
   "source": [
    "G_FLOC_AVERAGE = np.sqrt(ENERGY_DIS_FLOC_AVERAGE / exp.NU_WATER)"
   ]
  },
  {
   "cell_type": "markdown",
   "metadata": {},
   "source": [
    "### Residence Time"
   ]
  },
  {
   "cell_type": "markdown",
   "metadata": {},
   "source": [
    "$$t_{FlocActive}=\\frac{\\left(N_{FlocChan}\\,L_{Floc}-L_{EntTank}-T_{FlocDivWall}-S_{FlocBaffle}\\,\\left(N_{FlocChanSpaces}-N_{Floc,LastChanSpaces}\\right)\\right)\\,W_{FlocChan}\\,H_{WaterEnd}}{Q_{Plant}}$$"
   ]
  },
  {
   "cell_type": "code",
   "execution_count": 15,
   "metadata": {
    "collapsed": true
   },
   "outputs": [],
   "source": [
    "VOLUME_FLOC= (NUMBER_FLOC_CHANNELS * LENGTH_FLOC - LENGTH_ENTRANCE_TANK - THICKNESS_FLOC_DIVIDING_WALL) * WIDTH_FLOC_CHANNEL * \\\n",
    "    (HEIGHT_WATER_END + HEADLOSS_FLOC / 2)\n",
    "TIME_FLOC = VOLUME_FLOC / FLOW_PLANT\n",
    "TIME_FLOC_ACTIVE = (NUMBER_FLOC_CHANNELS * LENGTH_FLOC - LENGTH_ENTRANCE_TANK - THICKNESS_FLOC_DIVIDING_WALL - \\\n",
    "    (SPACING_FLOC_BAFFLE * (NUMBER_FLOC_CHANNEL_SPACES - NUMBER_FLOC_LAST_CHANNEL_SPACES)))* WIDTH_FLOC_CHANNEL * \\\n",
    "    HEIGHT_WATER_END / FLOW_PLANT "
   ]
  },
  {
   "cell_type": "markdown",
   "metadata": {},
   "source": [
    "### Alternative method for Collision Potential"
   ]
  },
  {
   "cell_type": "markdown",
   "metadata": {},
   "source": [
    "$$G\\,\\theta=G_{FlocAvg}\\,t_{FlocAct}$$"
   ]
  },
  {
   "cell_type": "code",
   "execution_count": 16,
   "metadata": {
    "collapsed": true
   },
   "outputs": [],
   "source": [
    "G_THETA = G_FLOC_AVERAGE * TIME_FLOC_ACTIVE"
   ]
  },
  {
   "cell_type": "markdown",
   "metadata": {},
   "source": [
    "### Baffle Heights\n",
    "\n",
    "The baffle height must follow the constraints of no-overflow and accounting for the water level at the end of the flocculator."
   ]
  },
  {
   "cell_type": "markdown",
   "metadata": {},
   "source": [
    "$$H_{Floc,TopLowBaffle}=H_{WaterEnd}-S_{FlocBaffle}\\,\\Pi_{FlocBaffle}$$\n",
    "\n",
    "$$H_{Floc,BottomTopBaffle}=H_{WaterEnd}+Headloss_{Floc}+H_{PlantFreeBoard}-S_{FlocBaffle}\\,\\Pi_{FlocBaffle}$$"
   ]
  },
  {
   "cell_type": "code",
   "execution_count": 17,
   "metadata": {
    "collapsed": true
   },
   "outputs": [],
   "source": [
    "HEIGHT_FLOC_TOP_OF_LOW_BAFFLE = HEIGHT_WATER_END - SPACING_FLOC_BAFFLE * exp.RATIO_FLOC_BAFFLE\n",
    "HEIGHT_FLOC_BOTTOM_OF_TOP_BAFFLE = HEIGHT_WATER_END + HEADLOSS_FLOC + exp.HEIGHT_PLANT_FREE_BOARD - \\\n",
    "    SPACING_FLOC_BAFFLE * exp.RATIO_FLOC_BAFFLE"
   ]
  },
  {
   "cell_type": "markdown",
   "metadata": {},
   "source": [
    "### Obstacle Design"
   ]
  },
  {
   "cell_type": "markdown",
   "metadata": {},
   "source": [
    "$$W_{FlocObst}=S_{FlocBaffle}\\,\\left(1-\\Pi_{VCBaffle}\\right)$$"
   ]
  },
  {
   "cell_type": "code",
   "execution_count": 18,
   "metadata": {
    "collapsed": true
   },
   "outputs": [],
   "source": [
    "WIDTH_FLOC_OBST = SPACING_FLOC_BAFFLE*(1-RATIO_VC_BAFFLE)"
   ]
  },
  {
   "cell_type": "markdown",
   "metadata": {},
   "source": [
    "## Final Output"
   ]
  },
  {
   "cell_type": "code",
   "execution_count": 19,
   "metadata": {},
   "outputs": [
    {
     "name": "stdout",
     "output_type": "stream",
     "text": [
      "The user inputs were used to design the final flocculator. The collision potential for this flocculator is the dimensionless value, 38531. The velocity is 217 mm/s and the headloss is 443.7 mm. The geometry of the flocculator is confined to H/S ratio limits of 3.693 and 5.331. The average velocity gradient is 112.9 Hz, and the flocculator residence time is 351.0 s. The maximum energy dissipation rate for the flocculator is 25.51 mW/kg. The height of the top of the lowest baffle is 1.729 m whereas the height of the bottom of the highest baffle is 2.273 m. The width of the obstacles for this flocculator is 165.9 mm. These parameters are necessary to design the flocculator geometry and flow requirements. Some parameters can be exported to AutoCAD Fusion to create a 3D drawing of the flocculator.\n"
     ]
    }
   ],
   "source": [
    "print('The user inputs were used to design the final flocculator. The collision potential for this flocculator \\\n",
    "is the dimensionless value, '+ut.sig(CP_FLOC.to(u.dimensionless),5)+'. The velocity is '+ut.sig(VELOCITY_FLOC.to(u.mm/u.s),3)+' \\\n",
    "and the headloss is '+ut.sig(HEADLOSS_FLOC.to(u.mm),4)+'. The geometry of the flocculator is confined to H/S ratio limits \\\n",
    "of '+ut.sig(RATIO_FLOC_HS_MIN.to(u.dimensionless),4)+' and '+ut.sig(RATIO_FLOC_HS_MAX.to(u.dimensionless),4)+'. The \\\n",
    "average velocity gradient is '+ut.sig(G_FLOC_AVERAGE.to(u.Hz),4)+', and the flocculator residence \\\n",
    "time is '+ut.sig(TIME_FLOC_ACTIVE.to(u.s),4)+'. The maximum energy dissipation rate for the flocculator \\\n",
    "is '+ut.sig(ENERGY_DIS_FLOC_MAX.to(u.mW/u.kg),4)+'. The height of the top of the lowest baffle \\\n",
    "is '+ut.sig(HEIGHT_FLOC_TOP_OF_LOW_BAFFLE.to(u.m),4)+' whereas the height of the bottom of the highest baffle \\\n",
    "is '+ut.sig(HEIGHT_FLOC_BOTTOM_OF_TOP_BAFFLE.to(u.m),4)+'. The width of the obstacles for this flocculator \\\n",
    "is '+ut.sig(WIDTH_FLOC_OBST.to(u.mm),4)+'. These parameters are necessary to design the flocculator geometry and flow \\\n",
    "requirements. Some parameters can be exported to AutoCAD Fusion to create a 3D drawing of the flocculator.')"
   ]
  },
  {
   "cell_type": "markdown",
   "metadata": {},
   "source": [
    "## Conclusions\n",
    "\n",
    "The code above can be used to design a flocculator based on efficiency and energy dissipation rate. This is congruous with the method taught by Professor Monroe Weber-Shirk in CEE 4540. While translating the MathCAD code, we removed non-essential functions to produce the most user-friendly and streamlined design code. Below, we provide suggestions for improving and expanding this design code.\n",
    "\n",
    "## Suggestions for Future Work\n",
    "\n",
    "We suggest expanding the flocculator code to include the entrance tank and horizontal flocculator design code. These designs can be integrated into AutoCAD to develop a drawing of the system. We also recommending developing Python code to predict the cost of the system."
   ]
  }
 ],
 "metadata": {
  "kernelspec": {
   "display_name": "Python 3",
   "language": "python",
   "name": "python3"
  },
  "language_info": {
   "codemirror_mode": {
    "name": "ipython",
    "version": 3
   },
   "file_extension": ".py",
   "mimetype": "text/x-python",
   "name": "python",
   "nbconvert_exporter": "python",
   "pygments_lexer": "ipython3",
   "version": "3.6.1"
  }
 },
 "nbformat": 4,
 "nbformat_minor": 2
}
