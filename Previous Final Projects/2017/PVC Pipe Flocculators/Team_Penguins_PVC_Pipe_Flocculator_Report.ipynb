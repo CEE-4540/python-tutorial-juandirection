{
 "cells": [
  {
   "cell_type": "markdown",
   "metadata": {},
   "source": [
    "# 1-5 L/s pvc pipe flocculator\n",
    "Penguins Preliminary Design**\n",
    "Kyle Glavey-Weiss\n",
    "Joe Pinnola-Vizza\n",
    "Elle Blake"
   ]
  },
  {
   "cell_type": "markdown",
   "metadata": {},
   "source": [
    "**Introduction**\n",
    "\n",
    "AguaClara’s goal of developing the first ever Fusion 360 open-source infrastructure design engine requires careful and thorough design code for all the components of a water treatment plant. The technology will allow engineers to design small or large scale plants. In the world of smaller scale plants, it is necessary to design cost effective, compact, and simple components, seeing as these plants are most likely to be built in smaller communities with limited resources. Flocculation in particular, is a key component in any treatment plant that requires deliberate, informed analysis and design. \n",
    "\n",
    "PVC pipes represent relatively inexpensive, widely available materials for these processes. Our goal is to design PVC pipe based flocculation systems to be incorporated in small scale (1-5 L/s) water treatment plants. Our code will take key parameters and provide an optimal, cost-effective design. As a result of this, we will provide a detailed design for a flocculator that can be used in various sized water treatment plants. Our design aims to help make flocculators more accessible and affordable regardless of the location or inputs in the design. \n",
    "\n",
    "Our goal is to make our code seamlessly return the optimal design including dimensions of required PVC pipe, average G, average energy dissipaation rate, number and area of required orifices, height of and distance between the chips used, and average velocity when given inputs listed below. We will use information presented in class to formulate our code. After listing our assumptions and constants, we will go through nine steps of calculations to produce the optimal design: \n",
    "\n",
    "* 1) G average, residence time, and average energy dissipation rate. \n",
    "* 2) Inner and nominal pipe diameter, and pipe area. \n",
    "* 3) Actual Ke given pipe diameter\n",
    "* 4) Orifice diameter and area\n",
    "* 5) Height of the chip\n",
    "* 6) Average velocity and pipe length\n",
    "* 7) Distance between orifices\n",
    "* 8) Number of orifices \n",
    "* 9) Total cost and length of the flocculator\n",
    "\n",
    "Our code will output these results with a py2tex representation of the equations used to achieve them.\n",
    "\n"
   ]
  },
  {
   "cell_type": "markdown",
   "metadata": {},
   "source": [
    "**Design Approach**\n",
    "\n",
    "The image below, taken from last years Team of Dreams presentation, illustrates the current design for small flow flocculators.  This system is easy to construct and ship. \n",
    "\n",
    "![chi![chipstix.png](chipstix.png)\n",
    "\n",
    "The figure below shows what potential cross sections of this design could look like.  The major design decision shown here is diameter size and obstacle spacing.  These two extremes show different ways of modeling the flocculator.  The small diameter model assumes the flow space is equal to the diameter (S=D).  The large diameter model assumes the distance between expansions is equal to the diameter (He = D).  While we can model the flocculator in these two different ways, we determined that small diameter PVC is going to be the most economical due to the cost of large diameter pipes.  Furthermore, both designs will suffer from lost coagulant to the walls, because the flow space in the large diameter pipe is comparable to the flow space in the small diameter pipe due to the geometry. We decided preemptively to choose smaller pipes due to the vastly increasing costs with large diameter pipes.  \n",
    "\n",
    "![geometry.png](geometry.png)"
   ]
  },
  {
   "cell_type": "markdown",
   "metadata": {},
   "source": [
    "# Inputs and Outputs\n",
    "\n",
    "*The code below will take the listed inputs, and output values for key design parameters for the 1-5 L/s flocculator*\n",
    "\n",
    "**Inputs:**\n",
    "* Flow Rate (Q) (1-5 L/s)\n",
    "* Collision potential ($G\\theta$) (1/s)\n",
    "* total headloss (h_floc) (cm)\n",
    "* He/S ratio (Pi_HS)\n",
    "* Coldest Temp (Temp) (Celsius)\n",
    "\n",
    "\n",
    "**Outputs:**\n",
    "* Average Velocity\n",
    "* Pipe Length\n",
    "* Nominal Pipe Diameter\n",
    "* Inner Pipe Diameter\n",
    "* Chip Height\n",
    "* Number of Chips\n",
    "* Space between Chips"
   ]
  },
  {
   "cell_type": "markdown",
   "metadata": {},
   "source": [
    "**To obtain design for flocculator, input values then run all cells**\n"
   ]
  },
  {
   "cell_type": "markdown",
   "metadata": {},
   "source": [
    "**Imports**"
   ]
  },
  {
   "cell_type": "code",
   "execution_count": 1,
   "metadata": {
    "collapsed": true
   },
   "outputs": [],
   "source": [
    "from aide_design.play import*\n",
    "from aide_design import floc_model as floc\n",
    "from pytexit import py2tex\n",
    "from sympy import*\n",
    "from scipy.optimize import root\n",
    "from scipy.optimize import brentq\n",
    "import pandas as pd"
   ]
  },
  {
   "cell_type": "markdown",
   "metadata": {},
   "source": [
    "# Functions"
   ]
  },
  {
   "cell_type": "code",
   "execution_count": 2,
   "metadata": {
    "collapsed": true
   },
   "outputs": [],
   "source": [
    "#Assumptions\n",
    "Pi_VC = .62 #Vena contracta coefficient of an orifice\n",
    "Ke = ((1/Pi_VC**2)-1)**2 #expansion coefficient \n",
    "\n",
    "#Functions to calculate key parameters\n",
    "\n",
    "def Gave(G_theta,h_floc,Temp): \n",
    "    \"\"\"Calculates average G given target minimum collision potential, total headloss, and design temperature\n",
    "    equation from flocculation slides\"\"\"\n",
    "    G_ave = (pc.gravity*h_floc/(G_theta*pc.viscosity_kinematic(Temp))).to(1/u.s)\n",
    "    return G_ave\n",
    "\n",
    "def restime(G_theta,G_ave):\n",
    "    \"\"\"Calculates residence time given collision potential and average G\n",
    "    equation from flocculation slides\"\"\"\n",
    "    theta = G_theta/G_ave\n",
    "    return theta\n",
    "\n",
    "\n",
    "def Dpipe(Ke,Pi_HS,Q,G_ave,Temp,SDR):\n",
    "    \"\"\"Calculates the actual inner diameter of the pipe\n",
    "    equation from flocculation slides\"\"\"\n",
    "    D_pipe = ((Ke/(2*Pi_HS*pc.viscosity_kinematic(Temp)*G_ave**2))*(4*Q.to(u.m**3/u.s)/np.pi)**3)**(1/7)\n",
    "    return D_pipe\n",
    "\n",
    "def Keactual(ID_pipe,G_ave,Temp,Pi_HS,Q):\n",
    "    \"\"\"estimates actual expansion coefficient given the actual inner diameter and other relevant inputs\n",
    "    equation from flocculation slides\"\"\"\n",
    "    Ke_actual = np.pi**3*ID_pipe**7*G_ave**2*pc.viscosity_kinematic(Temp)*Pi_HS/(32*Q.to(u.m**3/u.s)**3)\n",
    "    return Ke_actual\n",
    "\n",
    "\n",
    "\n",
    "def Aorifice(ID_pipe,Ke_actual,Temp,Q):\n",
    "    \"\"\"Calculates the orifice area given pipe inner diameter, expansion coeffecient, Temperature, and flow\"\"\"\n",
    "    A1 = (pc.area_circle(ID_pipe)).to(u.cm**2).magnitude #Pipe area\n",
    "    Nu = pc.viscosity_kinematic(Temp) #kinematic viscocity\n",
    "    Re = pc.re_pipe(Q,ID_pipe,Nu) #reynolds number\n",
    "    \n",
    "    def f_orif(A2,A1,Ke_actual,Re): #root of this function is the orifice area\n",
    "        return (2.72+(A2/A1)*(4000/Re))*(1-A2/A1)*((A1/A2)**2-1)-Ke_actual\n",
    "    \n",
    "    A_orifice = (brentq(lambda A2: f_orif(A2,A1,Ke_actual,Re), -1, 2*A1))*u.cm**2 #numerical optimization\n",
    "    \n",
    "    return A_orifice\n",
    "\n",
    "\n",
    "def eave(G_ave,Temp):\n",
    "    \"\"\"Calculates the average energy dissipation rate\"\"\"\n",
    "    e_ave = (pc.viscosity_kinematic(Temp)*G_ave**2).to(u.mW/u.kg)\n",
    "    return e_ave\n",
    "\n",
    "def Hchip(A_orifice,ID_pipe):\n",
    "    \"\"\"This function calculates the height of the chip based on the orifice area and pipe diameter\n",
    "    The function uses numerical optimization to solve the transcendental equation\"\"\"\n",
    "    A_flow = A_orifice.magnitude #orifice area stripped of units\n",
    "    r=(ID_pipe/2).magnitude #radius stripped of units\n",
    "    c = A_flow/r**2 #left hand side of equation\n",
    "\n",
    "    def f(a,c): #roots of this function are theta\n",
    "        return a-sin(a)*cos(a)-c\n",
    "    \n",
    "    theta = brentq(lambda a: f(a,c), 0, 13) #numerical optimization\n",
    "    r_u = r*u.cm #radius with units\n",
    "    y = r_u - r_u*np.cos(theta) #height of orifice\n",
    "\n",
    "    H_chip = ID_pipe-y #height of chip\n",
    "    return H_chip\n",
    "\n",
    "def Cost_Length(L_pipe,ND_pipe):\n",
    "    \"\"\"This function calculates the total cost of the system and the total length of the system\"\"\"\n",
    "    #Length of pipe and number of fittings needed\n",
    "    OD_pipe = pipe.OD(ND_pipe)\n",
    "    Total_Pipe = L_pipe + .5*u.m\n",
    "    Number_T = np.ceil(Total_Pipe.magnitude)\n",
    "    Number_Elbow = np.ceil(Total_Pipe.magnitude)\n",
    "    \n",
    "    if ND_pipe.magnitude == 3:\n",
    "        Cost_T = 3.94*u.dollar\n",
    "        Cost_Elbow = 3.53*u.dollar\n",
    "        Cost_Pipe = (17.14/10*(u.dollar/u.foot)).to(u.dollar/u.m)\n",
    "        Cost_Valve = 10*u.dollar\n",
    "        Width_T = (3.99*u.inch).to(u.cm)\n",
    "        Width_Elbow = (3.97*u.inch).to(u.cm)\n",
    "        \n",
    "\n",
    "    if ND_pipe.magnitude ==4:\n",
    "        Cost_T = 7.16*u.dollar\n",
    "        Cost_Elbow = 5.40*u.dollar\n",
    "        Cost_Pipe = (21.5/10*(u.dollar/u.foot)).to(u.dollar/u.m)\n",
    "        Cost_Valve = 10*u.dollar\n",
    "        Width_T = (5.06*u.inch).to(u.cm)\n",
    "        Width_Elbow = (5.06*u.inch).to(u.cm)\n",
    "        \n",
    "    if ND_pipe.magnitude ==6:\n",
    "        Cost_T = 7.16*u.dollar\n",
    "        Cost_Elbow = 5.40*u.dollar\n",
    "        Cost_Pipe = (21.5/10*(u.dollar/u.foot)).to(u.dollar/u.m)\n",
    "        Cost_Valve = 10*u.dollar\n",
    "        Width_T = (5.06*u.inch).to(u.cm)\n",
    "        Width_Elbow = (5.06*u.inch).to(u.cm)\n",
    "    \n",
    "    \n",
    "    Total_Cost = Cost_Pipe*Total_Pipe + Cost_T*Number_T + Cost_Elbow*Number_Elbow + Cost_Valve*Number_Elbow\n",
    "    Floor_Length = Number_T*(Width_T+Width_Elbow-OD_pipe).to(u.m)\n",
    "    Output=[Total_Cost,Floor_Length]\n",
    "    return Output\n"
   ]
  },
  {
   "cell_type": "markdown",
   "metadata": {},
   "source": [
    "$$Ke=\\left(2.72+\\frac{A2}{A1}\\,\\frac{4000}{Re}\\right)\\,\\left(1-\\frac{A2}{A1}\\right)\\,\\left(\\left(\\frac{A1}{A2}\\right)^{2}-1\\right)$$"
   ]
  },
  {
   "cell_type": "markdown",
   "metadata": {},
   "source": [
    "# Calculations"
   ]
  },
  {
   "cell_type": "markdown",
   "metadata": {},
   "source": [
    "**Must run all cells below before looking at results**\n",
    "For quick results, input values then run all cells"
   ]
  },
  {
   "cell_type": "code",
   "execution_count": 3,
   "metadata": {
    "collapsed": true
   },
   "outputs": [],
   "source": [
    "#Inputs\n",
    "Q = 1*u.L/u.s\n",
    "Temp = 15*u.degC\n",
    "h_floc = 50*u.cm #standard for Aguaclara plants\n",
    "G_theta = 20000 #standard for Aguaclara plants\n",
    "Pi_HS = 6  ##3-6 is a good range, more research needed\n",
    "SDR = 41 #Standard ratio\n"
   ]
  },
  {
   "cell_type": "markdown",
   "metadata": {},
   "source": [
    "**Step 1**\n",
    "Calculate Gave, residence time, and average energy dissapation rate\n",
    "$$G_{ave}=\\frac{g\\,h_{floc}}{G\\,\\theta\\,\\nu}$$\n",
    "$$\\theta=\\frac{G_{\\theta}}{G_{ave}}$$\n",
    "$$e_{ave}=\\nu\\,G_{ave}^{2}$$\n"
   ]
  },
  {
   "cell_type": "code",
   "execution_count": 4,
   "metadata": {
    "collapsed": false
   },
   "outputs": [
    {
     "name": "stdout",
     "output_type": "stream",
     "text": [
      "The average G value is  215.6 / second\n",
      "The residence time in the flocculator is  92.75 second\n",
      "The average energy dissipation rate is  52.86 milliwatt / kilogram\n"
     ]
    }
   ],
   "source": [
    "#Calculate G average using functions listed above and given inputs\n",
    "G_ave = Gave(G_theta,h_floc,Temp) \n",
    "theta = restime(G_theta,G_ave)\n",
    "e_ave = eave(G_ave,Temp)\n",
    "print('The average G value is ',G_ave)\n",
    "print('The residence time in the flocculator is ',theta)\n",
    "print('The average energy dissipation rate is ', e_ave)"
   ]
  },
  {
   "cell_type": "markdown",
   "metadata": {},
   "source": [
    "**Step 2**\n",
    "Calculate pipe diameter, inner and nominal, and pipe area\n",
    "$$D_{pipe}=\\left(\\frac{K_{e}}{2\\,\\Pi_{HS}\\,\\nu\\,G_{ave}^{2}}\\,\\left(\\frac{4\\,Q}{\\pi}\\right)^{3}\\right)^{\\frac{1}{7}}$$"
   ]
  },
  {
   "cell_type": "code",
   "execution_count": 5,
   "metadata": {
    "collapsed": false
   },
   "outputs": [
    {
     "name": "stdout",
     "output_type": "stream",
     "text": [
      "The ideal inner diameter of the pipe would be  7.013 centimeter\n",
      "The nominal diameter of the pipe is  3 inch , and the inner diameter is  8.456 centimeter\n",
      "The area of the pipe is  56.16 centimeter ** 2\n"
     ]
    }
   ],
   "source": [
    "#Calculate the pipe diameter, both inner and nominal and determine area of pipe using inner diameter output\n",
    "D_pipe = (Dpipe(Ke,Pi_HS,Q,G_ave,Temp,SDR)).to(u.cm)\n",
    "#Calculate nominal diameter of pipe\n",
    "ND_pipe = pipe.ND_SDR_available(D_pipe,SDR)\n",
    "#Calculate nominal diameter of pipe\n",
    "ID_pipe = pipe.ID_SDR(ND_pipe,SDR).to(u.cm)\n",
    "#Calculate inner diameter of pipe\n",
    "A_pipe = (pc.area_circle(ID_pipe)).to(u.cm**2)\n",
    "\n",
    "print('The ideal inner diameter of the pipe would be ',D_pipe)\n",
    "print('The nominal diameter of the pipe is ',ND_pipe, ', and the inner diameter is ', ID_pipe)\n",
    "print('The area of the pipe is ', A_pipe)"
   ]
  },
  {
   "cell_type": "markdown",
   "metadata": {},
   "source": [
    "**Step 3**\n",
    "Calculate actual Ke given pipe diameter\n",
    "$$Ke_{actual}=\\frac{\\pi^{3}\\,ID_{pipe}^{7}\\,G_{ave}^{2}\\,\\nu\\,\\Pi_{HS}}{32\\,Q^{3}}$$"
   ]
  },
  {
   "cell_type": "code",
   "execution_count": 6,
   "metadata": {
    "collapsed": false
   },
   "outputs": [
    {
     "name": "stdout",
     "output_type": "stream",
     "text": [
      "The initial expansion minor loss coefficient was  2.5646639329262677\n",
      "The actual expansion minor loss coefficient is  9.504 dimensionless\n"
     ]
    }
   ],
   "source": [
    "#Calculate the actual Ke as a result of the calculated inner pipe diameter\n",
    "Ke_actual = (Keactual(ID_pipe,G_ave,Temp,Pi_HS,Q)).to(u.dimensionless)\n",
    "print('The initial expansion minor loss coefficient was ',Ke)\n",
    "print('The actual expansion minor loss coefficient is ',Ke_actual)"
   ]
  },
  {
   "cell_type": "markdown",
   "metadata": {},
   "source": [
    "**Step 4**\n",
    "Calculate orifice area by solving transcendental equation for A2:\n",
    "\n",
    "$$Ke=\\left(2.72+\\frac{A2}{A1}\\,\\frac{4000}{Re}\\right)\\,\\left(1-\\frac{A2}{A1}\\right)\\,\\left(\\left(\\frac{A1}{A2}\\right)^{2}-1\\right)$$\n",
    "\n",
    "Equation from https://neutrium.net/fluid_flow/pressure-loss-from-fittings-expansion-and-reduction-in-pipe-size/\n"
   ]
  },
  {
   "cell_type": "code",
   "execution_count": 7,
   "metadata": {
    "collapsed": false
   },
   "outputs": [
    {
     "name": "stdout",
     "output_type": "stream",
     "text": [
      "The orifice area is  22.02 centimeter ** 2\n"
     ]
    }
   ],
   "source": [
    "#Calculate the orifice area\n",
    "A_orifice = Aorifice(ID_pipe,Ke_actual,Temp,Q)\n",
    "print('The orifice area is ',A_orifice)"
   ]
  },
  {
   "cell_type": "markdown",
   "metadata": {},
   "source": [
    "**Step 5**\n",
    "Calculate height of the chip\n"
   ]
  },
  {
   "cell_type": "code",
   "execution_count": 8,
   "metadata": {
    "collapsed": false
   },
   "outputs": [
    {
     "name": "stdout",
     "output_type": "stream",
     "text": [
      "The height of the chip is  4.949 centimeter\n"
     ]
    }
   ],
   "source": [
    "# The following line of code needs to be removed once the orifice area equation is corrected.\n",
    "\n",
    "H_chip = Hchip(A_orifice,ID_pipe)\n",
    "print('The height of the chip is ', H_chip)"
   ]
  },
  {
   "cell_type": "markdown",
   "metadata": {},
   "source": [
    "**Step 6**\n",
    "Calculate average velocity and pipe length"
   ]
  },
  {
   "cell_type": "code",
   "execution_count": 9,
   "metadata": {
    "collapsed": false
   },
   "outputs": [
    {
     "name": "stdout",
     "output_type": "stream",
     "text": [
      "The average velocity is  0.1781 meter / second\n",
      "The length of the pipe is  16.52 meter\n"
     ]
    }
   ],
   "source": [
    "#Calculate average velocity\n",
    "V_avg = (Q/pc.area_circle(ID_pipe)).to(u.m/u.s) #first calculate average velocity\n",
    "print('The average velocity is ',V_avg)\n",
    "\n",
    "#Calculate pipe length\n",
    "L_pipe = (V_avg*theta).to(u.m) #then multiply velocity by residence time to get the required length of pipe\n",
    "print('The length of the pipe is ',L_pipe)"
   ]
  },
  {
   "cell_type": "markdown",
   "metadata": {},
   "source": [
    "**Step 7**\n",
    "Calculate distance between orifices"
   ]
  },
  {
   "cell_type": "code",
   "execution_count": 10,
   "metadata": {
    "collapsed": false
   },
   "outputs": [
    {
     "name": "stdout",
     "output_type": "stream",
     "text": [
      "The distance between obstacles is  50.74 centimeter\n"
     ]
    }
   ],
   "source": [
    "He = ID_pipe*Pi_HS #In this case, S==D, so we can multiply the diameter of the pipe \n",
    "#by the He/S ratio to get He, the distance between expansions ie the distance between obstacles\n",
    "print('The distance between obstacles is ',He)\n"
   ]
  },
  {
   "cell_type": "markdown",
   "metadata": {},
   "source": [
    "**Step 8**\n",
    "Calculate number of orifices"
   ]
  },
  {
   "cell_type": "code",
   "execution_count": 11,
   "metadata": {
    "collapsed": false
   },
   "outputs": [
    {
     "name": "stdout",
     "output_type": "stream",
     "text": [
      "The number of orifices is  33 dimensionless\n"
     ]
    }
   ],
   "source": [
    "N = (np.ceil(L_pipe/He.to(u.m))) #Divide total length of pipe by distance between orifices, round up\n",
    "print('The number of orifices is ', N)"
   ]
  },
  {
   "cell_type": "markdown",
   "metadata": {},
   "source": [
    "**Step 9** Calculate total cost and floor length of flocculator"
   ]
  },
  {
   "cell_type": "code",
   "execution_count": 12,
   "metadata": {
    "collapsed": false
   },
   "outputs": [
    {
     "name": "stdout",
     "output_type": "stream",
     "text": [
      "The total cost of the system is  410.1 dollar  and the floor length is  2.039 meter\n"
     ]
    }
   ],
   "source": [
    "Cost_and_Length = Cost_Length(L_pipe,ND_pipe)\n",
    "print('The total cost of the system is ', Cost_and_Length[0], ' and the floor length is ',Cost_and_Length[1])"
   ]
  },
  {
   "cell_type": "markdown",
   "metadata": {},
   "source": [
    "**Headloss check** System headloss should match target"
   ]
  },
  {
   "cell_type": "code",
   "execution_count": 13,
   "metadata": {
    "collapsed": false
   },
   "outputs": [
    {
     "name": "stdout",
     "output_type": "stream",
     "text": [
      "The total headloss in the flocculator is, 0.5069 meter  which is very close to our target of 0.5m\n"
     ]
    }
   ],
   "source": [
    "Headloss=N*Ke_actual*V_avg**2/(2*pc.gravity)\n",
    "print('The total headloss in the flocculator is,', Headloss, ' which is very close to our target of 0.5m')"
   ]
  },
  {
   "cell_type": "markdown",
   "metadata": {},
   "source": [
    "# Design Summary "
   ]
  },
  {
   "cell_type": "markdown",
   "metadata": {},
   "source": [
    "**Below is a function that combines the above steps into one function that outputs the results for a given flocculator.  "
   ]
  },
  {
   "cell_type": "code",
   "execution_count": 15,
   "metadata": {
    "collapsed": false
   },
   "outputs": [
    {
     "data": {
      "text/html": [
       "<div>\n",
       "<style>\n",
       "    .dataframe thead tr:only-child th {\n",
       "        text-align: right;\n",
       "    }\n",
       "\n",
       "    .dataframe thead th {\n",
       "        text-align: left;\n",
       "    }\n",
       "\n",
       "    .dataframe tbody tr th {\n",
       "        vertical-align: top;\n",
       "    }\n",
       "</style>\n",
       "<table border=\"1\" class=\"dataframe\">\n",
       "  <thead>\n",
       "    <tr style=\"text-align: right;\">\n",
       "      <th></th>\n",
       "      <th>col1</th>\n",
       "      <th>col10</th>\n",
       "      <th>col2</th>\n",
       "      <th>col3</th>\n",
       "      <th>col4</th>\n",
       "      <th>col5</th>\n",
       "      <th>col6</th>\n",
       "      <th>col7</th>\n",
       "      <th>col8</th>\n",
       "      <th>col9</th>\n",
       "    </tr>\n",
       "  </thead>\n",
       "  <tbody>\n",
       "    <tr>\n",
       "      <th>0</th>\n",
       "      <td>Flow (L/s)</td>\n",
       "      <td>Floor Length (cm)</td>\n",
       "      <td>Average Velocity (m/s)</td>\n",
       "      <td>Pipe Length (m)</td>\n",
       "      <td>Nominal Diameter (inches)</td>\n",
       "      <td>Inner Diameter (cm)</td>\n",
       "      <td>Number of Chips</td>\n",
       "      <td>Chip Height (cm)</td>\n",
       "      <td>Space between chips (cm)</td>\n",
       "      <td>Cost ($)</td>\n",
       "    </tr>\n",
       "    <tr>\n",
       "      <th>1</th>\n",
       "      <td>1.0</td>\n",
       "      <td>2.039</td>\n",
       "      <td>0.1781</td>\n",
       "      <td>16.52</td>\n",
       "      <td>3.0</td>\n",
       "      <td>8.456</td>\n",
       "      <td>33.0</td>\n",
       "      <td>4.949</td>\n",
       "      <td>50.74</td>\n",
       "      <td>410.1</td>\n",
       "    </tr>\n",
       "    <tr>\n",
       "      <th>2</th>\n",
       "      <td>2.0</td>\n",
       "      <td>2.998</td>\n",
       "      <td>0.2154</td>\n",
       "      <td>19.98</td>\n",
       "      <td>4.0</td>\n",
       "      <td>10.87</td>\n",
       "      <td>31.0</td>\n",
       "      <td>6.011</td>\n",
       "      <td>65.23</td>\n",
       "      <td>618.2</td>\n",
       "    </tr>\n",
       "    <tr>\n",
       "      <th>3</th>\n",
       "      <td>3.0</td>\n",
       "      <td>1.332</td>\n",
       "      <td>0.1491</td>\n",
       "      <td>13.83</td>\n",
       "      <td>6.0</td>\n",
       "      <td>16.01</td>\n",
       "      <td>15.0</td>\n",
       "      <td>11.21</td>\n",
       "      <td>96.04</td>\n",
       "      <td>439.5</td>\n",
       "    </tr>\n",
       "    <tr>\n",
       "      <th>4</th>\n",
       "      <td>4.0</td>\n",
       "      <td>1.687</td>\n",
       "      <td>0.1988</td>\n",
       "      <td>18.44</td>\n",
       "      <td>6.0</td>\n",
       "      <td>16.01</td>\n",
       "      <td>20.0</td>\n",
       "      <td>9.911</td>\n",
       "      <td>96.04</td>\n",
       "      <td>562.2</td>\n",
       "    </tr>\n",
       "    <tr>\n",
       "      <th>5</th>\n",
       "      <td>5.0</td>\n",
       "      <td>2.131</td>\n",
       "      <td>0.2485</td>\n",
       "      <td>23.05</td>\n",
       "      <td>6.0</td>\n",
       "      <td>16.01</td>\n",
       "      <td>24.0</td>\n",
       "      <td>8.8</td>\n",
       "      <td>96.04</td>\n",
       "      <td>707.5</td>\n",
       "    </tr>\n",
       "  </tbody>\n",
       "</table>\n",
       "</div>"
      ],
      "text/plain": [
       "         col1              col10                    col2             col3  \\\n",
       "0  Flow (L/s)  Floor Length (cm)  Average Velocity (m/s)  Pipe Length (m)   \n",
       "1         1.0              2.039                  0.1781            16.52   \n",
       "2         2.0              2.998                  0.2154            19.98   \n",
       "3         3.0              1.332                  0.1491            13.83   \n",
       "4         4.0              1.687                  0.1988            18.44   \n",
       "5         5.0              2.131                  0.2485            23.05   \n",
       "\n",
       "                        col4                 col5             col6  \\\n",
       "0  Nominal Diameter (inches)  Inner Diameter (cm)  Number of Chips   \n",
       "1                        3.0                8.456             33.0   \n",
       "2                        4.0                10.87             31.0   \n",
       "3                        6.0                16.01             15.0   \n",
       "4                        6.0                16.01             20.0   \n",
       "5                        6.0                16.01             24.0   \n",
       "\n",
       "               col7                      col8      col9  \n",
       "0  Chip Height (cm)  Space between chips (cm)  Cost ($)  \n",
       "1             4.949                     50.74     410.1  \n",
       "2             6.011                     65.23     618.2  \n",
       "3             11.21                     96.04     439.5  \n",
       "4             9.911                     96.04     562.2  \n",
       "5               8.8                     96.04     707.5  "
      ]
     },
     "execution_count": 15,
     "metadata": {},
     "output_type": "execute_result"
    }
   ],
   "source": [
    "def Floc_Results(Q,Temp,h_floc,G_theta,Pi_HS,Pi_VC,SDR):\n",
    "    \"\"\"This function takes the above steps and outputs a list of results\n",
    "    refer to methods for explaination\"\"\"\n",
    "    \n",
    "    Ke = ((1/Pi_VC**2)-1)**2 #expansion coefficient for baffle flocculator\n",
    "    G_ave = Gave(G_theta,h_floc,Temp) \n",
    "    theta = restime(G_theta,G_ave)\n",
    "    e_ave = eave(G_ave,Temp)\n",
    "    D_pipe = (Dpipe(Ke,Pi_HS,Q,G_ave,Temp,SDR)).to(u.cm)\n",
    "    ND_pipe = pipe.ND_SDR_available(D_pipe,SDR)\n",
    "    ID_pipe = pipe.ID_SDR(ND_pipe,SDR).to(u.cm)\n",
    "    A_pipe = (pc.area_circle(ID_pipe)).to(u.cm**2)\n",
    "    Ke_actual = (Keactual(ID_pipe,G_ave,Temp,Pi_HS,Q)).to(u.dimensionless)\n",
    "    A_orifice = Aorifice(ID_pipe,Ke_actual,Temp,Q)\n",
    "    H_chip = Hchip(A_orifice,ID_pipe)\n",
    "    V_avg = (Q/pc.area_circle(ID_pipe)).to(u.m/u.s)\n",
    "    L_pipe = (V_avg*theta).to(u.m)\n",
    "    He = ID_pipe*Pi_HS\n",
    "    N = (np.ceil(L_pipe/He.to(u.m)))\n",
    "    Cost_L = Cost_Length(L_pipe,ND_pipe)\n",
    "    Cost = Cost_L[0]\n",
    "    Floor_L = Cost_L[1]\n",
    "    \n",
    "    results = [Q.magnitude,V_avg.magnitude,L_pipe.magnitude,ND_pipe.magnitude,ID_pipe.magnitude,N.magnitude,H_chip.magnitude,He.magnitude,Cost.magnitude,Floor_L.magnitude]    \n",
    "    return results\n",
    "\n",
    "\n",
    "\n",
    "Q_array=[]\n",
    "V_array=[]\n",
    "L_array=[]\n",
    "ND_array=[]\n",
    "ID_array=[]\n",
    "N_array=[]\n",
    "H_array=[]\n",
    "He_array=[]\n",
    "Cost_array=[]\n",
    "Floor_array=[]\n",
    "for i in range(5):\n",
    "    \n",
    "    Q=(i+1)*u.L/u.s\n",
    "    results = Floc_Results(Q,Temp,h_floc,G_theta,Pi_HS,Pi_VC,SDR)\n",
    "    Q_array.append(results[0])\n",
    "    V_array.append(results[1])\n",
    "    L_array.append(results[2])\n",
    "    ND_array.append(results[3])\n",
    "    ID_array.append(results[4])\n",
    "    N_array.append(results[5])\n",
    "    H_array.append(results[6])\n",
    "    He_array.append(results[7])\n",
    "    Cost_array.append(results[8])\n",
    "    Floor_array.append(results[9])\n",
    "\n",
    "\n",
    "    \n",
    "pd.DataFrame({\n",
    "   'col1': ['Flow (L/s)',Q_array[0],Q_array[1],Q_array[2],Q_array[3],Q_array[4]],\n",
    "   'col2': ['Average Velocity (m/s)', V_array[0], V_array[1], V_array[2], V_array[3], V_array[4]],\n",
    "   'col3': ['Pipe Length (m)',L_array[0],L_array[1],L_array[2],L_array[3],L_array[4]],\n",
    "   'col4': ['Nominal Diameter (inches)',ND_array[0],ND_array[1],ND_array[2],ND_array[3],ND_array[4]],\n",
    "   'col5': ['Inner Diameter (cm)', ID_array[0], ID_array[1], ID_array[2], ID_array[3], ID_array[4]],\n",
    "   'col6': ['Number of Chips', N_array[0], N_array[1], N_array[2], N_array[3], N_array[4]],\n",
    "   'col7': ['Chip Height (cm)', H_array[0], H_array[1], H_array[2], H_array[3], H_array[4]],\n",
    "   'col8': ['Space between chips (cm)', He_array[0], He_array[1], He_array[2], He_array[3], He_array[4]],\n",
    "   'col9': ['Cost ($)', Cost_array[0], Cost_array[1], Cost_array[2], Cost_array[3], Cost_array[4]],\n",
    "   'col10': ['Floor Length (cm)', Floor_array[0], Floor_array[1], Floor_array[2], Floor_array[3], Floor_array[4]],\n",
    "      \n",
    "})\n",
    "\n",
    "\n",
    "\n",
    "    \n",
    "    \n",
    "    \n",
    "    "
   ]
  },
  {
   "cell_type": "markdown",
   "metadata": {},
   "source": [
    "**Citations**\n",
    "\n",
    "https://neutrium.net/fluid_flow/pressure-loss-from-fittings-expansion-and-reduction-in-pipe-size/\n",
    "\n",
    "3 inch pipe: https://www.homedepot.com/p/JM-eagle-3-in-x-10-ft-PVC-Schedule-40-DWV-Plain-End-Pipe-531095/100161921\n",
    "3 inch elbow: https://www.homedepot.com/p/3-in-PVC-DWV-90-Degree-Hub-x-Hub-Elbow-C4807HD3/100346018\n",
    "3 inch T: https://www.homedepot.com/p/3-in-PVC-DWV-All-Hub-Sanitary-Tee-C4811HD3/100345158\n",
    "\n",
    "4 inch pipe: https://www.homedepot.com/p/4-in-x-10-ft-PVC-Sch-40-DWV-Plain-End-Pipe-531103/100156409\n",
    "4 inch elbow: https://www.homedepot.com/p/4-in-PVC-DWV-90-Degree-Hub-x-Hub-Elbow-C4807HD4/100343993\n",
    "4 inch T: https://www.homedepot.com/p/4-in-PVC-DWV-Hub-x-Hub-x-Hub-Sanitary-Tee-C4811HD4/100343303\n",
    "\n",
    "\n",
    "6 inch pipe: https://www.homedepot.com/p/6-in-x-10-ft-PVC-Sch-40-DWV-Plain-End-Pipe-30577/203308683\n",
    "6 inch elbow: https://www.homedepot.com/p/6-in-PVC-DWV-90-Degree-Hub-x-Hub-Elbow-C4807HD6/100678009\n",
    "6 inch T: https://www.homedepot.com/p/6-in-PVC-DWV-All-Hub-Sanitary-Tee-C4811HD6/100345606\n"
   ]
  },
  {
   "cell_type": "code",
   "execution_count": null,
   "metadata": {
    "collapsed": true
   },
   "outputs": [],
   "source": []
  }
 ],
 "metadata": {
  "kernelspec": {
   "display_name": "Python 3",
   "language": "python",
   "name": "python3"
  },
  "language_info": {
   "codemirror_mode": {
    "name": "ipython",
    "version": 3
   },
   "file_extension": ".py",
   "mimetype": "text/x-python",
   "name": "python",
   "nbconvert_exporter": "python",
   "pygments_lexer": "ipython3",
   "version": "3.6.0"
  }
 },
 "nbformat": 4,
 "nbformat_minor": 2
}
