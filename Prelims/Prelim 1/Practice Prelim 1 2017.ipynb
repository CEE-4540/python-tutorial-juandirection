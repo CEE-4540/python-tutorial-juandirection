{
 "cells": [
  {
   "cell_type": "code",
   "execution_count": 1,
   "metadata": {
    "collapsed": true
   },
   "outputs": [],
   "source": [
    "#Below are the items that were imported by the code above so that you know what abbreviations to use in your code.\n",
    "\n",
    "#Third-party imports\n",
    "import numpy as np\n",
    "import pandas as pd\n",
    "import matplotlib.pyplot as plt\n",
    "import matplotlib\n",
    "\n",
    "#AIDE imports\n",
    "import aide_design\n",
    "import aide_design.pipedatabase as pipe\n",
    "from aide_design.units import unit_registry as u\n",
    "from aide_design import physchem as pc\n",
    "from aide_design import floc_model as floc\n",
    "import aide_design.expert_inputs as exp\n",
    "import aide_design.materials_database as mat\n",
    "import aide_design.utility as ut\n",
    "import aide_design.k_value_of_reductions_utility as k\n",
    "import aide_design.pipeline_utility as pipeline\n",
    "\n",
    "import warnings"
   ]
  },
  {
   "cell_type": "markdown",
   "metadata": {},
   "source": [
    "# Practice Prelim 1\n",
    "Note: this practice prelim does not add up to 100 points. This practice prelim is also longer than the actual prelim will be - this was done to give you an opportunity to review more questions while studying. Prelim 1 will be able to be completed in 1.5 to 2 hours."
   ]
  },
  {
   "cell_type": "markdown",
   "metadata": {},
   "source": [
    "### Multiple Choice (4 points each - 12 points)\n",
    "Make your answer **bold** by typing `**` before and after the correct answer.\n",
    "\n",
    "1. Which cause of head loss is used in the AguaClara rapid mix unit to produce local high energy dissipation?\n",
    "    1. Major losses from wall shear \n",
    "    1. Minor losses from a flow expansion\n",
    "<br>\n",
    "<br>\n",
    "1. Why is the settled water turbidity not a function of the initial turbidity according to the flocculation model?\n",
    "    1. The slowest part of flocculation is when the separation between primary particles (or small particles) is largest. The slow part of flocculation is the same for all suspensions.\n",
    "    1. The settled water turbidity is only a function of the coagulant dose and that is not affected by the initial turbidity\n",
    "<br>\n",
    "<br>\n",
    "1. A plant operator notices that when she is treating very turbid water and using a high coagulant dose that the constant head tank in the chemical dose controller begins to empty. What might be causing this problem?\n",
    "    1. The LFOM must be designed for higher head loss\n",
    "    1. Float valve orifice is too small\n",
    "    1. Constant head tank is not big enough\n",
    "    1. The coagulant dose is too high\n"
   ]
  },
  {
   "cell_type": "markdown",
   "metadata": {},
   "source": [
    "***"
   ]
  },
  {
   "cell_type": "markdown",
   "metadata": {},
   "source": [
    "### Short Answer (5 points each)\n",
    "1. What are the three constraints that dictate the inner diameter of the dosing tubes for coagulant and chlorine? Why is each constraint important?  \n",
    "   \n",
    "    1)    \n",
    "    2)   \n",
    "    3) \n",
    "    \n"
   ]
  },
  {
   "cell_type": "markdown",
   "metadata": {},
   "source": [
    "***"
   ]
  },
  {
   "cell_type": "markdown",
   "metadata": {},
   "source": [
    "## Design Challenges (72 points)\n",
    "Assign the given inputs to variables. Write the equation in python using variables."
   ]
  },
  {
   "cell_type": "markdown",
   "metadata": {},
   "source": [
    "### 1) Dose controller lever arm and float analysis (22 points)\n",
    "\n",
    "An AguaClara dose controller has a slider (including the hanging drop tube) with a total mass of 150 grams. The slider's center of mass is at 50 cm from the lever pivot point when the slider is set for the maximum dose. The float for the lever arm has a diameter of 6 inches. The float is attached to the lever arm 50 cm from the pivot point. The lever arm was set to be level when there was zero flow through the entrance tank and the slider was at the maximum dose position. If the slider is now moved so that its center of mass is 25 cm from the lever's pivot point, answer A through E. \n",
    "\n",
    "State any assumptions that you make.\n",
    "\n",
    "![](Lever arm figure.png)"
   ]
  },
  {
   "cell_type": "markdown",
   "metadata": {},
   "source": [
    "![](Lever_arm_figure.png)"
   ]
  },
  {
   "cell_type": "code",
   "execution_count": 1,
   "metadata": {
    "collapsed": true
   },
   "outputs": [],
   "source": [
    "# define your parameters and variables given in the problem statement here\n"
   ]
  },
  {
   "cell_type": "markdown",
   "metadata": {},
   "source": [
    "**A. (2 points) **  \n",
    "Because the slider has mass, moving its location affects the equilibrium position of the lever arm. After moving the slider closer to the pivot point, is the slider's elevation higher or lower than it was before it moved?"
   ]
  },
  {
   "cell_type": "code",
   "execution_count": null,
   "metadata": {
    "collapsed": true,
    "scrolled": true
   },
   "outputs": [],
   "source": []
  },
  {
   "cell_type": "markdown",
   "metadata": {},
   "source": [
    "**B. (5 points)**  \n",
    "What is the change in force acting on the float caused by moving the slider? "
   ]
  },
  {
   "cell_type": "code",
   "execution_count": null,
   "metadata": {
    "collapsed": true
   },
   "outputs": [],
   "source": []
  },
  {
   "cell_type": "markdown",
   "metadata": {},
   "source": [
    "**C. (5 points)** \n",
    "What is the change in the float elevation?"
   ]
  },
  {
   "cell_type": "code",
   "execution_count": null,
   "metadata": {
    "collapsed": true
   },
   "outputs": [],
   "source": []
  },
  {
   "cell_type": "markdown",
   "metadata": {},
   "source": [
    "**D. (5 points)** \n",
    "What is the change in the slider elevation?"
   ]
  },
  {
   "cell_type": "code",
   "execution_count": null,
   "metadata": {
    "collapsed": true
   },
   "outputs": [],
   "source": []
  },
  {
   "cell_type": "markdown",
   "metadata": {},
   "source": [
    "**E. (5 points)**  \n",
    "How could you reduce this undesirable change in slider elevation?"
   ]
  },
  {
   "cell_type": "code",
   "execution_count": null,
   "metadata": {
    "collapsed": true
   },
   "outputs": [],
   "source": []
  },
  {
   "cell_type": "markdown",
   "metadata": {},
   "source": [
    "### 2) Plot floc terminal velocity as a function of floc size (10 points)\n",
    "Create a plot of floc terminal velocity as a function of floc size. Vary floc size from the diameter of clay to 1 mm. The initial concentration of clay is 100 NTU. Temperature is 20 degrees Celsius. You can either ignore the influence of the coagulant dose or you can set the coagulant dose to 2 mg/L as aluminum."
   ]
  },
  {
   "cell_type": "code",
   "execution_count": null,
   "metadata": {
    "collapsed": true,
    "scrolled": true
   },
   "outputs": [],
   "source": []
  },
  {
   "cell_type": "markdown",
   "metadata": {},
   "source": [
    "### 3) Rapid mix (30 points)\n",
    "A rapid mix orifice is installed in the bottom of the LFOM pipe that delivers water to the rapid mix chamber and then to the flocculator. The plant flow rate is 20 L/s. The nominal diameter of the LFOM is 6 inches and it is SDR 26. The inner diameter of the rapid mix orifice is 10 cm. The vena contracta coefficient for the orifice is 0.7. The **rectangular** chamber beneath the rapid mix pipe is 2 m deep, and the velocity of the water in this chamber is 20 cm/s. The water temperature is 20 °C.\n",
    "\n",
    "![](rapidMixDiagram.png)"
   ]
  },
  {
   "cell_type": "code",
   "execution_count": 3,
   "metadata": {
    "collapsed": true
   },
   "outputs": [],
   "source": [
    "# define your parameters and variables given in the problem statement here\n"
   ]
  },
  {
   "cell_type": "markdown",
   "metadata": {},
   "source": [
    "**A. (5 points)**  \n",
    "Estimate the head loss that occurs in the flow expansion as the water leaves the orifice and enters the rapid mix chamber below the orifice. "
   ]
  },
  {
   "cell_type": "code",
   "execution_count": null,
   "metadata": {
    "collapsed": true
   },
   "outputs": [],
   "source": []
  },
  {
   "cell_type": "markdown",
   "metadata": {},
   "source": [
    "**B. (5 points)**   \n",
    "What is the minor loss coefficient for this orifice if you use the average velocity in the pipe as the reference velocity?"
   ]
  },
  {
   "cell_type": "code",
   "execution_count": null,
   "metadata": {
    "collapsed": true
   },
   "outputs": [],
   "source": []
  },
  {
   "cell_type": "markdown",
   "metadata": {},
   "source": [
    "**C. (5 points)**    \n",
    "What is the maximum energy dissipation rate in the jet formed by the rapid mix orifice?"
   ]
  },
  {
   "cell_type": "code",
   "execution_count": null,
   "metadata": {
    "collapsed": true
   },
   "outputs": [],
   "source": []
  },
  {
   "cell_type": "markdown",
   "metadata": {},
   "source": [
    "**D. (5 points)**    \n",
    "What is the Kolmogorov length scale at the maximum energy dissipation rate?"
   ]
  },
  {
   "cell_type": "code",
   "execution_count": null,
   "metadata": {
    "collapsed": true
   },
   "outputs": [],
   "source": []
  },
  {
   "cell_type": "markdown",
   "metadata": {},
   "source": [
    "**E. (5 points)**    \n",
    "What is the average energy dissipation rate in the rapid mix chamber that the rapid mix jet discharges into?"
   ]
  },
  {
   "cell_type": "code",
   "execution_count": null,
   "metadata": {
    "collapsed": true
   },
   "outputs": [],
   "source": []
  },
  {
   "cell_type": "markdown",
   "metadata": {},
   "source": [
    "**F. (5 points)**    \n",
    "What is the average velocity gradient (G) in the rapid mix chamber that the rapid mix jet discharges into?"
   ]
  },
  {
   "cell_type": "code",
   "execution_count": null,
   "metadata": {
    "collapsed": true
   },
   "outputs": [],
   "source": []
  },
  {
   "cell_type": "markdown",
   "metadata": {},
   "source": [
    "### 4) Maximum plant flow using a single dosing tube (10 points)\n",
    "The coagulant stock concentration is 70 g/L of aluminum and the maximum coagulant dose is expected to be 10 mg/L as aluminum. The maximum error due to nonlinearity is set to 0.1. The head loss for the CDC dosing tubes is 20 cm. The sum of the minor losses for the CDC dosing tube system was measured to be 3.\n"
   ]
  },
  {
   "cell_type": "code",
   "execution_count": 5,
   "metadata": {
    "collapsed": true
   },
   "outputs": [],
   "source": [
    "# define your parameters and variables given in the problem statement here\n"
   ]
  },
  {
   "cell_type": "markdown",
   "metadata": {},
   "source": [
    "**A. (5 points)**   \n",
    "What is the maximum coagulant flow rate for a single dosing tube with a 1/8 inch inner diameter? "
   ]
  },
  {
   "cell_type": "code",
   "execution_count": null,
   "metadata": {
    "collapsed": true
   },
   "outputs": [],
   "source": []
  },
  {
   "cell_type": "markdown",
   "metadata": {},
   "source": [
    "**B. (5 points)**  \n",
    "What is the maximum plant flow rate that can be served by a single dosing tube with a 1/8 inch inner diameter? "
   ]
  },
  {
   "cell_type": "code",
   "execution_count": null,
   "metadata": {
    "collapsed": true
   },
   "outputs": [],
   "source": []
  }
 ],
 "metadata": {
  "kernelspec": {
   "display_name": "Python 3",
   "language": "python",
   "name": "python3"
  },
  "language_info": {
   "codemirror_mode": {
    "name": "ipython",
    "version": 3
   },
   "file_extension": ".py",
   "mimetype": "text/x-python",
   "name": "python",
   "nbconvert_exporter": "python",
   "pygments_lexer": "ipython3",
   "version": "3.6.1"
  }
 },
 "nbformat": 4,
 "nbformat_minor": 2
}
