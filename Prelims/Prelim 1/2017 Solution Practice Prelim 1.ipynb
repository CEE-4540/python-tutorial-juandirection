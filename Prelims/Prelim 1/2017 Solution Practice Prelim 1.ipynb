{
 "cells": [
  {
   "cell_type": "code",
   "execution_count": 1,
   "metadata": {
    "collapsed": true
   },
   "outputs": [],
   "source": [
    "#Below are the items that were imported by the code above so that you know what abbreviations to use in your code.\n",
    "\n",
    "#Third-party imports\n",
    "import numpy as np\n",
    "import pandas as pd\n",
    "import matplotlib.pyplot as plt\n",
    "import matplotlib\n",
    "\n",
    "#AIDE imports\n",
    "import aide_design\n",
    "import aide_design.pipedatabase as pipe\n",
    "from aide_design.units import unit_registry as u\n",
    "from aide_design import physchem as pc\n",
    "from aide_design import floc_model as floc\n",
    "import aide_design.expert_inputs as exp\n",
    "import aide_design.materials_database as mat\n",
    "import aide_design.utility as ut\n",
    "import aide_design.k_value_of_reductions_utility as k\n",
    "import aide_design.pipeline_utility as pipeline\n",
    "\n",
    "import warnings"
   ]
  },
  {
   "cell_type": "markdown",
   "metadata": {},
   "source": [
    "# Practice Prelim 1\n",
    "Note: this practice prelim does not add up to 100 points. This practice prelim is also longer than the actual prelim will be - this was done to give you an opportunity to review more questions while studying. Prelim 1 will be able to be completed in 1.5 to 2 hours."
   ]
  },
  {
   "cell_type": "markdown",
   "metadata": {},
   "source": [
    "### Multiple Choice (4 points each - 12 points)\n",
    "Make your answer **bold** by typing `**` before and after the correct answer.\n",
    "\n",
    "1. Which cause of head loss is used in the AguaClara rapid mix unit to produce local high energy dissipation?\n",
    "    1. Major losses from wall shear \n",
    "    1. **Minor losses from a flow expansion**\n",
    "<br>\n",
    "<br>\n",
    "1. Why is the settled water turbidity not a function of the initial turbidity according to the flocculation model?\n",
    "    1. **The slowest part of flocculation is when the separation between primary particles (or small particles) is largest. The slow part of flocculation is the same for all suspensions. ** *See slide 55 in Flocculation Model *\n",
    "    1. The settled water turbidity is only a function of the coagulant dose and that is not affected by the initial turbidity\n",
    "<br>\n",
    "<br>\n",
    "1. A plant operator notices that when she is treating very turbid water and using a high coagulant dose that the constant head tank in the chemical dose controller begins to empty. What might be causing this problem?\n",
    "    1. The LFOM must be designed for higher head loss\n",
    "    1. **Float valve orifice is too small** * See slide 73 in Flow Control and Measurement *\n",
    "    1. Constant head tank is not big enough\n",
    "    1. The coagulant dose is too high\n"
   ]
  },
  {
   "cell_type": "markdown",
   "metadata": {},
   "source": [
    "***"
   ]
  },
  {
   "cell_type": "markdown",
   "metadata": {},
   "source": [
    "### Short Answer (5 points each)\n",
    "1. What are the three constraints that dictate the inner diameter of the dosing tubes for coagulant and chlorine? Why is each constraint important?  \n",
    "    * *See slide 79 in Flow Control and Measurement *\n",
    "   \n",
    "    1) **Laminar** - this constraint is important because it allows us to use the Hagen-Poiseuille equation (for major losses), in which flow is leaner with headloss.    \n",
    "    2) **Error** - for minor losses, flow is never linear with the head loss. We want to make our minor losses as small as possible because want our equation to have a linear relationship between flow and headloss.  \n",
    "    3) **Discrete pipe sizes** - we need to design for pipes that are commercially available!\n",
    "    \n"
   ]
  },
  {
   "cell_type": "markdown",
   "metadata": {},
   "source": [
    "***"
   ]
  },
  {
   "cell_type": "markdown",
   "metadata": {},
   "source": [
    "## Design Challenges (72 points)\n",
    "Assign the given inputs to variables. Write the equation in python using variables."
   ]
  },
  {
   "cell_type": "markdown",
   "metadata": {},
   "source": [
    "### 1) Dose controller lever arm and float analysis (22 points)\n",
    "\n",
    "An AguaClara dose controller has a slider (including the hanging drop tube) with a total mass of 150 grams. The slider's center of mass is at 50 cm from the lever pivot point when the slider is set for the maximum dose. The float for the lever arm has a diameter of 6 inches. The float is attached to the lever arm 50 cm from the pivot point. The lever arm was set to be level when there was zero flow through the entrance tank and the slider was at the maximum dose position. If the slider is now moved so that its center of mass is 25 cm from the lever's pivot point, answer A through E. \n",
    "\n",
    "State any assumptions that you make.\n",
    "\n",
    "![](Lever arm figure.png)"
   ]
  },
  {
   "cell_type": "markdown",
   "metadata": {},
   "source": [
    "![](Lever_arm_figure.png)"
   ]
  },
  {
   "cell_type": "code",
   "execution_count": 2,
   "metadata": {
    "collapsed": true
   },
   "outputs": [],
   "source": [
    "# define your parameters and variables given in the problem statement here\n",
    "\n",
    "# Slides 58-62 in Flow Control and Measurement in addition to recalling physics: mechanics \n",
    "# will be helpful in understanding this problem\n",
    "\n",
    "d_float = 6*u.inch\n",
    "x_slider_initial = 50*u.cm\n",
    "x_float = 50*u.cm\n",
    "x_slider_final = 25*u.cm\n",
    "area_float = pc.area_circle(d_float)\n",
    "mass_slider = 150*u.gram\n",
    "force_slider = mass_slider*pc.gravity\n",
    "\n",
    "#assume water is at 20 C to calculate the density\n",
    "T_water = 20*u.degC"
   ]
  },
  {
   "cell_type": "markdown",
   "metadata": {},
   "source": [
    "**A. (2 points) **  \n",
    "Because the slider has mass, moving its location affects the equilibrium position of the lever arm. After moving the slider closer to the pivot point, is the slider's elevation higher or lower than it was before it moved?"
   ]
  },
  {
   "cell_type": "code",
   "execution_count": 3,
   "metadata": {
    "scrolled": true
   },
   "outputs": [
    {
     "name": "stdout",
     "output_type": "stream",
     "text": [
      "A. The slider is higher in elevation than desired.\n"
     ]
    }
   ],
   "source": [
    "print('A. The slider is higher in elevation than desired.')"
   ]
  },
  {
   "cell_type": "markdown",
   "metadata": {},
   "source": [
    "**B. (5 points)**  \n",
    "What is the change in force acting on the float caused by moving the slider? "
   ]
  },
  {
   "cell_type": "code",
   "execution_count": 4,
   "metadata": {},
   "outputs": [
    {
     "name": "stdout",
     "output_type": "stream",
     "text": [
      "B. The change in force acting on the float is 0.7355 newton\n"
     ]
    }
   ],
   "source": [
    "#First find change in force on the float end of the lever\n",
    "delta_force = force_slider * (x_slider_initial - x_slider_final) / x_float\n",
    "print('B. The change in force acting on the float is',delta_force.to(u.N))"
   ]
  },
  {
   "cell_type": "markdown",
   "metadata": {},
   "source": [
    "**C. (5 points)** \n",
    "What is the change in the float elevation?"
   ]
  },
  {
   "cell_type": "code",
   "execution_count": 5,
   "metadata": {},
   "outputs": [
    {
     "name": "stdout",
     "output_type": "stream",
     "text": [
      "The change in volume submerged is 75.14 milliliter\n",
      "C. The change in float elevation is 4.119 millimeter\n"
     ]
    }
   ],
   "source": [
    "delta_volume = delta_force / (pc.density_water(T_water)*pc.gravity)\n",
    "print('The change in volume submerged is',delta_volume.to(u.mL))\n",
    "\n",
    "delta_h_float = delta_volume / area_float\n",
    "print('C. The change in float elevation is',delta_h_float.to(u.mm))"
   ]
  },
  {
   "cell_type": "markdown",
   "metadata": {},
   "source": [
    "**D. (5 points)** \n",
    "What is the change in the slider elevation?"
   ]
  },
  {
   "cell_type": "code",
   "execution_count": 6,
   "metadata": {},
   "outputs": [
    {
     "name": "stdout",
     "output_type": "stream",
     "text": [
      "D. The change in slider elevation is 2.059 millimeter\n"
     ]
    }
   ],
   "source": [
    "delta_h_slider = delta_h_float * x_slider_final / x_float\n",
    "print('D. The change in slider elevation is',delta_h_slider.to(u.mm))"
   ]
  },
  {
   "cell_type": "markdown",
   "metadata": {},
   "source": [
    "**E. (5 points)**  \n",
    "How could you reduce this undesirable change in slider elevation?"
   ]
  },
  {
   "cell_type": "code",
   "execution_count": 7,
   "metadata": {},
   "outputs": [
    {
     "name": "stdout",
     "output_type": "stream",
     "text": [
      "E. The change in elevation could be reduced by increasing the diameter of the float.\n"
     ]
    }
   ],
   "source": [
    "print('E. The change in elevation could be reduced by increasing the diameter of the float.')"
   ]
  },
  {
   "cell_type": "markdown",
   "metadata": {},
   "source": [
    "### 2) Plot floc terminal velocity as a function of floc size (10 points)\n",
    "Create a plot of floc terminal velocity as a function of floc size. Vary floc size from the diameter of clay to 1 mm. The initial concentration of clay is 100 NTU. Temperature is 20 degrees Celsius. You can either ignore the influence of the coagulant dose or you can set the coagulant dose to 2 mg/L as aluminum."
   ]
  },
  {
   "cell_type": "code",
   "execution_count": 8,
   "metadata": {
    "scrolled": true
   },
   "outputs": [
    {
     "data": {
      "image/png": "[encoded data removed]",
      "text/plain": [
       "<matplotlib.figure.Figure at 0x10c105a58>"
      ]
     },
     "metadata": {},
     "output_type": "display_data"
    }
   ],
   "source": [
    "# Slides 34 in Flocculation Model will be helpful in understanding this problem\n",
    "\n",
    "conc_Al = 2*u.mg/u.L\n",
    "ConcClay = 100*u.NTU\n",
    "DiamClay = 7*u.um\n",
    "coag = floc.PACl\n",
    "material = floc.Clay\n",
    "DiamFractal = floc.DIAM_FRACTAL\n",
    "DiamTarget = np.linspace(DiamClay.to(u.mm),1*u.mm)*u.mm\n",
    "Temp = 20*u.degC\n",
    "\n",
    "# Note: you can use the function predefined in the floc file, floc.vel_term_floc. \n",
    "# Or, you can write your own function using equations on lecture slides.\n",
    "VTerminal = floc.vel_term_floc(conc_Al, ConcClay, coag, material, DiamFractal, DiamTarget, Temp)\n",
    "\n",
    "# Plot \n",
    "plt.plot(DiamTarget.to(u.um), VTerminal.to(u.mm/u.s), 'b-')\n",
    "plt.xlabel('Floc diameter (um)')\n",
    "plt.ylabel('Velocity (mm/s)')\n",
    "plt.yscale('log')\n",
    "plt.xscale('log')\n",
    "plt.show()"
   ]
  },
  {
   "cell_type": "markdown",
   "metadata": {},
   "source": [
    "### 3) Rapid mix (30 points)\n",
    "A rapid mix orifice is installed in the bottom of the LFOM pipe that delivers water to the rapid mix chamber and then to the flocculator. The plant flow rate is 20 L/s. The nominal diameter of the LFOM is 6 inches and it is SDR 26. The inner diameter of the rapid mix orifice is 10 cm. The vena contracta coefficient for the orifice is 0.7. The **rectangular** chamber beneath the rapid mix pipe is 2 m deep, and the velocity of the water in this chamber is 20 cm/s. The water temperature is 20 °C.\n",
    "\n",
    "![](rapidMixDiagram.png)"
   ]
  },
  {
   "cell_type": "code",
   "execution_count": 9,
   "metadata": {
    "collapsed": true
   },
   "outputs": [],
   "source": [
    "# define your parameters and variables given in the problem statement here\n",
    "\n",
    "ND_lfom = 6*u.inch\n",
    "SDR_lfom = 26\n",
    "d_rapid_mix_orifice = 10*u.cm\n",
    "flow_plant = 20*u.L/u.s\n",
    "pi_vena_contracta = 0.7\n",
    "ID_lfom = pipe.ID_SDR(ND_lfom,SDR_lfom)\n",
    "area_rapid_mix_orifice = pc.area_circle(d_rapid_mix_orifice)\n",
    "area_vena_contracta = area_rapid_mix_orifice*pi_vena_contracta\n",
    "vel_vena_contracta = flow_plant/area_vena_contracta\n",
    "vel_rapid_mix_chamber = 0.2*u.m/u.s\n",
    "h_rapid_mix_chamber = 2*u.m\n",
    "temp_water = 20*u.degC"
   ]
  },
  {
   "cell_type": "markdown",
   "metadata": {},
   "source": [
    "**A. (5 points)**  \n",
    "Estimate the head loss that occurs in the flow expansion as the water leaves the orifice and enters the rapid mix chamber below the orifice. "
   ]
  },
  {
   "cell_type": "code",
   "execution_count": 10,
   "metadata": {},
   "outputs": [
    {
     "name": "stdout",
     "output_type": "stream",
     "text": [
      "A. The head loss from the rapid mix is 60.26 centimeter\n"
     ]
    }
   ],
   "source": [
    "#See Slide 14 in Flow Control and Measurement\n",
    "\n",
    "hl_rapid_mix = ((vel_vena_contracta-vel_rapid_mix_chamber)**2)/(2*pc.gravity)\n",
    "print('A. The head loss from the rapid mix is',hl_rapid_mix.to(u.cm))"
   ]
  },
  {
   "cell_type": "markdown",
   "metadata": {},
   "source": [
    "**B. (5 points)**   \n",
    "What is the minor loss coefficient for this orifice if you use the average velocity in the pipe as the reference velocity?"
   ]
  },
  {
   "cell_type": "code",
   "execution_count": 11,
   "metadata": {},
   "outputs": [
    {
     "name": "stdout",
     "output_type": "stream",
     "text": [
      "B. The minor loss coefficient of the rapid mix orifice is 10.61 dimensionless\n"
     ]
    }
   ],
   "source": [
    "# See Slide 15 in Flow Control and Measurement\n",
    "\n",
    "area_lfom = pc.area_circle(ID_lfom)\n",
    "vel_lfom = flow_plant/area_lfom\n",
    "K_rapid_mix = hl_rapid_mix/((vel_lfom**2)/(2*pc.gravity))\n",
    "print('B. The minor loss coefficient of the rapid mix orifice is',K_rapid_mix)"
   ]
  },
  {
   "cell_type": "markdown",
   "metadata": {},
   "source": [
    "**C. (5 points)**    \n",
    "What is the maximum energy dissipation rate in the jet formed by the rapid mix orifice?"
   ]
  },
  {
   "cell_type": "code",
   "execution_count": 12,
   "metadata": {},
   "outputs": [
    {
     "name": "stdout",
     "output_type": "stream",
     "text": [
      "C. The maximum energy dissipation rate in the rapid mix jet is 71.93 watt / kilogram\n"
     ]
    }
   ],
   "source": [
    "# pi_round_jet can be found in Rapid Mix, slide 36 \n",
    "\n",
    "pi_round_jet = 0.5\n",
    "d_vena_contracta = pc.diam_circle(area_vena_contracta)\n",
    "EDR_centerline = ((pi_round_jet*vel_vena_contracta)**3)/d_vena_contracta\n",
    "print('C. The maximum energy dissipation rate in the rapid mix jet is',EDR_centerline.to(u.W/u.kg))"
   ]
  },
  {
   "cell_type": "markdown",
   "metadata": {},
   "source": [
    "**D. (5 points)**    \n",
    "What is the Kolmogorov length scale at the maximum energy dissipation rate?"
   ]
  },
  {
   "cell_type": "code",
   "execution_count": 13,
   "metadata": {},
   "outputs": [
    {
     "name": "stdout",
     "output_type": "stream",
     "text": [
      "D. The minimum Kolmogorov length scale in the rapid mix jet is 10.89 micrometer\n"
     ]
    }
   ],
   "source": [
    "#See Slide 51 in Rapid Mix\n",
    "\n",
    "l_Kolmogorov = ((pc.viscosity_kinematic(temp_water)**3)/EDR_centerline)**0.25\n",
    "print('D. The minimum Kolmogorov length scale in the rapid mix jet is',l_Kolmogorov.to(u.um))"
   ]
  },
  {
   "cell_type": "markdown",
   "metadata": {},
   "source": [
    "**E. (5 points)**    \n",
    "What is the average energy dissipation rate in the rapid mix chamber that the rapid mix jet discharges into?"
   ]
  },
  {
   "cell_type": "code",
   "execution_count": 14,
   "metadata": {},
   "outputs": [
    {
     "name": "stdout",
     "output_type": "stream",
     "text": [
      "E. The average energy dissipation rate in the rapid mix chamber is 0.5909 watt / kilogram\n"
     ]
    }
   ],
   "source": [
    "#See Slide 20 in Rapid Mix\n",
    "\n",
    "time_rapid_mix = h_rapid_mix_chamber/vel_rapid_mix_chamber\n",
    "EDR_average = pc.gravity*hl_rapid_mix/(time_rapid_mix)\n",
    "print('E. The average energy dissipation rate in the rapid mix chamber is',EDR_average.to(u.W/u.kg))"
   ]
  },
  {
   "cell_type": "markdown",
   "metadata": {},
   "source": [
    "**F. (5 points)**    \n",
    "What is the average velocity gradient (G) in the rapid mix chamber that the rapid mix jet discharges into?"
   ]
  },
  {
   "cell_type": "code",
   "execution_count": 15,
   "metadata": {},
   "outputs": [
    {
     "name": "stdout",
     "output_type": "stream",
     "text": [
      "F. The average velocity gradient in the rapid mix chamber is 767.4 hertz\n"
     ]
    }
   ],
   "source": [
    "#See Slide 8 in Flocculation Model\n",
    "\n",
    "G_average = np.sqrt(EDR_average/pc.viscosity_kinematic(temp_water))\n",
    "print('F. The average velocity gradient in the rapid mix chamber is',G_average.to(u.Hz))"
   ]
  },
  {
   "cell_type": "markdown",
   "metadata": {},
   "source": [
    "### 4) Maximum plant flow using a single dosing tube (10 points)\n",
    "The coagulant stock concentration is 70 g/L of aluminum and the maximum coagulant dose is expected to be 10 mg/L as aluminum. The maximum error due to nonlinearity is set to 0.1. The head loss for the CDC dosing tubes is 20 cm. The sum of the minor losses for the CDC dosing tube system was measured to be 3.\n"
   ]
  },
  {
   "cell_type": "code",
   "execution_count": 16,
   "metadata": {
    "collapsed": true
   },
   "outputs": [],
   "source": [
    "# define your parameters and variables given in the problem statement here\n",
    "\n",
    "Pi_non_linear_error = 0.1\n",
    "d_CDC_tube = 1/8*u.inch\n",
    "hl_CDC = 20*u.cm\n",
    "K_CDC = 3\n",
    "C_max_plant = 10*u.mg/u.L\n",
    "C_stock = 70*u.g/u.L"
   ]
  },
  {
   "cell_type": "markdown",
   "metadata": {},
   "source": [
    "**A. (5 points)**   \n",
    "What is the maximum coagulant flow rate for a single dosing tube with a 1/8 inch inner diameter? "
   ]
  },
  {
   "cell_type": "code",
   "execution_count": 17,
   "metadata": {},
   "outputs": [
    {
     "name": "stdout",
     "output_type": "stream",
     "text": [
      "The maximum chemical flow is 2.863 milliliter / second\n"
     ]
    }
   ],
   "source": [
    "#See slide 77 in Flow Control and Measurement\n",
    "\n",
    "flow_max_CDC = np.pi*(d_CDC_tube**2)/4*np.sqrt(2*pc.gravity*hl_CDC*Pi_non_linear_error/K_CDC)\n",
    "print('The maximum chemical flow is',flow_max_CDC.to(u.mL/u.s))"
   ]
  },
  {
   "cell_type": "markdown",
   "metadata": {},
   "source": [
    "**B. (5 points)**  \n",
    "What is the maximum plant flow rate that can be served by a single dosing tube with a 1/8 inch inner diameter? "
   ]
  },
  {
   "cell_type": "code",
   "execution_count": 18,
   "metadata": {},
   "outputs": [
    {
     "name": "stdout",
     "output_type": "stream",
     "text": [
      "The maximum plant flow rate is 20.04 liter / second\n"
     ]
    }
   ],
   "source": [
    "flow_max_plant = flow_max_CDC*C_stock/C_max_plant\n",
    "print('The maximum plant flow rate is',flow_max_plant.to(u.L/u.s))"
   ]
  }
 ],
 "metadata": {
  "kernelspec": {
   "display_name": "Python 3",
   "language": "python",
   "name": "python3"
  },
  "language_info": {
   "codemirror_mode": {
    "name": "ipython",
    "version": 3
   },
   "file_extension": ".py",
   "mimetype": "text/x-python",
   "name": "python",
   "nbconvert_exporter": "python",
   "pygments_lexer": "ipython3",
   "version": "3.6.1"
  }
 },
 "nbformat": 4,
 "nbformat_minor": 2
}
