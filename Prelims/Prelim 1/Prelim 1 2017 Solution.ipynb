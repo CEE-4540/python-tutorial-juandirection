{
 "cells": [
  {
   "cell_type": "code",
   "execution_count": 2,
   "metadata": {
    "collapsed": true
   },
   "outputs": [],
   "source": [
    "from aide_design.play import*\n",
    "from aide_design import floc_model as floc\n",
    "\n",
    "#Below are the items that were imported by the code above so that you know what abbreviations to use in your code.\n",
    "\n",
    "# Third-party imports\n",
    "#import numpy as np\n",
    "#import pandas as pd\n",
    "#import matplotlib.pyplot as plt\n",
    "#import matplotlib\n",
    "\n",
    "# AIDE imports\n",
    "#import aide_design\n",
    "#import aide_design.pipedatabase as pipe\n",
    "#from aide_design.units import unit_registry as u\n",
    "#from aide_design import physchem as pc\n",
    "#import aide_design.expert_inputs as exp\n",
    "#import aide_design.materials_database as mat\n",
    "#import aide_design.utility as ut\n",
    "#import aide_design.k_value_of_reductions_utility as k\n",
    "#import aide_design.pipeline_utility as pipeline\n",
    "#import warnings"
   ]
  },
  {
   "cell_type": "markdown",
   "metadata": {},
   "source": [
    "<div class=\"alert alert-block alert-info\">\n",
    "\n",
    "### When you finish the exam:  \n",
    "Make sure to 'Restart and Run All' before you save for the final time to ensure your outputs show your latest work. Once you have done that, go to File -> Print Preview and **print the *webpage* as a pdf.** Email both the .ipynb and .pdf files to cee4540@gmail.com. \n",
    "\n",
    "### Name this file: Lastname_Firstname_Prelim1"
   ]
  },
  {
   "cell_type": "markdown",
   "metadata": {},
   "source": [
    "# Multiple Choice (4 points each, 28 points total)\n",
    "Make your answer **bold** by typing `**` before and after the correct answer.\n",
    "\n",
    "1. Which collisions are thought to result in attachment? Bold all that result in attachment.\n",
    "    1. **Humic acid to PACl nanoparticle**\n",
    "    1. **Clay to PACl nanoparticle**\n",
    "    1. Clay to Clay\n",
    "    1. Humic acid to Clay\n",
    "<br>\n",
    "<br>\n",
    "1. In a flow expansion the pressure\n",
    "    1. Decreases in the direction of flow\n",
    "    1. **Increases in the direction of flow**\n",
    "<br>\n",
    "<br>\n",
    "1. Is the Moody diagram applicable for fluids other than water?\n",
    "    1. No\n",
    "    1. Yes, but only for other liquids (not gases)\n",
    "    1. Yes, but only if they have the same viscosity as water\n",
    "    1. **Yes** \n",
    "<br>\n",
    "<br>\n",
    "1. Which jet has the highest maximum energy dissipation rate assuming they all have the same flow velocity.\n",
    "    1. **5 cm diameter jet**\n",
    "    1. 10 cm diameter jet\n",
    "    1. 20 cm diameter jet\n",
    "<br>\n",
    "<br>\n",
    "1. Which one of the following types of head loss will increase the most (assuming flow velocity is held constant) as the temperature drops and the viscosity increases?\n",
    "    1. turbulent flow major losses in rough pipes at high Reynolds numbers\n",
    "    1. turbulent flow minor losses\n",
    "    1. **laminar flow major losses**\n",
    "<br>\n",
    "<br>\n",
    "1. Which equation could be used to calculate the head loss in a dosing tube?\n",
    "    1. Bernoulli\n",
    "    1. **Energy Equation (conservation of energy in a control volume)**\n",
    "<br>\n",
    "<br>\n",
    "1. What **does a plant operator adjust** with the AguaClara Chemical Dose Controller to change the chemical dose to a plant?\n",
    "    1. The float valve in the constant head tank\n",
    "    1. The depth of the chemical in the stock tank\n",
    "    1. **The location of the slider on the lever arm**\n",
    "    1. The length of the dosing tubes\n",
    "    1. The diameter of the dosing tubes"
   ]
  },
  {
   "cell_type": "markdown",
   "metadata": {},
   "source": [
    "<div class=\"alert alert-block alert-info\">\n",
    "\n",
    "# Design Challenges (72 points)\n",
    "Assign the given inputs to variables. Write the equation in python using variables. \n",
    "\n",
    "Print a full sentence to explain your result. For example, if you are asked to find the average energy dissipation in an in-line blender, your answer should be formatted as: \"The average energy dissipation rate in the in-line blender is [insert answer here with appropriate units]\". \n",
    "\n",
    "Make sure your answer is in appropriate units."
   ]
  },
  {
   "cell_type": "markdown",
   "metadata": {},
   "source": [
    "## 1. Rapid Mix (22 points)\n",
    "A drinking water treatment plant operating at 100 L/s uses an in-line blender with a 5 hp motor for rapid mix. The residence time in the in-line blender is approximately 2 seconds. The water temperature is 5 $^{\\circ}$C. You may assume that 70% of the motor horsepower is converted into fluid mixing. You may also assume that the turbulent energy is dissipated over the course of the 2-second residence time.\n",
    "\n",
    "**A)** What is the average energy dissipation rate in the in-line blender? (5 points)  "
   ]
  },
  {
   "cell_type": "code",
   "execution_count": 3,
   "metadata": {},
   "outputs": [
    {
     "name": "stdout",
     "output_type": "stream",
     "text": [
      "A) The average energy dissipation rate in the in-line blender is 13.05 watt / kilogram\n"
     ]
    }
   ],
   "source": [
    "flow_rapid_mix = 100*u.L/u.s\n",
    "t_rapid_mix = 2*u.s\n",
    "P_rapid_mix = 5*u.hp\n",
    "Pi_efficiency = 0.7\n",
    "T_rapid_mix = 5*u.degC\n",
    "T_rapid_mix_warm = 25*u.degC\n",
    "vol_rapid_mix = flow_rapid_mix*t_rapid_mix\n",
    "EDR_rapid_mix = (P_rapid_mix*Pi_efficiency/(vol_rapid_mix*pc.density_water(T_rapid_mix))).to(u.W/u.kg)\n",
    "\n",
    "print('A) The average energy dissipation rate in the in-line blender is',EDR_rapid_mix)"
   ]
  },
  {
   "cell_type": "markdown",
   "metadata": {},
   "source": [
    "**B)** What is the average velocity gradient (G) in the in-line blender? (4 points)  "
   ]
  },
  {
   "cell_type": "code",
   "execution_count": 4,
   "metadata": {},
   "outputs": [
    {
     "name": "stdout",
     "output_type": "stream",
     "text": [
      "B) The average velocity gradient in the in-line blender is 2948 hertz\n"
     ]
    }
   ],
   "source": [
    "G_rapid_mix = np.sqrt(EDR_rapid_mix/pc.viscosity_kinematic(T_rapid_mix)).to(u.Hz)\n",
    "print('B) The average velocity gradient in the in-line blender is',G_rapid_mix)"
   ]
  },
  {
   "cell_type": "markdown",
   "metadata": {},
   "source": [
    "**C)** What is the collision potential (Gt) for this in-line blender? (4 points)  "
   ]
  },
  {
   "cell_type": "code",
   "execution_count": 5,
   "metadata": {},
   "outputs": [
    {
     "name": "stdout",
     "output_type": "stream",
     "text": [
      "C) The collision potential at 5°C the in-line blender is 5897 dimensionless\n"
     ]
    }
   ],
   "source": [
    "Gt_rapid_mix = (G_rapid_mix*t_rapid_mix).to(u.dimensionless)\n",
    "print('C) The collision potential at 5°C the in-line blender is',Gt_rapid_mix)"
   ]
  },
  {
   "cell_type": "markdown",
   "metadata": {},
   "source": [
    "**D)** What is the collision potential (Gt) when the temperature increases to 25 $^{\\circ}$C? (5 points)  \n"
   ]
  },
  {
   "cell_type": "code",
   "execution_count": 6,
   "metadata": {},
   "outputs": [
    {
     "name": "stdout",
     "output_type": "stream",
     "text": [
      "D) The collision potential at 25°C in the in-line blender is 7656 dimensionless\n"
     ]
    }
   ],
   "source": [
    "EDR_rapid_mix_warm = (P_rapid_mix*Pi_efficiency/(vol_rapid_mix*pc.density_water(T_rapid_mix_warm))).to(u.W/u.kg)\n",
    "Gt_rapid_mix_warm = (np.sqrt(EDR_rapid_mix_warm/pc.viscosity_kinematic(T_rapid_mix_warm))*t_rapid_mix).to(u.dimensionless)\n",
    "print('D) The collision potential at 25°C in the in-line blender is',Gt_rapid_mix_warm)"
   ]
  },
  {
   "cell_type": "markdown",
   "metadata": {},
   "source": [
    "**E)** What is the equivalent potential energy expressed as a height for the mixing energy of this rapid mix unit? (4 points)  "
   ]
  },
  {
   "cell_type": "code",
   "execution_count": 7,
   "metadata": {},
   "outputs": [
    {
     "name": "stdout",
     "output_type": "stream",
     "text": [
      "E) The equivalent potential energy expressed as a height for the mixing energy is 2.661 meter\n"
     ]
    }
   ],
   "source": [
    "DeltaH_rapid_mix = (P_rapid_mix*Pi_efficiency/flow_rapid_mix/pc.density_water(T_rapid_mix)/pc.gravity).to(u.m)\n",
    "print('E) The equivalent potential energy expressed as a height for the mixing energy is',DeltaH_rapid_mix)"
   ]
  },
  {
   "cell_type": "markdown",
   "metadata": {},
   "source": [
    "## 2. Dosing tube head loss graph (15 points)\n",
    "**A)** Plot the flow rate in a dosing tube as function of head loss. The maximum head loss is 20 cm. The dosing tube inner diameter is 1/8 inch, and its length is 1 m. The sum of the minor loss coefficients for the tube is 6. The fluid, dilute bleach, is at 20°C and has the same density and viscosity as water.  (10 points) \n",
    "\n",
    "**B)** Plot the ideal linear flow on the same graph with the assumption that the ideal linear flow is equal to the maximum observed flow at the maximum head loss.  (5 points) "
   ]
  },
  {
   "cell_type": "code",
   "execution_count": 8,
   "metadata": {},
   "outputs": [
    {
     "data": {
      "image/png": "[encoded data removed]",
      "text/plain": [
       "<matplotlib.figure.Figure at 0x116f5cef0>"
      ]
     },
     "metadata": {},
     "output_type": "display_data"
    }
   ],
   "source": [
    "d_CDC_tube = 1/8*u.inch\n",
    "L_tube = 1*u.m\n",
    "T_design = 20*u.degC\n",
    "Nu = pc.viscosity_kinematic(T_design)\n",
    "pipe_rough = 0*u.mm    #this value does not matter. As a result of how aide_design is written is must be between 0 and 1 \n",
    "                       #meter, but since the flow is laminar its value is irrelevant for this problem.\n",
    "K_minor = 6\n",
    "\n",
    "hl_tube_max = 20*u.cm\n",
    "\n",
    "hl_tube = np.linspace(0.1,hl_tube_max)*u.cm\n",
    "\n",
    "flow_tube = pc.flow_pipe(d_CDC_tube, hl_tube, L_tube, Nu, pipe_rough, K_minor)\n",
    "\n",
    "plt.plot(hl_tube, flow_tube.to(u.mL/u.s), 'r-')\n",
    "plt.xlabel('Headloss (cm)')\n",
    "plt.ylabel('Flow rate')\n",
    "plt.legend(['Ideal flow', 'Predicted flow'], loc='best')\n",
    "\n",
    "\n",
    "#---------------------------------------------------------PART B-----------------------------------------------------------\n",
    "flow_tube_max = pc.flow_pipe(d_CDC_tube, hl_tube_max, L_tube, Nu, pipe_rough, K_minor)\n",
    "\n",
    "flow_tube_ideal = np.array([0,flow_tube_max.to(u.mL/u.s).magnitude])*u.mL/u.s\n",
    "hl_tube_ideal = np.array([0, hl_tube_max.to(u.cm).magnitude])*u.cm\n",
    "\n",
    "plt.plot(hl_tube_ideal.to(u.cm), flow_tube_ideal.to(u.mL/u.s), 'b-')\n",
    "plt.show()"
   ]
  },
  {
   "cell_type": "markdown",
   "metadata": {},
   "source": [
    "## 3. Hypochlorinator (hole in a bucket) flow rate (19 points)\n",
    "A hypchlorinator using a valve to control the flow of chlorine from a rectangular tank is filled with chlorine solution at time zero. The tank is 0.5 m x 0.5 m in plan view. The depth of chlorine in the tank at time zero was 1 m. The chlorine solution exits through a pipe with a control valve and drips into a water distribution tank. The pipe exit to the atmosphere where the chlorine drips down to the distribution tank is 30 cm below the bottom of the chlorine tank. The flow of chlorine is set to be 0.5 mL/s at time zero using the control valve installed in the exit pipe.   \n",
    "\n",
    "**A)** How long would it take to empty the tank ($t_{Design}$) **if the flow remained constant** at the initial flow rate? (5 points) "
   ]
  },
  {
   "cell_type": "code",
   "execution_count": 9,
   "metadata": {},
   "outputs": [
    {
     "name": "stdout",
     "output_type": "stream",
     "text": [
      "A) If the flow remained at the initial setting, the tank would empty in 5.787 day\n"
     ]
    }
   ],
   "source": [
    "area_plan_tank = (0.5*u.m)**2\n",
    "H_tank = 1*u.m\n",
    "flow_initial = 0.5*u.mL/u.s\n",
    "vol_tank = area_plan_tank*H_tank\n",
    "H_valve = 30*u.cm\n",
    "H0 = H_tank + H_valve\n",
    "\n",
    "t_design = vol_tank/flow_initial\n",
    "print('A) If the flow remained at the initial setting, the tank would empty in',t_design.to(u.day))"
   ]
  },
  {
   "cell_type": "markdown",
   "metadata": {},
   "source": [
    "**B)** What will the flow of chlorine solution be in 3 days? For this question, **define a function** (5 points) with appropriate input parameters and then use that function to answer this question (4 points)."
   ]
  },
  {
   "cell_type": "markdown",
   "metadata": {},
   "source": [
    "$\\frac{Q}{Q_0} = 1 - \\frac{1}{2}\\frac{t}{t_{Design}}\\frac{h_{Tank}}{h_0}$\n",
    "\n",
    "Note: this is only part of the solution file and will not be given to students\n"
   ]
  },
  {
   "cell_type": "code",
   "execution_count": 10,
   "metadata": {
    "scrolled": true
   },
   "outputs": [
    {
     "name": "stdout",
     "output_type": "stream",
     "text": [
      "B) The flow at 3 days will be 0.4003 milliliter / second\n"
     ]
    }
   ],
   "source": [
    "def Q(Q0,t,t_design,H_tank,H0):\n",
    "    Q=Q0*(1-1/2*t/t_design*H_tank/H0)\n",
    "    return Q\n",
    "\n",
    "Q_3_days=Q(flow_initial,3*u.day,t_design,H_tank,H0)\n",
    "print('B) The flow at 3 days will be',Q_3_days)"
   ]
  },
  {
   "cell_type": "markdown",
   "metadata": {},
   "source": [
    "**C)** Use the fact that the flow rate is related to the height of water above the valve to calculate the flow rate at the moment before the tank empties (and you know what this relationship is!). (5 points) "
   ]
  },
  {
   "cell_type": "code",
   "execution_count": 11,
   "metadata": {},
   "outputs": [
    {
     "name": "stdout",
     "output_type": "stream",
     "text": [
      "C) The final flow will be 0.2402 milliliter / second\n"
     ]
    }
   ],
   "source": [
    "flow_final=flow_initial*np.sqrt(H_valve/H0)\n",
    "print('C) The final flow will be',flow_final.to(u.mL/u.s))\n"
   ]
  },
  {
   "cell_type": "markdown",
   "metadata": {},
   "source": [
    "## 4. Gracias chemical dose controller float valve analysis (16 points)\n",
    "The design for a new AguaClara plant for the colonial town of Gracias in Honduras is nearing completion. This is the largest plant that AguaClara has designed. The plant flow rate is set to be 120 L/s. The plant flow will be divided equally between 2 treatment trains. Each treatment train will have its own chemical dose controller (CDC).\n",
    "The vena contracta for the CDC float valve orifice within the constant head tank is estimated to be 0.8 because the entrance to the 0.093 inch diameter orifice is nicely rounded. You may assume that the pipes that connect the coagulant stock tank to the float valve are sized to be large enough that they don't have any significant head loss. The height difference between the water level in the coagulant stock tank and the water level in the constant head tank is 30 cm when the stock tank is full.   \n",
    "\n",
    "\n",
    "The PACl stock concentration is 160 g/L (as granular PACl). The maximum coagulant dose (as granular PACl) is expected to be 30 mg/L.\n",
    "\n",
    "**A)** What is the maximum flow rate of PACl that will be needed for one of the 60 L/s treatment trains? (5 points)   "
   ]
  },
  {
   "cell_type": "code",
   "execution_count": 12,
   "metadata": {},
   "outputs": [
    {
     "name": "stdout",
     "output_type": "stream",
     "text": [
      "A) The maximum coagulant flow needed is 11.25 milliliter / second\n"
     ]
    }
   ],
   "source": [
    "flow_Gracias = 60*u.L/u.s\n",
    "conc_PACl_stock = 160*u.g/u.L\n",
    "conc_PACl_dose_max = 30*u.mg/u.L\n",
    "flow_PACl_max = flow_Gracias*conc_PACl_dose_max/conc_PACl_stock\n",
    "print('A) The maximum coagulant flow needed is',flow_PACl_max.to(u.mL/u.s))\n"
   ]
  },
  {
   "cell_type": "markdown",
   "metadata": {},
   "source": [
    "**B)** What is the maximum flow rate of PACl that the float valve in the constant head tank can deliver? (5 points)   \n"
   ]
  },
  {
   "cell_type": "code",
   "execution_count": 13,
   "metadata": {
    "scrolled": true
   },
   "outputs": [
    {
     "name": "stdout",
     "output_type": "stream",
     "text": [
      "B) The maximum flow through the float valve orifice is 8.505 milliliter / second\n"
     ]
    }
   ],
   "source": [
    "delta_h_float_valve = 30*u.cm\n",
    "d_float_valve_orifice = 0.093*u.inch\n",
    "Pi_vena_contracta = 0.8\n",
    "flow_orifice_max = Pi_vena_contracta*pc.area_circle(d_float_valve_orifice)*np.sqrt(2*pc.gravity*delta_h_float_valve)\n",
    "print('B) The maximum flow through the float valve orifice is',flow_orifice_max.to(u.mL/u.s))"
   ]
  },
  {
   "cell_type": "markdown",
   "metadata": {},
   "source": [
    "**C)** Propose at least 3 options that would increase the maximum PACl flow through the CDC system. (6 points)     \n",
    "**Your answers here:**\n",
    "\n",
    "1. Use two constant head tanks to double the flow rate (note that there are already 2 constant head tanks available with one as backup).\n",
    "1. Use a float valve with a larger diameter orifice (or modify the float valve by drilling out the orifice)\n",
    "1. Increase the elevation of the stock tank\n",
    "1. Increase the stock tank concentration"
   ]
  }
 ],
 "metadata": {
  "kernelspec": {
   "display_name": "Python 3",
   "language": "python",
   "name": "python3"
  },
  "language_info": {
   "codemirror_mode": {
    "name": "ipython",
    "version": 3
   },
   "file_extension": ".py",
   "mimetype": "text/x-python",
   "name": "python",
   "nbconvert_exporter": "python",
   "pygments_lexer": "ipython3",
   "version": "3.6.3"
  }
 },
 "nbformat": 4,
 "nbformat_minor": 2
}
