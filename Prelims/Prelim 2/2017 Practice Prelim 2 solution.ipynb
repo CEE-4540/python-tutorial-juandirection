{
 "cells": [
  {
   "cell_type": "code",
   "execution_count": 2,
   "metadata": {
    "collapsed": true
   },
   "outputs": [],
   "source": [
    "from aide_design.play import*\n",
    "from aide_design import floc_model as floc\n",
    "\n",
    "#Below are the items that were imported by the code above so that you know what abbreviations to use in your code.\n",
    "\n",
    "# Third-party imports\n",
    "#import numpy as np\n",
    "#import pandas as pd\n",
    "#import matplotlib.pyplot as plt\n",
    "#import matplotlib\n",
    "\n",
    "# AIDE imports\n",
    "#import aide_design\n",
    "#import aide_design.pipedatabase as pipe\n",
    "#from aide_design.units import unit_registry as u\n",
    "#from aide_design import physchem as pc\n",
    "#import aide_design.expert_inputs as exp\n",
    "#import aide_design.materials_database as mat\n",
    "#import aide_design.utility as ut\n",
    "#import aide_design.k_value_of_reductions_utility as k\n",
    "#import aide_design.pipeline_utility as pipeline\n",
    "#import warnings"
   ]
  },
  {
   "cell_type": "markdown",
   "metadata": {},
   "source": [
    "<div class=\"alert alert-block alert-danger\">\n",
    "\n",
    "# Before you begin this assignment, you must download the lastest version of aide_design. Follow the instructions on the 4540 Wiki, on the [Updating a Package](https://confluence.cornell.edu/display/cee4540/Updating+a+Package) subpage. "
   ]
  },
  {
   "cell_type": "markdown",
   "metadata": {},
   "source": [
    "<div class=\"alert alert-block alert-info\">\n",
    "\n",
    "## Practice Prelim 2 \n",
    "Adapted from Fall 2016 Prelim 2\n",
    "\n",
    "88 points total"
   ]
  },
  {
   "cell_type": "markdown",
   "metadata": {},
   "source": [
    "# Multiple Choice (4 points each, 20 points total)\n",
    "Make your answer **bold** by typing `**` before and after the correct answer.\n",
    "\n",
    "1. Which port has the highest flow in a manifold where pressure recovery exceeds head loss?\n",
    "    1. First port (closest to the inlet channel)\n",
    "    1. Middle port\n",
    "    1. **Last port**\n",
    "<br>\n",
    "<br>\n",
    "1. What should the design goal be for sludge (settled flocs) in sedimentation tanks?\n",
    "    1. Sludge should be removed with mechanical scrappers \n",
    "    1. Sludge should be removed at least every 6 months so it doesn't get too deep\n",
    "    1. **Sludge should not be allowed to accumulate**\n",
    "<br>\n",
    "<br>\n",
    "1. How are flocs removed from the floc blanket in the newest AguaClara sedimentation tanks?\n",
    "    1. **Flocs flow over the weir into the floc hopper** \n",
    "    1. Sedimentation tanks are taken off line and drained to remove flocs \n",
    "    1. Flocs are removed through orifices in the bottom of the jet reverser \n",
    "<br>\n",
    "<br>\n",
    "1. Which of these pressure changes results in MORE uniform flow from the AguaClara sedimentation tank inlet diffuser pipes?\n",
    "    1. Pressure ecovery in the manifold pipe\n",
    "    1. **Exit loss from the diffuser pipe**\n",
    "<br>\n",
    "<br>\n",
    "1. As the water temperature increases the floc blanket solids concentration will\n",
    "    1. remain the same\n",
    "    1. **increase**\n",
    "    1. decrease"
   ]
  },
  {
   "cell_type": "markdown",
   "metadata": {},
   "source": [
    "# Short Answer (16 points total)\n",
    "**1.** Describe 4 consequences that would occur if an AguaClara sedimentation tank inlet manifold were rotated 180° so that the diffusers pointed straight up instead of straight down.\n",
    "    \n",
    "   1. What would happen to the floc blanket? \n",
    "   1. Why would flocs rise through the plate settlers along the centerline of the sedimentation tank? \n",
    "   1. Why would flocs begin to rise along with bubbles in a few weeks?\n",
    "   1. What would happen inside the inlet manifold?\n",
    " \n"
   ]
  },
  {
   "cell_type": "markdown",
   "metadata": {},
   "source": [
    "### Your Answer to 1. here: \n",
    "There would not be a floc blanket. By pointing up instead of down, the jet reverser half pipe would no longer have anything preventing flocs from settling onto it (usually the diffuser jet serves to resuspend flocs along this half pipe), therefore flocs WOULD settle onto it and no floc resuspension would occur, and thus no floc\n",
    "blanket would be present.\n",
    "\n",
    "\n",
    "### Your Answer to 2. here:\n",
    "High velocity of the diffuser jets would continue right through the plate settlers.\n",
    "\n",
    "\n",
    "### Your Answer to 3. here:\n",
    "Since flocs/sludge would be accumulating on the bottom for reasons specified in A., after enough time there would be a thick enough layer of sludge below the inlet manifold to form an anaerobic zone. Bacteria would then begin to anaerobically decompose this sludge, leading to methane gas bubbles as a byproduct, which will take flocs along as it bubbles and rises to the top of the sed tank.\n",
    "\n",
    "\n",
    "\n",
    "### Your Answer to 4. here:\n",
    "Since there is no longer any outlet at the bottom of the manifold, flocs would begin to settle on the bottom of the manifold. This would be particularly prevalent at the end of the manifold, where there is very little velocity of water to prevent settling. "
   ]
  },
  {
   "cell_type": "markdown",
   "metadata": {},
   "source": [
    "# Design Challenges (52 points)\n",
    "\n",
    "## 1. Head loss in an inlet manifold (15 points)\n",
    "The inlet manifold for an AguaClara sedimentation tank has a nominal diameter of 8 inches and is SDR 26. The sedimentation tank flow rate is 5.5 liters per second. The sedimentation tank width is 1 m and the upflow velocity is 1 mm/s. The center to center distance between diffusers is 5.5 cm. The diffuser slots are 1/8 inches wide and 4.8 cm long. Assume a temperature of 20°C and a PVC pipe roughness of 0.1 mm.\n",
    "\n",
    "The function call for head loss in a manifold is:  \n",
    "`pc.headloss_manifold(FlowRate, Diam, Length, KMinor, Nu, PipeRough, NumOutlets)`\n",
    "\n",
    "\n",
    "**A.** What is the head loss in the inlet manifold pipe from the first port to the last port? (10 points)  "
   ]
  },
  {
   "cell_type": "code",
   "execution_count": 5,
   "metadata": {},
   "outputs": [
    {
     "name": "stdout",
     "output_type": "stream",
     "text": [
      "The head loss in the inlet manifold pipe from the first port to the last port is  0.3323 millimeter\n"
     ]
    }
   ],
   "source": [
    "#Given parameters\n",
    "flow_manifold = 5.5 * u.L/u.s\n",
    "W_sed_tank = 1 *u.m\n",
    "vel_sed_up_BOD = 1 * u.mm/u.s\n",
    "B_sed_diffuser = 5.5 * u.cm\n",
    "S_sed_diffuser = 4.8 * u.cm\n",
    "W_sed_diffuser = 1/8 * u.inch\n",
    "SDR = 26\n",
    "ND_manifold = 8 * u.inch\n",
    "temp_design = 20 * u.degC\n",
    "PVC_roughness = 0.1 * u.mm\n",
    "\n",
    "\n",
    "#Calculated parameters\n",
    "L_sed_tank = flow_manifold/(W_sed_tank*vel_sed_up_BOD)\n",
    "ID_manifold = pipe.ID_SDR(ND_manifold,SDR)\n",
    "n_sed_diffusers = int(L_sed_tank/B_sed_diffuser)\n",
    "nu_design = pc.viscosity_kinematic(temp_design)\n",
    "\n",
    "#no minor loss through the manifold, no flow expansions\n",
    "KMinor = 0 \n",
    "\n",
    "\n",
    "hl_manifold = pc.headloss_manifold(flow_manifold , ID_manifold , L_sed_tank , KMinor, nu_design , PVC_roughness , n_sed_diffusers)\n",
    "print('The head loss in the inlet manifold pipe from the first port to the last port is ',hl_manifold.to(u.mm))"
   ]
  },
  {
   "cell_type": "markdown",
   "metadata": {},
   "source": [
    "**B.** What is the pressure recovery due to deceleration of the flow? (5 points)"
   ]
  },
  {
   "cell_type": "code",
   "execution_count": 19,
   "metadata": {},
   "outputs": [
    {
     "name": "stdout",
     "output_type": "stream",
     "text": [
      "The pressure recovery due to deceleration of the flow is  1.495 millimeter\n"
     ]
    }
   ],
   "source": [
    "#velocity in the manifold before any water has gone out through diffusers\n",
    "vel_sed_inlet = flow_manifold/(pc.area_circle(ID_manifold))\n",
    "\n",
    "#This is converted to pressure by the end of the manifold, since there is no more velocity.\n",
    "pressure_recovery = (vel_sed_inlet**2)/(2*pc.gravity)\n",
    "\n",
    "print('The pressure recovery due to deceleration of the flow is ',pressure_recovery.to(u.mm))"
   ]
  },
  {
   "cell_type": "markdown",
   "metadata": {},
   "source": [
    "# 2. Settling sludge (6 points)\n",
    "In general, the settled sludge in the bottom of a sedimentation tank has a concentration of about 300 g/L of clay. AguaClara sedimentation tanks have a sloped bottom to allow for the growth of the floc blanket and to prevent sludge build-up. Flat bottom sedimentation tanks allow sludge to build-up to occur.\n",
    "\n",
    "* How long would it take for the sludge to build up to the angle of repose (of about 45 degrees) in a 1 m wide ** * flat-bottomed * ** sedimentation tank? The angle of repose is the angle of a surface at which flocs begin to slide instead of settle. \n",
    "\n",
    "You may assume the inlet system is the AguaClara diffuser and jet reverser, that the upflow velocity is 1 mm/s, influent turbidity is constant at 25 NTU, and that no flocs leave the sed tank until the sludge builds up entirely. Neglect the small impact of the diameter of the jet reverser in your estimate. You may find it helpful to create a diagram of this problem. What does the sed tank look like before and after the sludge has settled?\n",
    "\n",
    "![](Sludge_created_tolva.png)"
   ]
  },
  {
   "cell_type": "code",
   "execution_count": 23,
   "metadata": {},
   "outputs": [
    {
     "name": "stdout",
     "output_type": "stream",
     "text": [
      "It will take  20.42 day  for the sludge to settle into the angle of repose.\n"
     ]
    }
   ],
   "source": [
    "NTU = 1.7 * u.gram/u.m**3  #of clay\n",
    "\n",
    "#Given Parameters\n",
    "vel_sed_up_BOD = 1 *u.mm/u.s\n",
    "sludge_conc = 300 * u.gram/u.L\n",
    "W_sed_tank = 1 * u.m\n",
    "turb_influent = 25 * NTU\n",
    "\n",
    "#Calculated parameters\n",
    "H_sludge = W_sed_tank/4 #This is an 'equivalent height' of sludge if the sludge geometery were \n",
    "                        #a rectangle along the bottom of the sed tank instead of two triangles. \n",
    "                        #Draw a picture to understand why this is. If the jet reverser is\n",
    "                        #(basically) at the center of the width and the angle of repose is 45°,  \n",
    "                        #you will have two mirror-image 45-45-90 triangles of sludge\n",
    "\n",
    "vel_settle = (vel_sed_up_BOD*turb_influent)/sludge_conc #mass conservation, since all the particles  \n",
    "                                                      #that come in settle. This finds a 'settling velocity',\n",
    "                                                      #or a rate of settling.\n",
    "    \n",
    "time_sludge_settling = H_sludge/vel_settle #This is the time it will take for the sludge to settle to this\n",
    "                                           #equivalent height\n",
    "\n",
    "\n",
    "print('It will take ',time_sludge_settling.to(u.day),' for the sludge to settle into the angle of repose.')"
   ]
  },
  {
   "cell_type": "markdown",
   "metadata": {},
   "source": [
    "# 3. Floc blanket density (6 points)\n",
    "The density of the floc blanket increases with the floc blanket clay concentration. A former graduate student determined the following equation based on laboratory measurements using real flocs that contained both clay and coagulant:\n",
    "\n",
    "$$\\rho_{FB} = 0.687C_{FlocSolids} +  \\rho_{Water}$$\n",
    "\n",
    "where $ \\rho_{FB} $ is the density of the floc blanket, $C_{FlocSolids}$ is the concentration of clay in the floc blanket, and $\\rho_{Water}$ is the density of water (assume 20°C).\n",
    "\n",
    "The coeffiecient for $C_{FlocSolids}$ given above is 0.687; however, this value is not fully correct due to some experiemental error. We can analytically determine the coefficent for $C_{FlocSolids}$ to compare it to the experimentally derived value. \n",
    "\n",
    "* Derive an equation for the density of a floc blanket, given the concentration of clay in the floc blanket and calculate the value of the coefficient from first principles. Neglect the effect of the coagulant on the solids concentration. \n",
    "\n",
    "\n",
    "\n"
   ]
  },
  {
   "cell_type": "markdown",
   "metadata": {},
   "source": [
    "### Solution: \n",
    "The density of the floc blanket is a weighted average of clay density and water density, with the weights being the relative amount of clay. $ \\frac{C_{FlocSolids}}{\\rho_{Clay}} $ is a number between 0 and 1 which represents how 'saturated' the floc blanket is with clay.\n",
    "$$  \\rho_{FB} = \\Big(1 - \\frac{C_{FlocSolids}}{\\rho_{Clay}}\\Big)\\rho_{Water} + \\frac{C_{FlocSolids}}{\\rho_{Clay}}\\rho_{Clay}  $$\n",
    "\n",
    "By rearranging, we can get a coefficient for $ C_{FlocSolids} $\n",
    "$$ \\rho_{FB} = C_{FlocSolids}\\Big(\\frac{\\rho_{Clay} - \\rho_{Water}}{\\rho_{Clay}}\\Big) + \\rho_{Water} $$\n"
   ]
  },
  {
   "cell_type": "code",
   "execution_count": 5,
   "metadata": {
    "scrolled": true
   },
   "outputs": [
    {
     "name": "stdout",
     "output_type": "stream",
     "text": [
      "0.6233 dimensionless\n"
     ]
    }
   ],
   "source": [
    "rho_clay = 2650 * u.kg/u.m**3\n",
    "\n",
    "water_density = pc.density_water(20*u.degC)\n",
    "clay_coefficient = (rho_clay - water_density)/rho_clay\n",
    "\n",
    "print(clay_coefficient)"
   ]
  },
  {
   "cell_type": "markdown",
   "metadata": {},
   "source": [
    "# 4. Terminal velocity graphing (10 points)\n",
    "Plot the diameter of the smallest floc that can be reliably captured by a plate settler as a function of temperature. \n",
    "* Use a capture velocity of 0.12 mm/s and a temperature range from 0°C to 35°C.  \n",
    "* The shape factor for the terminal velocity equation is given as `phi_shape_factor`. \n",
    "* Format the graph with axis labels *and a title*. \n",
    "* Neglect the effect of the coagulant on density and model this as a fractal made of clay."
   ]
  },
  {
   "cell_type": "code",
   "execution_count": 31,
   "metadata": {
    "collapsed": true
   },
   "outputs": [],
   "source": [
    "#Given parameters\n",
    "rho_clay = 2650 * u.kg/u.m**3\n",
    "phi_shape_factor = floc.PHI_FLOC\n",
    "diam_clay_primary = 7 * u.um\n",
    "D_FRACTAL = floc.DIAM_FRACTAL"
   ]
  },
  {
   "cell_type": "markdown",
   "metadata": {},
   "source": [
    "### Solution\n",
    "This equation found on Sedimentation powerpoint slide 7\n",
    "$$  \n",
    "   V_{t} = \\frac{ gd_{o}^2 }{ 18 \\Phi \\nu_{H_{2}O} }   \n",
    "            \\frac{ \\rho_{Floc_{0}} - \\rho_{H_{2}O} }{ \\rho_{H_{2}O} } \n",
    "            \\Big(\\frac{d}{d_{0}}\\Big)^{D_{Fractal}-1} \n",
    "$$"
   ]
  },
  {
   "cell_type": "code",
   "execution_count": 25,
   "metadata": {},
   "outputs": [
    {
     "data": {
      "image/png": "[encoded data removed]",
      "text/plain": [
       "<matplotlib.figure.Figure at 0x11d076940>"
      ]
     },
     "metadata": {},
     "output_type": "display_data"
    }
   ],
   "source": [
    "vel_capture = 0.12 * u.mm/u.s\n",
    "temp_array = np.linspace(0,35,100)*u.degC\n",
    "nu_water_array = pc.viscosity_kinematic(temp_array)\n",
    "rho_water_array = pc.density_water(temp_array)\n",
    "\n",
    "\n",
    "diam_array =(diam_clay_primary*(\n",
    "            vel_capture * (  (18*phi_shape_factor*nu_water_array)/(pc.gravity*diam_clay_primary**2)  ) \n",
    "            * (  (rho_water_array)/(rho_clay - rho_water_array)  )\n",
    "            )**(1/(D_FRACTAL-1)))\n",
    "\n",
    "plt.plot(temp_array, diam_array.to(u.um), '-')\n",
    "plt.xlabel('Temperature (degrees Celcius)')\n",
    "plt.ylabel('Floc Diameter (micrometers)')\n",
    "plt.title('Effect of temperature on diameter of flocs that can be captured')\n",
    "plt.show()"
   ]
  },
  {
   "cell_type": "markdown",
   "metadata": {},
   "source": [
    "# 5. Plate Settlers (10 points) \n",
    "Brentwood Industries sells tube settlers with the following characteristics: \n",
    "\n",
    "Tube Settler | Vertical Height | Tube Length | Typical Deign Application Rate\n",
    "---: | :---: | :---: | :---: |\n",
    "IFR-6041 | 41 inch | 47.34 inch | 8.56 m/hr\n",
    "\n",
    "* What is the capture velocity for these tube settlers when operated at their typical application rate? \n",
    "\n",
    "Neglect the effect of the thickness of the tube settler walls. Assume that the tubes have an average spacing normal to the direction of flow of 5 cm (treat them like plate settlers)."
   ]
  },
  {
   "cell_type": "code",
   "execution_count": 29,
   "metadata": {},
   "outputs": [
    {
     "name": "stdout",
     "output_type": "stream",
     "text": [
      "The capture velocity of these plate settlers from Brentwood industries is 0.2084 millimeter / second\n"
     ]
    }
   ],
   "source": [
    "#Given parameters\n",
    "S_tube = 5 * u.cm\n",
    "L_tube = 47.34 *u.inch\n",
    "H_tube = 41 * u.inch\n",
    "vel_brent_up = 8.56 * u.m/u.hr\n",
    "\n",
    "#Calculated Parameters\n",
    "angle_tube = np.arcsin(H_tube/L_tube) # comes out in radians\n",
    "vel_capture = (vel_brent_up*S_tube)  /  (L_tube*(np.sin(angle_tube)*np.cos(angle_tube))  +  S_tube)\n",
    "print('The capture velocity of these plate settlers from Brentwood industries is',vel_capture.to(u.mm/u.s))"
   ]
  },
  {
   "cell_type": "markdown",
   "metadata": {},
   "source": [
    "# 6. Dimensional Analysis (5 points)  \n",
    "The plan view area of floc blankets in an AguaClara plant is $ 50 m^2$. **With the knowledge you have regarding the velocity of water in an AguaClara sedimentation tank,** estimate the population the plant was designed to serve assuming that the per capita water consumption is 3 mL/s.\n"
   ]
  },
  {
   "cell_type": "code",
   "execution_count": 8,
   "metadata": {},
   "outputs": [
    {
     "name": "stdout",
     "output_type": "stream",
     "text": [
      "This plant can serve  16666.0 people.\n"
     ]
    }
   ],
   "source": [
    "#Given parameters\n",
    "area_plan = 50 * u.m**2\n",
    "flow_per_person = 3 * u.mL/u.s\n",
    "vel_sed_up_BOD = 1*u.mm/u.s #this one's the kicker, bet you haven't seen this number before\n",
    "\n",
    "people = area_plan*vel_sed_up_BOD/flow_per_person\n",
    "print('This plant can serve ',np.floor((people.to(u.dimensionless)).magnitude), 'people.')"
   ]
  }
 ],
 "metadata": {
  "kernelspec": {
   "display_name": "Python 3",
   "language": "python",
   "name": "python3"
  },
  "language_info": {
   "codemirror_mode": {
    "name": "ipython",
    "version": 3
   },
   "file_extension": ".py",
   "mimetype": "text/x-python",
   "name": "python",
   "nbconvert_exporter": "python",
   "pygments_lexer": "ipython3",
   "version": "3.6.1"
  }
 },
 "nbformat": 4,
 "nbformat_minor": 2
}
