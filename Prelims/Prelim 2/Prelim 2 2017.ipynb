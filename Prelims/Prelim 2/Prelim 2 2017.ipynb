{
 "cells": [
  {
   "cell_type": "code",
   "execution_count": 1,
   "metadata": {
    "collapsed": true
   },
   "outputs": [],
   "source": [
    "from aide_design.play import*\n",
    "\n",
    "#Below are the items that were imported by the code above so that you know what abbreviations to use in your code.\n",
    "\n",
    "# Third-party imports\n",
    "#import numpy as np\n",
    "#import pandas as pd\n",
    "#import matplotlib.pyplot as plt\n",
    "#import matplotlib\n",
    "\n",
    "# AIDE imports\n",
    "#import aide_design\n",
    "#import aide_design.pipedatabase as pipe\n",
    "#from aide_design.units import unit_registry as u\n",
    "#from aide_design import physchem as pc\n",
    "#import aide_design.expert_inputs as exp\n",
    "#import aide_design.materials_database as mat\n",
    "#import aide_design.utility as ut\n",
    "#import aide_design.k_value_of_reductions_utility as k\n",
    "#import aide_design.pipeline_utility as pipeline\n",
    "#import warnings"
   ]
  },
  {
   "cell_type": "markdown",
   "metadata": {},
   "source": [
    "## Prelim 2"
   ]
  },
  {
   "cell_type": "markdown",
   "metadata": {},
   "source": [
    "<div class=\"alert alert-block alert-info\">\n",
    " \n",
    "# Name this file: Lastname_Firstname_Prelim2"
   ]
  },
  {
   "cell_type": "markdown",
   "metadata": {},
   "source": [
    "# Multiple Choice (4 points each - 12 points)\n",
    "Make your answer **bold** by typing `**` before and after the correct answer.\n",
    "\n",
    "1. In class we talked about the floc volcano phenomenon of the San Nicolas plant. The floc volcano phenomenon occurs when water entering the sed tank is warmer than the water in the sed tank, and stops when the water entering the sed tank becomes colder than the water in the sed tank. Why does colder water stop the floc volcano phenomenon?\n",
    "    1. Colder influent water has a higher viscosity and thus reduces the velocity of the floc volcanoes\n",
    "    1. Colder influent water is more dense than the water in the sedimentation tank and thus the density stratification in the sedimentation tank is stable\n",
    "    1. Flow rate through the plant decreases when the water is colder, and thus floc volcano formation is averted\n",
    "<br>\n",
    "<br>\n",
    "\n",
    "1. Which of the following changes could AguaClara do to further reduce the **depth** of the sedimentation tanks? For each change assume that the other design parameters are held constant while that one change is made.\n",
    "    1. Increase the vertical velocity\n",
    "    1. Increase the capture velocity\n",
    "    1. Increase the spacing between plate settlers (hold capture velocity constant)\n",
    "    1. Increase the water velocity exiting the diffusers \n",
    "<br>\n",
    "<br>\n",
    "\n",
    "1. What does the volume of water in a vertical flow hydraulic flocculator do when the flow rate inceases?\n",
    "    1. Decreases\n",
    "    1. Remains constant\n",
    "    1. Increases"
   ]
  },
  {
   "cell_type": "markdown",
   "metadata": {},
   "source": [
    "***"
   ]
  },
  {
   "cell_type": "markdown",
   "metadata": {},
   "source": [
    "# Short Answer (3 points each - 18 points) \n",
    "Explain your answers as thoroughly as possible.\n",
    "## Double click on this cell to write your answers \n",
    "1.  Give at least 3 reasons why water treatment plants should be enclosed in a building \n",
    "    1. \n",
    "    1. \n",
    "    1. \n",
    "<br>\n",
    "<br>\n",
    "\n",
    "1. List at least 3 problems that can cause sedimentation tanks to perform poorly\n",
    "    1. \n",
    "    1. \n",
    "    1. \n",
    "<br>\n",
    "<br>\n",
    "\n",
    "1. Re-sort the following list according to the amount of solids each unit process removes from highly turbid (for example, 500 NTU) raw water. A is the most solids removal and C is the least solids removal: <br>\n",
    "\n",
    "    1. Flocculation\n",
    "    1. Sedimentation\n",
    "    1. Filtration\n",
    "<br>\n",
    "<br>\n",
    "\n",
    "1. List three reasons why the Sedimentation tank inlet manifold has diffuser pipes.\n",
    "    1. \n",
    "    1. \n",
    "    1. \n",
    "<br>\n",
    "<br>\n",
    "\n",
    "1. How does accumulated sludge in a sedimentation tank cause poor performance?\n",
    "    1. \n",
    "<br>\n",
    "<br>\n",
    "\n",
    "1. Why is it important to be able to send poorly flocculated water to waste BEFORE it enters the sedimentation tank?    \n",
    "    1.  "
   ]
  },
  {
   "cell_type": "markdown",
   "metadata": {},
   "source": [
    "# Design Challenges (70 points)\n",
    "Assign the given inputs to variables. Write the equation in python using variables. ** Make sure to use print statements which put your answer in context, and to display your answer in appropriate units **"
   ]
  },
  {
   "cell_type": "markdown",
   "metadata": {},
   "source": [
    "## 1) Flocculator (27 points)\n",
    "\n",
    "A 60 L/s water treatment plant has a vertical flow hydraulic flocculator. The channels are 50 cm wide, 6 m long, and 2 m deep at the end of the flocculator. The head loss through the flocculator is 40 cm. The minimum water temperature is 15°C.\n",
    "There are 4 channels. The minor loss coefficient for each 180° bend is 2.5.\n",
    "\n",
    "Answer A through F. \n",
    "\n",
    "State any assumptions that you make."
   ]
  },
  {
   "cell_type": "code",
   "execution_count": 3,
   "metadata": {
    "collapsed": true
   },
   "outputs": [],
   "source": [
    "# define your parameters and variables given in the problem statement here:\n"
   ]
  },
  {
   "cell_type": "markdown",
   "metadata": {},
   "source": [
    "### A. (5 points)\n",
    "What is the hydraulic residence time in the flocculator if you neglect the volume change due to head loss?"
   ]
  },
  {
   "cell_type": "code",
   "execution_count": null,
   "metadata": {
    "collapsed": true,
    "scrolled": true
   },
   "outputs": [],
   "source": []
  },
  {
   "cell_type": "markdown",
   "metadata": {},
   "source": [
    "### B. (5 points)\n",
    "What is the average velocity gradient in the flocculator? "
   ]
  },
  {
   "cell_type": "code",
   "execution_count": null,
   "metadata": {
    "collapsed": true
   },
   "outputs": [],
   "source": []
  },
  {
   "cell_type": "markdown",
   "metadata": {},
   "source": [
    "### C. (5 points)\n",
    "What is the collision potential $\\big(G\\theta\\big)$  for this flocculator?"
   ]
  },
  {
   "cell_type": "code",
   "execution_count": null,
   "metadata": {
    "collapsed": true
   },
   "outputs": [],
   "source": []
  },
  {
   "cell_type": "markdown",
   "metadata": {},
   "source": [
    "### D. (5 points)\n",
    "What is the maximum distance between expansions for this flocculator? The maximum ratio of H/S ($\\Pi _{H{S_{Max}}}$) is 6"
   ]
  },
  {
   "cell_type": "code",
   "execution_count": null,
   "metadata": {
    "collapsed": true
   },
   "outputs": [],
   "source": []
  },
  {
   "cell_type": "markdown",
   "metadata": {},
   "source": [
    "### E. (2 points)\n",
    "Is it necessary to include additional expansions in this design to maintain high efficiency?"
   ]
  },
  {
   "cell_type": "markdown",
   "metadata": {},
   "source": [
    "**Your Response Here:**\n",
    "\n"
   ]
  },
  {
   "cell_type": "markdown",
   "metadata": {},
   "source": [
    "### F. (5 points)\n",
    "What is the spacing of the baffles in this flocculator?"
   ]
  },
  {
   "cell_type": "code",
   "execution_count": null,
   "metadata": {
    "collapsed": true
   },
   "outputs": [],
   "source": []
  },
  {
   "cell_type": "markdown",
   "metadata": {},
   "source": [
    "## 2) Sedimentation tank area (5 points)\n",
    "The average water use per person in the US is 3 mL/s. How much floc blanket plan view area does one person require? The floc blanket upflow velocity is 1 mm/s."
   ]
  },
  {
   "cell_type": "code",
   "execution_count": null,
   "metadata": {
    "collapsed": true,
    "scrolled": true
   },
   "outputs": [],
   "source": []
  },
  {
   "cell_type": "markdown",
   "metadata": {},
   "source": [
    "## 3) Plate settler design (15 points)\n",
    "Assume the upflow velocity in AguaClara sedimentation tanks is increased to 3 mm/s,\n",
    "the capture velocity is increased to 0.2 mm/s, the spacing between plates is maintained at 2.5 cm, and the plates are inclined at 60$^{\\circ}$ from the horizontal. You may assume that the vertical velocity entering the plate settlers is 3 mm/s.\n",
    "Answer questions A and B. "
   ]
  },
  {
   "cell_type": "markdown",
   "metadata": {},
   "source": [
    "### A. (10 points)   \n",
    "How long would the plate settlers be? You may neglect the effect of the thickness of the\n",
    "plate settlers. **Create a function** for the equation that you use to solve this problem. Include all the necessary inputs in your function definition."
   ]
  },
  {
   "cell_type": "code",
   "execution_count": null,
   "metadata": {
    "collapsed": true
   },
   "outputs": [],
   "source": []
  },
  {
   "cell_type": "markdown",
   "metadata": {},
   "source": [
    "### B. (5 points)   \n",
    "What is the ** *vertical* ** height of the plate settlers? This will tell us how much of the sedimentation tank depth these plates occupy."
   ]
  },
  {
   "cell_type": "code",
   "execution_count": null,
   "metadata": {
    "collapsed": true
   },
   "outputs": [],
   "source": []
  },
  {
   "cell_type": "markdown",
   "metadata": {},
   "source": [
    "## 4) Head loss through a floc blanket (8 points)\n",
    "### A. (5 points)\n",
    "What is the head loss through a 1 m deep floc blanket with a clay concentration of 3 g/L and an upflow velocity of  1 mm/s? You may assume the water temperature is 20°C. The density of clay is 2650 $\\frac{kg}{m^3}$. This head loss helps ensure a uniform velocity of water leaving the water - floc blanket interface at the top of the floc blanket."
   ]
  },
  {
   "cell_type": "code",
   "execution_count": null,
   "metadata": {
    "collapsed": true
   },
   "outputs": [],
   "source": []
  },
  {
   "cell_type": "markdown",
   "metadata": {},
   "source": [
    "### B. (3 points)\n",
    "Which head loss is greater, the head loss through the floc blanket or the head loss through the plate settlers?"
   ]
  },
  {
   "cell_type": "markdown",
   "metadata": {},
   "source": [
    "**Your Response Here:**\n",
    "\n"
   ]
  },
  {
   "cell_type": "markdown",
   "metadata": {},
   "source": [
    "## 5) Floc Hopper (10 points)\n",
    "The AguaClara 1 L/s sedimentation tank has a floc hopper that is a 3\" PVC pipe that is angled at 60$^{\\circ}$C from the horizontal. The raw water is 1000 NTU and the settled water turbidity is 3 NTU.\n",
    "\n",
    "A sample from the consolidated sludge in the bottom of the floc hopper was diluted by a factor of 100 and the turbidity of the diluted sample was 150 NTU. (Remember that NTU is an approximate measure of concentration and the unit NTU has been defined for you).\n",
    "\n",
    "What flow rate must the floc hopper drain valve be set at to maintain a constant level of the consolidated sludge in the floc hopper? "
   ]
  },
  {
   "cell_type": "code",
   "execution_count": null,
   "metadata": {
    "collapsed": true
   },
   "outputs": [],
   "source": []
  },
  {
   "cell_type": "markdown",
   "metadata": {},
   "source": [
    "## 6) Multiple stage filtration plan view area (5 points)\n",
    "How much area would the unit processes of a multiple stage filtration plant require to provide the water for one person from the US?"
   ]
  },
  {
   "cell_type": "code",
   "execution_count": null,
   "metadata": {
    "collapsed": true
   },
   "outputs": [],
   "source": []
  },
  {
   "cell_type": "markdown",
   "metadata": {},
   "source": [
    "<div class=\"alert alert-block alert-info\">\n",
    "\n",
    "### When you finish the exam:  \n",
    "** * Double check to ensure that your file is named correctly* **\n",
    "\n",
    "Make sure to 'Restart and Run All' before you save for the final time to ensure your outputs show your latest work. Once you have done that, email the .ipynb file to cee4540@gmail.com. Congratulations on finishing the last exam for this course!"
   ]
  }
 ],
 "metadata": {
  "kernelspec": {
   "display_name": "Python 3",
   "language": "python",
   "name": "python3"
  },
  "language_info": {
   "codemirror_mode": {
    "name": "ipython",
    "version": 3
   },
   "file_extension": ".py",
   "mimetype": "text/x-python",
   "name": "python",
   "nbconvert_exporter": "python",
   "pygments_lexer": "ipython3",
   "version": "3.6.1"
  }
 },
 "nbformat": 4,
 "nbformat_minor": 2
}
