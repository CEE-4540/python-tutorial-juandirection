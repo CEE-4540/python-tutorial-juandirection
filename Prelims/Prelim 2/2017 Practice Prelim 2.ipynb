{
 "cells": [
  {
   "cell_type": "code",
   "execution_count": 2,
   "metadata": {
    "collapsed": true
   },
   "outputs": [],
   "source": [
    "from aide_design.play import*\n",
    "from aide_design import floc_model as floc\n",
    "\n",
    "#Below are the items that were imported by the code above so that you know what abbreviations to use in your code.\n",
    "\n",
    "# Third-party imports\n",
    "#import numpy as np\n",
    "#import pandas as pd\n",
    "#import matplotlib.pyplot as plt\n",
    "#import matplotlib\n",
    "\n",
    "# AIDE imports\n",
    "#import aide_design\n",
    "#import aide_design.pipedatabase as pipe\n",
    "#from aide_design.units import unit_registry as u\n",
    "#from aide_design import physchem as pc\n",
    "#import aide_design.expert_inputs as exp\n",
    "#import aide_design.materials_database as mat\n",
    "#import aide_design.utility as ut\n",
    "#import aide_design.k_value_of_reductions_utility as k\n",
    "#import aide_design.pipeline_utility as pipeline\n",
    "#import warnings"
   ]
  },
  {
   "cell_type": "markdown",
   "metadata": {},
   "source": [
    "<div class=\"alert alert-block alert-danger\">\n",
    "\n",
    "# Before you begin this assignment, you must download the lastest version of aide_design. Follow the instructions on the 4540 Wiki, on the [Updating a Package](https://confluence.cornell.edu/display/cee4540/Updating+a+Package) subpage. "
   ]
  },
  {
   "cell_type": "markdown",
   "metadata": {},
   "source": [
    "<div class=\"alert alert-block alert-info\">\n",
    "\n",
    "## Practice Prelim 2 \n",
    "Adapted from Fall 2016 Prelim 2\n",
    "\n",
    "88 points total"
   ]
  },
  {
   "cell_type": "markdown",
   "metadata": {},
   "source": [
    "# Multiple Choice (4 points each, 20 points total)\n",
    "Make your answer **bold** by typing `**` before and after the correct answer.\n",
    "\n",
    "1. Which port has the highest flow in a manifold where pressure recovery exceeds head loss?\n",
    "    1. First port (closest to the inlet channel)\n",
    "    1. Middle port\n",
    "    1. Last port\n",
    "<br>\n",
    "<br>\n",
    "1. What should the design goal be for sludge (settled flocs) in sedimentation tanks?\n",
    "    1. Sludge should be removed with mechanical scrappers \n",
    "    1. Sludge should be removed at least every 6 months so it doesn't get too deep\n",
    "    1. Sludge should not be allowed to accumulate\n",
    "<br>\n",
    "<br>\n",
    "1. How are flocs removed from the floc blanket in the newest AguaClara sedimentation tanks?\n",
    "    1. Flocs flow over the weir into the floc hopper  \n",
    "    1. Sedimentation tanks are taken off line and drained to remove flocs \n",
    "    1. Flocs are removed through orifices in the bottom of the jet reverser \n",
    "<br>\n",
    "<br>\n",
    "1. Which of these pressure changes results in MORE uniform flow from the AguaClara sedimentation tank inlet diffuser pipes?\n",
    "    1. Pressure ecovery in the manifold pipe\n",
    "    1. Exit loss from the diffuser pipe\n",
    "<br>\n",
    "<br>\n",
    "1. As the water temperature increases the floc blanket solids concentration will\n",
    "    1. remain the same\n",
    "    1. increase\n",
    "    1. decrease"
   ]
  },
  {
   "cell_type": "markdown",
   "metadata": {},
   "source": [
    "# Short Answer (16 points total)\n",
    "**1.** Describe 4 consequences that would occur if an AguaClara sedimentation tank inlet manifold were rotated 180° so that the diffusers pointed straight up instead of straight down.\n",
    "    \n",
    "   1. What would happen to the floc blanket? \n",
    "   1. Why would flocs rise through the plate settlers along the centerline of the sedimentation tank? \n",
    "   1. Why would flocs begin to rise along with bubbles in a few weeks?\n",
    "   1. What would happen inside the inlet manifold?\n",
    " \n"
   ]
  },
  {
   "cell_type": "markdown",
   "metadata": {},
   "source": [
    "### Your Answer to 1. here: \n",
    "\n",
    "\n",
    "### Your Answer to 2. here:\n",
    "\n",
    "\n",
    "### Your Answer to 3. here:\n",
    "\n",
    "\n",
    "### Your Answer to 4. here:\n"
   ]
  },
  {
   "cell_type": "markdown",
   "metadata": {},
   "source": [
    "# Design Challenges (52 points)\n",
    "\n",
    "## 1. Head loss in an inlet manifold (15 points)\n",
    "The inlet manifold for an AguaClara sedimentation tank has a nominal diameter of 8 inches and is SDR 26. The sedimentation tank flow rate is 5.5 liters per second. The sedimentation tank width is 1 m and the upflow velocity is 1 mm/s. The center to center distance between diffusers is 5.5 cm. The diffuser slots are 1/8 inches wide and 4.8 cm long. Assume a temperature of 20°C and a PVC pipe roughness of 0.1 mm.\n",
    "\n",
    "The function call for head loss in a manifold is:  \n",
    "`pc.headloss_manifold(FlowRate, Diam, Length, KMinor, Nu, PipeRough, NumOutlets)`\n",
    "\n",
    "\n",
    "**A.** What is the head loss in the inlet manifold pipe from the first port to the last port? (10 points)  "
   ]
  },
  {
   "cell_type": "code",
   "execution_count": null,
   "metadata": {},
   "outputs": [],
   "source": []
  },
  {
   "cell_type": "markdown",
   "metadata": {},
   "source": [
    "**B.** What is the pressure recovery due to deceleration of the flow? (5 points)"
   ]
  },
  {
   "cell_type": "code",
   "execution_count": null,
   "metadata": {},
   "outputs": [],
   "source": []
  },
  {
   "cell_type": "markdown",
   "metadata": {},
   "source": [
    "# 2. Settling sludge (6 points)\n",
    "In general, the settled sludge in the bottom of a sedimentation tank has a concentration of about 300 g/L of clay. AguaClara sedimentation tanks have a sloped bottom to allow for the growth of the floc blanket and to prevent sludge build-up. Flat bottom sedimentation tanks allow sludge to build-up to occur.\n",
    "\n",
    "* How long would it take for the sludge to build up to the angle of repose (of about 45 degrees) in a 1 m wide ** * flat-bottomed * ** sedimentation tank? The angle of repose is the angle of a surface at which flocs begin to slide instead of settle. \n",
    "\n",
    "You may assume the inlet system is the AguaClara diffuser and jet reverser, that the upflow velocity is 1 mm/s, influent turbidity is constant at 25 NTU, and that no flocs leave the sed tank until the sludge builds up entirely. Neglect the small impact of the diameter of the jet reverser in your estimate. You may find it helpful to create a diagram of this problem. What does the sed tank look like before and after the sludge has settled?\n"
   ]
  },
  {
   "cell_type": "code",
   "execution_count": null,
   "metadata": {},
   "outputs": [],
   "source": [
    "#Recall the unit u.NTU"
   ]
  },
  {
   "cell_type": "markdown",
   "metadata": {},
   "source": [
    "# 3. Floc blanket density (6 points)\n",
    "The density of the floc blanket increases with the floc blanket clay concentration. A former graduate student determined the following equation based on laboratory measurements using real flocs that contained both clay and coagulant:\n",
    "\n",
    "$$\\rho_{FB} = 0.687C_{FlocSolids} +  \\rho_{Water}$$\n",
    "\n",
    "where $ \\rho_{FB} $ is the density of the floc blanket, $C_{FlocSolids}$ is the concentration of clay in the floc blanket, and $\\rho_{Water}$ is the density of water (assume 20°C).\n",
    "\n",
    "The coeffiecient for $C_{FlocSolids}$ given above is 0.687; however, this value is not fully correct due to some experiemental error. We can analytically determine the coefficent for $C_{FlocSolids}$ to compare it to the experimentally derived value. \n",
    "\n",
    "* Derive an equation for the density of a floc blanket, given the concentration of clay in the floc blanket and calculate the value of the coefficient from first principles. Neglect the effect of the coagulant on the solids concentration. \n",
    "\n",
    "\n",
    "\n"
   ]
  },
  {
   "cell_type": "code",
   "execution_count": 4,
   "metadata": {
    "scrolled": true
   },
   "outputs": [],
   "source": [
    "rho_clay = 2650 * u.kg/u.m**3"
   ]
  },
  {
   "cell_type": "markdown",
   "metadata": {},
   "source": [
    "# 4. Terminal velocity graphing (10 points)\n",
    "Plot the diameter of the smallest floc that can be reliably captured by a plate settler as a function of temperature. \n",
    "* Use a capture velocity of 0.12 mm/s and a temperature range from 0°C to 35°C.  \n",
    "* The shape factor for the terminal velocity equation is given as `phi_shape_factor`. \n",
    "* Format the graph with axis labels *and a title*. \n",
    "* Neglect the effect of the coagulant on density and model this as a fractal made of clay."
   ]
  },
  {
   "cell_type": "code",
   "execution_count": 31,
   "metadata": {
    "collapsed": true
   },
   "outputs": [],
   "source": [
    "#Given parameters\n",
    "rho_clay = 2650 * u.kg/u.m**3\n",
    "phi_shape_factor = floc.PHI_FLOC\n",
    "diam_clay_primary = 7 * u.um\n",
    "D_FRACTAL = floc.DIAM_FRACTAL"
   ]
  },
  {
   "cell_type": "code",
   "execution_count": null,
   "metadata": {},
   "outputs": [],
   "source": []
  },
  {
   "cell_type": "markdown",
   "metadata": {},
   "source": [
    "# 5. Plate Settlers (10 points) \n",
    "Brentwood Industries sells tube settlers with the following characteristics: \n",
    "\n",
    "Tube Settler | Vertical Height | Tube Length | Typical Deign Application Rate\n",
    "---: | :---: | :---: | :---: |\n",
    "IFR-6041 | 41 inch | 47.34 inch | 8.56 m/hr\n",
    "\n",
    "* What is the capture velocity for these tube settlers when operated at their typical application rate? \n",
    "\n",
    "Neglect the effect of the thickness of the tube settler walls. Assume that the tubes have an average spacing normal to the direction of flow of 5 cm (treat them like plate settlers)."
   ]
  },
  {
   "cell_type": "code",
   "execution_count": null,
   "metadata": {},
   "outputs": [],
   "source": []
  },
  {
   "cell_type": "markdown",
   "metadata": {},
   "source": [
    "# 6. Dimensional Analysis (5 points)  \n",
    "The plan view area of floc blankets in an AguaClara plant is $ 50 m^2$. **With the knowledge you have regarding the velocity of water in an AguaClara sedimentation tank,** estimate the population the plant was designed to serve assuming that the per capita water consumption is 3 mL/s.\n"
   ]
  },
  {
   "cell_type": "code",
   "execution_count": null,
   "metadata": {},
   "outputs": [],
   "source": []
  }
 ],
 "metadata": {
  "kernelspec": {
   "display_name": "Python 3",
   "language": "python",
   "name": "python3"
  },
  "language_info": {
   "codemirror_mode": {
    "name": "ipython",
    "version": 3
   },
   "file_extension": ".py",
   "mimetype": "text/x-python",
   "name": "python",
   "nbconvert_exporter": "python",
   "pygments_lexer": "ipython3",
   "version": "3.6.1"
  }
 },
 "nbformat": 4,
 "nbformat_minor": 2
}
